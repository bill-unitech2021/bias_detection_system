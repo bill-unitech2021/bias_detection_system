{
 "cells": [
  {
   "cell_type": "markdown",
   "id": "8511c332",
   "metadata": {},
   "source": [
    "# Data Cleaning and Preparing"
   ]
  },
  {
   "cell_type": "markdown",
   "id": "2b222c48",
   "metadata": {},
   "source": [
    "## Step 1: initialization "
   ]
  },
  {
   "cell_type": "code",
   "execution_count": 9,
   "id": "7e7f557f",
   "metadata": {},
   "outputs": [],
   "source": [
    "import pandas as pd\n",
    "import numpy as np\n",
    "\n",
    "import nltk\n",
    "import string\n",
    "import re\n",
    "\n",
    "from nltk.corpus import stopwords\n",
    "from nltk.stem import WordNetLemmatizer\n",
    "from nltk.stem.porter import PorterStemmer\n",
    "from nltk.tokenize import word_tokenize, sent_tokenize"
   ]
  },
  {
   "cell_type": "code",
   "execution_count": 18,
   "id": "20ea67c0",
   "metadata": {},
   "outputs": [
    {
     "name": "stderr",
     "output_type": "stream",
     "text": [
      "[nltk_data] Downloading package stopwords to\n",
      "[nltk_data]     C:\\Users\\Administrator\\AppData\\Roaming\\nltk_data...\n",
      "[nltk_data]   Package stopwords is already up-to-date!\n",
      "[nltk_data] Downloading package punkt to\n",
      "[nltk_data]     C:\\Users\\Administrator\\AppData\\Roaming\\nltk_data...\n",
      "[nltk_data]   Package punkt is already up-to-date!\n",
      "[nltk_data] Downloading package wordnet to\n",
      "[nltk_data]     C:\\Users\\Administrator\\AppData\\Roaming\\nltk_data...\n",
      "[nltk_data]   Package wordnet is already up-to-date!\n",
      "[nltk_data] Downloading package omw-1.4 to\n",
      "[nltk_data]     C:\\Users\\Administrator\\AppData\\Roaming\\nltk_data...\n"
     ]
    },
    {
     "name": "stdout",
     "output_type": "stream",
     "text": [
      "['i', 'me', 'my', 'myself', 'we', 'our', 'ours', 'ourselves', 'you', \"you're\", \"you've\", \"you'll\", \"you'd\", 'your', 'yours', 'yourself', 'yourselves', 'he', 'him', 'his', 'himself', 'she', \"she's\", 'her', 'hers', 'herself', 'it', \"it's\", 'its', 'itself', 'they', 'them', 'their', 'theirs', 'themselves', 'what', 'which', 'who', 'whom', 'this', 'that', \"that'll\", 'these', 'those', 'am', 'is', 'are', 'was', 'were', 'be', 'been', 'being', 'have', 'has', 'had', 'having', 'do', 'does', 'did', 'doing', 'a', 'an', 'the', 'and', 'but', 'if', 'or', 'because', 'as', 'until', 'while', 'of', 'at', 'by', 'for', 'with', 'about', 'against', 'between', 'into', 'through', 'during', 'before', 'after', 'above', 'below', 'to', 'from', 'up', 'down', 'in', 'out', 'on', 'off', 'over', 'under', 'again', 'further', 'then', 'once', 'here', 'there', 'when', 'where', 'why', 'how', 'all', 'any', 'both', 'each', 'few', 'more', 'most', 'other', 'some', 'such', 'no', 'nor', 'not', 'only', 'own', 'same', 'so', 'than', 'too', 'very', 's', 't', 'can', 'will', 'just', 'don', \"don't\", 'should', \"should've\", 'now', 'd', 'll', 'm', 'o', 're', 've', 'y', 'ain', 'aren', \"aren't\", 'couldn', \"couldn't\", 'didn', \"didn't\", 'doesn', \"doesn't\", 'hadn', \"hadn't\", 'hasn', \"hasn't\", 'haven', \"haven't\", 'isn', \"isn't\", 'ma', 'mightn', \"mightn't\", 'mustn', \"mustn't\", 'needn', \"needn't\", 'shan', \"shan't\", 'shouldn', \"shouldn't\", 'wasn', \"wasn't\", 'weren', \"weren't\", 'won', \"won't\", 'wouldn', \"wouldn't\"]\n"
     ]
    }
   ],
   "source": [
    "#initialize the lematizer and stemmer, which will be used later.\n",
    "lemmatizer = WordNetLemmatizer()\n",
    "stemmer = PorterStemmer()\n",
    "\n",
    "#to be used in the cleaning function\n",
    "nltk.download('stopwords')\n",
    "nltk.download('punkt')\n",
    "nltk.download('wordnet')\n",
    "nltk.download('omw-1.4')\n",
    "\n",
    "print(stopwords.words('english'))\n",
    "#print(stopwords.words('chinese'))"
   ]
  },
  {
   "cell_type": "markdown",
   "id": "1430196d",
   "metadata": {},
   "source": [
    "## Step 2: Clean the Data\n",
    "The dataset, EMSCAD, is downloaded from Kaggle, the link is here:\n",
    "https://www.kaggle.com/datasets/amruthjithrajvr/recruitment-scam"
   ]
  },
  {
   "cell_type": "code",
   "execution_count": 11,
   "id": "81a7cda4",
   "metadata": {},
   "outputs": [
    {
     "name": "stdout",
     "output_type": "stream",
     "text": [
      "The shape of the dataframe is (17880, 18)\n"
     ]
    }
   ],
   "source": [
    "#load the EMSCAD dataset\n",
    "df = pd.read_csv('./DataSet.csv')\n",
    "print(\"The shape of the dataframe is\",df.shape) "
   ]
  },
  {
   "cell_type": "markdown",
   "id": "1291776c",
   "metadata": {},
   "source": [
    "### Get the dataframe for only the Job description column."
   ]
  },
  {
   "cell_type": "code",
   "execution_count": 12,
   "id": "5d9a1457",
   "metadata": {},
   "outputs": [
    {
     "name": "stdout",
     "output_type": "stream",
     "text": [
      "The shape of the dataframe is (17880, 1)\n",
      "Display one Job description sample:\n",
      "\n",
      "<p>Food52, a fast-growing, James Beard Award-winning online food community and crowd-sourced and curated recipe hub, is currently interviewing full- and part-time unpaid interns to work in a small team of editors, executives, and developers in its New York City headquarters.</p>\r\n",
      "<ul>\r\n",
      "<li>Reproducing and/or repackaging existing Food52 content for a number of partner sites, such as Huffington Post, Yahoo, Buzzfeed, and more in their various content management systems</li>\r\n",
      "<li>Researching blogs and websites for the Provisions by Food52 Affiliate Program</li>\r\n",
      "<li>Assisting in day-to-day affiliate program support, such as screening affiliates and assisting in any affiliate inquiries</li>\r\n",
      "<li>Supporting with PR &amp; Events when needed</li>\r\n",
      "<li>Helping with office administrative work, such as filing, mailing, and preparing for meetings</li>\r\n",
      "<li>Working with developers to document bugs and suggest improvements to the site</li>\r\n",
      "<li>Supporting the marketing and executive staff</li>\r\n",
      "</ul>\n"
     ]
    }
   ],
   "source": [
    "df_jd = pd.DataFrame(df['description'])\n",
    "print(\"The shape of the dataframe is\", df_jd.shape) \n",
    "print(\"Display one Job description sample:\\n\") \n",
    "print(df_jd['description'][0]) "
   ]
  },
  {
   "cell_type": "markdown",
   "id": "1c922e7b",
   "metadata": {},
   "source": [
    "### To display the Job description sample in a more readable way."
   ]
  },
  {
   "cell_type": "code",
   "execution_count": 13,
   "id": "09204a29",
   "metadata": {},
   "outputs": [
    {
     "data": {
      "text/html": [
       "<p>Food52, a fast-growing, James Beard Award-winning online food community and crowd-sourced and curated recipe hub, is currently interviewing full- and part-time unpaid interns to work in a small team of editors, executives, and developers in its New York City headquarters.</p>\r\n",
       "<ul>\r\n",
       "<li>Reproducing and/or repackaging existing Food52 content for a number of partner sites, such as Huffington Post, Yahoo, Buzzfeed, and more in their various content management systems</li>\r\n",
       "<li>Researching blogs and websites for the Provisions by Food52 Affiliate Program</li>\r\n",
       "<li>Assisting in day-to-day affiliate program support, such as screening affiliates and assisting in any affiliate inquiries</li>\r\n",
       "<li>Supporting with PR &amp; Events when needed</li>\r\n",
       "<li>Helping with office administrative work, such as filing, mailing, and preparing for meetings</li>\r\n",
       "<li>Working with developers to document bugs and suggest improvements to the site</li>\r\n",
       "<li>Supporting the marketing and executive staff</li>\r\n",
       "</ul>"
      ],
      "text/plain": [
       "<IPython.core.display.HTML object>"
      ]
     },
     "metadata": {},
     "output_type": "display_data"
    }
   ],
   "source": [
    "from IPython.core.display import display, HTML\n",
    "display(HTML(df_jd['description'][0]))"
   ]
  },
  {
   "cell_type": "markdown",
   "id": "bc4ea9af",
   "metadata": {},
   "source": [
    "### Prepare the cleaning function"
   ]
  },
  {
   "cell_type": "code",
   "execution_count": 23,
   "id": "614351e4",
   "metadata": {},
   "outputs": [],
   "source": [
    "# remove the HTML tags\n",
    "def striphtml(data):\n",
    "    p = re.compile(r'<.*?>')\n",
    "    return p.sub('', data)\n",
    "\n",
    "\n",
    "def clean(text):\n",
    "    \n",
    "    # remove the HTML tags\n",
    "    text = striphtml(text)\n",
    "    \n",
    "    # Lowercase text\n",
    "    text = text.lower()\n",
    "    \n",
    "    # Remove punctuation\n",
    "    text = text.replace(':', ' ')\n",
    "    text = text.replace('\\'', ' ')\n",
    "    translator = str.maketrans('', '', string.punctuation)\n",
    "    text = text.translate(translator)\n",
    "    \n",
    "    # Remove extra spaces from text\n",
    "    text = \" \".join(text.split())\n",
    "    \n",
    "    # Remove stopwords function\n",
    "    # Tokenize : get a list of tokens\n",
    "    stop_words = set(stopwords.words(\"english\")) # nltk.download('stopwords') - this is done at the begining\n",
    "    word_tokens = word_tokenize(text)\n",
    "    text = [word for word in word_tokens if word not in stop_words]\n",
    "    \n",
    "    # Lemmatize words\n",
    "    text = [lemmatizer.lemmatize(word, pos ='v') for word in text]\n",
    "    \n",
    "    # Stem words\n",
    "    text = [stemmer.stem(word) for word in text]\n",
    "    \n",
    "    return text"
   ]
  },
  {
   "cell_type": "code",
   "execution_count": 24,
   "id": "69b80cad",
   "metadata": {},
   "outputs": [
    {
     "name": "stdout",
     "output_type": "stream",
     "text": [
      "['organis', 'focu', 'vibrant', 'awesomedo', 'passion', 'custom', 'servic', 'slick', 'type', 'skill', 'mayb', 'account', 'manag', 'think', 'administr', 'cooler', 'polar', 'bear', 'jetski', 'need', 'hear', 'cloud', 'video', 'product', 'servic', 'opper', 'glodal', 'level', 'yeah', 'pretti', 'cool', 'seriou', 'deliv', 'world', 'class', 'product', 'excel', 'custom', 'serviceour', 'rapidli', 'expand', 'busi', 'look', 'talent', 'project', 'manag', 'manag', 'success', 'deliveri', 'video', 'project', 'manag', 'client', 'commun', 'drive', 'product', 'process', 'work', 'coolest', 'brand', 'planet', 'learn', 'global', 'team', 'repres', 'nz', 'huge', 'way', 'enter', 'next', 'growth', 'stage', 'busi', 'grow', 'quickli', 'intern', 'therefor', 'posit', 'burst', 'opportun', 'right', 'person', 'enter', 'busi', 'right', 'time', '90', 'second', 'world', 'cloud', 'video', 'product', 'servic', 'http', '90urlfbe6559afac620a3cd2c22281f7b8d0eef56a73e3d9a311e2f1ca13d081dd630', '90', 'second', 'world', 'cloud', 'video', 'product', 'servic', 'enabl', 'brand', 'agenc', 'get', 'high', 'qualiti', 'onlin', 'video', 'content', 'shoot', 'produc', 'anywher', 'world', 'fast', 'afford', 'manag', 'seamlessli', 'cloud', 'purchas', 'publish', '90', 'second', 'remov', 'hassl', 'cost', 'risk', 'speed', 'issu', 'work', 'regular', 'video', 'product', 'compani', 'manag', 'everi', 'aspect', 'video', 'project', 'beauti', 'onlin', 'experi', 'grow', 'network', '2000', 'rat', 'video', 'profession', '50', 'countri', 'dedic', 'product', 'success', 'team', '5', 'countri', 'guarante', 'video', 'project', 'success', '100', 'easi', 'commiss', 'quick', 'googl', 'adword', 'campaign90', 'second', 'produc', 'almost', '4000', 'video', '30', 'countri', '500', 'global', 'brand', 'includ', 'world', 'largest', 'includ', 'paypal', 'l', 'oreal', 'soni', 'barclay', 'offic', 'auckland', 'london', 'sydney', 'tokyo', 'amp', 'singaporeour', 'auckland', 'offic', 'base', 'right', 'heart', 'wynyard', 'quarter', 'innov', 'precinct', 'gridakl']\n",
      "['client', 'locat', 'houston', 'activ', 'seek', 'experi', 'commiss', 'machineri', 'assist', 'possess', 'strong', 'supervisori', 'skill', 'attent', 'detail', 'strong', 'dedic', 'safeti', 'must', 'ideal', 'candid', 'execut', 'activ', 'compli', 'qualiti', 'requir', 'health', 'environment', 'safeti', 'regul']\n",
      "['compani', 'esri', '–', 'environment', 'system', 'research', 'institut', 'passion', 'improv', 'qualiti', 'life', 'geographi', 'heart', 'everyth', 'esri', '’', 'geograph', 'inform', 'system', 'gi', 'technolog', 'inspir', 'enabl', 'govern', 'univers', 'busi', 'worldwid', 'save', 'money', 'live', 'environ', 'deeper', 'understand', 'chang', 'world', 'around', 'care', 'manag', 'growth', 'zero', 'debt', 'give', 'esri', 'stabil', 'uncommon', 'today', 'volatil', 'busi', 'world', 'privat', 'hold', 'offer', 'except', 'benefit', 'competit', 'salari', '401k', 'profitshar', 'program', 'opportun', 'person', 'profession', 'growth', 'much', 'opportun', 'account', 'execut', 'member', 'sale', 'divis', 'work', 'collabor', 'account', 'team', 'order', 'sell', 'promot', 'adopt', 'esri', '’', 'arcgi', 'platform', 'within', 'organ', 'part', 'account', 'team', 'respons', 'facilit', 'develop', 'execut', 'set', 'strategi', 'defin', 'portfolio', 'account', 'execut', 'strategi', 'util', 'experi', 'enterpris', 'sale', 'help', 'custom', 'leverag', 'geospati', 'inform', 'technolog', 'achiev', 'busi', 'goal', 'specifically…', 'prospect', 'develop', 'opportun', 'partner', 'key', 'stakehold', 'envis', 'develop', 'implement', 'locat', 'strategi', 'organ', 'clearli', 'articul', 'strength', 'valu', 'proposit', 'arcgi', 'platform', 'develop', 'maintain', 'healthi', 'pipelin', 'opportun', 'busi', 'growth', 'demonstr', 'thought', 'understand', 'insight', 'industri', 'knowledg', 'gi', 'appli', 'initi', 'trend', 'trigger', 'understand', 'key', 'busi', 'driver', 'within', 'organ', 'identifi', 'key', 'busi', 'stakehold', 'understand', 'custom', '’', 'budget', 'acquisit', 'process', 'success', 'execut', 'account', 'manag', 'process', 'includ', 'account', 'priorit', 'account', 'resourc', 'account', 'plan', 'success', 'execut', 'sale', 'process', 'opportun', 'leverag', 'lead', 'account', 'team', 'consist', 'sale', 'crossdivision', 'resourc', 'defin', 'execut', 'account', 'strategi', 'effect', 'util', 'leverag', 'crm', 'manag', 'opportun', 'drive', 'buy', 'process', 'pursu', 'profession', 'person', 'develop', 'ensur', 'competit', 'knowledg', 'real', 'estat', 'industri', 'leverag', 'social', 'media', 'success', 'prospect', 'build', 'profession', 'network', 'particip', 'trade', 'show', 'workshop', 'seminar', 'requir', 'support', 'visual', 'stori', 'tell', 'effect', 'whiteboard', 'session', 'resourc', 'take', 'initi', 'resolv', 'issu']\n",
      "['job', 'titl', 'item', 'review', 'manag', 'locat', 'fort', 'worth', 'tx', 'depart', 'item', 'review', 'report', 'vp', 'oper', 'gener', 'descript', 'respons', 'overal', 'aspect', 'item', 'review', 'oper', 'personnel', 'hire', 'qualiti', 'control', 'process', 'workflow', 'monitor', 'track', 'account', 'staff', 'regard', 'product', 'standard', 'depart', 'expect', 'duti', 'respons', 'overse', 'compani', '’', 'item', 'review', 'depart', 'oper', 'respons', 'encourag', 'reinforc', 'compani', 'cultur', 'develop', 'process', 'better', 'depart', 'implement', 'new', 'proceduresprotocol', 'work', 'custom', 'servic', 'elev', 'issu', 'provid', 'call', 'implement', 'audit', 'polici', 'conjunct', 'polici', 'payment', 'integr', 'depart', 'monitor', 'qualityand', 'qualiti', 'control', 'result', 'depart', 'respons', 'ensur', 'overal', 'metric', 'complianc', 'manag', 'client', 'expect', 'respons', 'human', 'resourc', 'matter', 'directli', 'relat', 'depart', 'supervis', 'ie', 'interview', 'hire', 'train', 'annual', 'evalu', 'electron', 'time', 'card', 'address', 'personnel', 'issu', 'may', 'createreview', 'daili', 'weekli', 'monthli', 'report', 'invoic', 'log', 'expens', 'addit', 'dutiesrespons', 'assign', 'compli', 'safeti', 'rulesregul', 'conjunct', 'injuri', 'ill', 'prevent', 'program', '“', 'iipp', '”', 'well', 'maintain', 'hipaa', 'complianc', 'occasion', 'interact', 'custom']\n",
      "['job', 'overview', 'apex', 'environment', 'consult', 'firm', 'offer', 'stabl', 'leadership', 'growth', 'view', 'employe', 'valuabl', 'resourc', 'seek', 'selfmotiv', 'multifacet', 'account', 'payabl', 'clerk', 'join', 'team', 'rockvil', 'md', 'becom', 'integr', 'part', 'continu', 'success', 'stori', 'posit', 'entail', 'process', 'high', 'volum', 'invoic', 'work', 'fast', 'pace', 'environ', 'key', 'verifi', 'variou', 'type', 'invoic', 'gener', 'ledger', 'account', 'job', 'number', 'submit', 'vendor', 'compani', 'personnel', 'calcul', 'balanc', 'due', 'vendor', 'review', 'histori', 'prior', 'payment', 'make', 'account', 'candid', 'must', 'abl', 'answer', 'vendor', 'personnel', 'inquiri', 'via', 'phone', 'email', 'qualif', 'posit', 'requir', 'high', 'school', 'diploma', '25', 'year', 'relev', 'work', 'experi', 'keen', 'attent', 'detail', 'knowledg', 'commonlyus', 'concept', 'practic', 'procedur', 'within', 'account', 'field', 'experi', 'account', 'softwar', 'profici', 'ms', 'offic', 'suit', 'includ', 'advanc', 'excel', 'experi', 'high', 'degre', 'profession', 'want', 'join', 'team', 'talent', 'account', 'profession', 'engin', 'manag', 'submit', 'resum', 'consider', 'today', 'urlf030e16ff4531e87a62857357985e3e8f1fdedb40dbfebfeb0e7e3a5ead65097', 'apex', 'apex', 'customerfocus', 'compani', 'deliv', 'environment', 'health', 'safeti', 'engin', 'servic', '700', 'client', 'across', 'unit', 'state', 'abroad', 'drive', 'entrepreneuri', 'spirit', 'dedic', 'provid', 'respons', 'costeffect', 'solut', 'apex', 'grow', 'rapidli', 'sinc', 'found', '1988', 'work', 'partnership', 'public', 'privat', 'sector', 'client', 'team', 'expert', 'provid', 'servic', 'tailor', 'support', 'custom', '’', 'uniqu', 'goal', 'object', 'blend', 'strong', 'technic', 'skill', 'busi', 'acumen', 'superior', 'custom', 'servic', 'abl', 'deliv', 'creativ', 'solut', 'deliv', 'high', 'qualiti', 'result', 'low', 'cost', 'commerci', 'industri', 'firm', 'construct', 'petroleum', 'util', 'compani', 'financi', 'institut', 'govern', 'client', 'apex', 'extens', 'experi', 'wide', 'varieti', 'industri', 'corpor', 'profession', 'resum', 'includ', 'prove', 'capabl', 'area', 'water', 'resourc', 'remedi', 'restor', 'assess', 'complianc', 'industri', 'hygien', 'among', 'other', 'rank', 'top', '200', 'environment', 'firm', 'enr', 'magazin', 'rank', 'among', 'top', '500', 'design', 'firm', 'enr', 'magazin', 'award', '2011', 'nation', 'environment', 'excel', 'award', 'environment', 'stewardship', 'nation', 'associ', 'environment', 'profession', 'select', '2010', 'hot', 'firm', 'zweig', 'letter', 'come', 'join', 'award', 'win', 'team', 'apex', 'entrepreneuri', 'firm', 'ensur', 'senior', 'manag', 'abl', 'move', 'unencumb', 'prioriti', 'success', 'grow', 'midsiz', 'firm', '’', 'small', 'enough', 'employe', 'still', 'access', 'leadership', '’', 'easi', 'highperform', 'recogn', 'contribut', 'advanc', 'without', 'bureaucraci', '30', 'offic', 'locat', '’', 'big', 'enough', 'provid', 'comprehens', 'environment', 'consult', 'engin', 'servic', 'divers', 'client', 'base', 'provid', 'resourc', 'employe', 'help', 'profession', 'develop', 'offer', 'incent', 'bonu', 'plan', 'ownership', 'opportun', 'success', 'manag', 'apex', 'compani', 'llc', 'affirm', 'actionequ', 'opportun', 'employ']\n",
      "['respons', 'manag', 'englishspeak', 'editori', 'team', 'build', 'team', 'bestinclass', 'editor', 'set', 'content', 'creation', 'schedul', 'ensur', 'deadlin', 'adher', 'research', 'write', 'latest', 'tech', 'topic', 'news', 'relat', 'android', 'ecosystem', 'ensur', 'content', 'site', 'consist', 'high', 'qualiti', 'face', 'voic', 'url874846adb69d98865d05ec57ce2425d9e363ef71e0c8436e59e86a136a508716']\n",
      "['airenvi', 'hey', 'season', 'entrepreneur', 'heart', 'san', 'francisco', '’', 'soma', 'neighborhood', 'look', 'someon', 'embodi', 'entrepreneuri', 'spirit', 'pay', 'strong', 'attent', 'detail', 'want', 'part', 'next', 'big', 'thing', 'busi', 'feel', 'like', 'circu', 'time', 'allstar', 'team', 'one', 'kind', 'cultur', 'get', 'littl', 'tast', 'airenvi', '1', 'technolog', 'drive', 'properti', 'manag', 'compani', 'multibillion', 'dollar', 'industri', 'revolution', 'vacat', 'rental', 'space', 'grow', 'record', 'speed', 'expand', 'new', 'market', 'platform', 'allow', 'owner', 'put', 'vacat', 'rental', 'autopilot', 'prove', 'team', 'startup', 'veteran', 'would', 'love', 'join', 'famili', '2014', 'name', '1', 'airbnb', 'properti', 'manag', 'compani', 'san', 'francisco', 'accord', 'sf', 'chronicl', '18', 'support', 'resourc', 'investor', 'mani', 'leader', 'technolog', 'real', 'estat', 'industri', 'posit', 'want', 'ultim', 'peac', 'keeper', 'amp', 'problem', 'solver', 'airenvi', 'grow', 'faster', 'handl', '’', 'look', 'someon', 'help', 'us', 'scale', 'seek', 'bestinclass', 'lead', 'guest', 'servic', 'specialist', 'passion', 'delight', 'guest', 'owner', '’', 'play', 'direct', 'role', 'improv', 'custom', 'experi', 'scale', 'busi', 'creat', 'power', 'brand', 'advoc', 'respons', 'servic', 'first', 'interact', 'guest', 'owner', 'daili', 'listen', 'address', 'inquiri', 'via', 'phone', 'email', 'chat', 'leadership', 'set', 'preced', 'write', 'beauti', 'help', 'email', 'get', 'inboxzero', 'first', 'answer', 'phone', 'last', 'giveup', 'interest', 'escal', 'cross', 'collabor', 'act', 'eye', 'ear', 'airenvi', 'busi', 'speakto', 'bug', 'request', 'new', 'featur', 'influenc', 'product', 'posit', 'ultim', 'multitask', '’', 'abl', 'manag', 'multipl', 'daytoday', 'gift', '’', 'abl', 'ensur', 'person', 'contact', 'airenvi', 'posit', 'experi', 'even', 'face', 'hundr', 'email', 'day', 'prove', 'abil', 'take', 'custom', 'irat', 'delight', 'abl', 'make', 'decis', 'quickli', 'high', 'sens', 'urgenc', 'spill', 'team', 'member', 'passion', 'delight', 'peopl', 'thrive', 'pressur', '’', 'proactiv', 'recogn', 'solv', 'issu', 'aris', 'excel', 'write', 'verbal', 'commun', 'skill', 'spot', 'error', 'without', 'spell', 'check', 'focu', 'defin', 'scale', 'busi', 'thru', 'playbook', 'definit']\n",
      "['implementationconfigurationtestingtrain', 'hp', 'servic', 'health', 'report']\n",
      "['custom', 'servic', 'associ', 'base', 'phoenix', 'az', 'right', 'candid', 'integr', 'part', 'talent', 'team', 'support', 'continu', 'growth', 'respons', 'perform', 'variou', 'mail', 'center', 'activ', 'sort', 'meter', 'fold', 'insert', 'deliveri', 'pickup', 'etc', 'lift', 'heavi', 'box', 'file', 'paper', 'need', 'maintain', 'highest', 'level', 'custom', 'care', 'demonstr', 'friendli', 'cooper', 'attitud', 'demonstr', 'flexibl', 'satisfi', 'custom', 'demand', 'high', 'volum', 'product', 'environ', 'consist', 'adher', 'busi', 'procedur', 'guidelin', 'adher', 'safeti', 'procedur', 'take', 'direct', 'supervisor', 'site', 'manag', 'maintain', 'log', 'report', 'document', 'attent', 'detail', 'particip', 'crosstrain', 'perform', 'duti', 'assign', 'file', 'outgo', 'shipment', 'etc', 'oper', 'mail', 'copi', 'scan', 'equip', 'ship', 'amp', 'receiv', 'handl', 'timesensit', 'materi', 'like', 'confidenti', 'urgent', 'packag', 'perform', 'task', 'assign', 'scan', 'incom', 'mail', 'recipi', 'perform', 'file', 'purg', 'pull', 'creat', 'file', 'ship', 'file', 'provid', 'backfil', 'need', 'enter', 'inform', 'daili', 'spreadsheet', 'identifi', 'charg', 'match', 'bill', 'sort', 'deliv', 'mail', 'small', 'packag']\n",
      "['posit', 'url86fd830a95a64e2b30ceed829e63fd384c289e4f01e3c93608b42a84f6e662dd', 'developerjob', 'locat', 'unit', 'statesnew', 'jerseyjersey', 'cityu', 'work', 'statu', 'requir', 'ead', 'green', 'card', 'us', 'citizen', 'detail', 'descriptionurl86fd830a95a64e2b30ceed829e63fd384c289e4f01e3c93608b42a84f6e662dd', 'develop', 'strong', 'sql', 'amp', 'vbnet', 'work', 'highli', 'effect', 'softwar', 'develop', 'team', 'respons', 'develop', 'enhanc', 'idb', 'report', 'bill', 'system', 'work', 'effort', 'perform', 'accord', 'polici', 'procedur', 'relat', 'softwar', 'develop', 'qualitybackground', 'develop', '5', 'year', 'develop', 'experi', 'use', 'url86fd830a95a64e2b30ceed829e63fd384c289e4f01e3c93608b42a84f6e662dd', 'vbnet', 'includ', '35', 'year', 'sql', 'developmentrequir', '•', 'colleg', 'degree•', 'experi', 'build', 'web', 'base', 'applic', 'use', 'url86fd830a95a64e2b30ceed829e63fd384c289e4f01e3c93608b42a84f6e662dd', 'sql', 'server•', 'expert', 'level', 'handson', 'experi', 'write', 'sql', 'server', 'store', 'procedures•', 'profici', 'ms', 'offic', 'product', 'excel', 'access', 'word', 'outlook•', 'work', 'role', 'involv', 'creation', 'report', 'intern', 'manag', 'andor', 'extern', 'customers•', 'experi', 'develop', 'anoth', 'scriptingfrontend', 'language•', 'excel', 'commun', 'skillsif', 'interest', 'pleas', 'send', 'updat', 'profil', 'email897dfb1f33f6c34f2bed521623e9808aa4e62d89a6c0284cfe89393e4457e628hir', 'sale', 'account', 'directoradvertisingdigit', 'salesposit', 'sale', 'account', 'director', 'pacif', 'northwestjob', 'locat', 'unit', 'stateswashingtonseattleu', 'work', 'statu', 'requir', 'ead', 'green', 'card', 'us', 'citizen', 'requir', '•3', 'year', 'advertisingdigit', 'sale', 'experi', 'preferr', 'region•', 'provid', 'forecast', 'inform', 'management•proven', 'success', 'prospectingcoldcal', 'region', 'accounts•proven', 'experi', 'automot', 'tech', 'health', 'care', 'travel', 'categori', 'among', 'others•speci', 'experi', 'handson', 'agenc', 'account', 'manag', '•selfstart', 'rollupyoursleev', 'mentality•', 'work', 'intern', 'team', 'solv', 'problems•solid', 'grasp', 'interact', 'media', 'includ', 'variou', 'price', 'model', 'target', 'technolog', 'ad', 'serving•bachelor', 'degree•strong', 'longdist', 'commun', 'skill', 'use', 'email', 'instant', 'messeng', 'platform', 'phone•high', 'technic', 'aptitud', 'learn', 'work', 'within', 'desktop', 'webbas', 'applic', 'window', 'microsoft', 'offic', 'dsp', 'ad', 'exchang', '•abil', 'calcul', 'analyz', 'data', 'base', 'standard', 'digit', 'advertis', 'costper', 'metric', 'cpm', 'cpc', 'cpa', 'etc•detailori', 'strong', 'organiz', 'skill', 'multitask', 'ability•', 'work', 'effici', 'effect', 'tight', 'deadlin', 'strong', 'sens', 'urgency•person', 'work', 'effect', 'within', 'fastmov', 'environ', 'mani', 'differ', 'type', 'people•desir', 'abil', 'work', 'home']\n",
      "['transferwis', 'clever', 'new', 'way', 'move', 'money', 'countri', 'cofound', 'skype', '’', 'first', 'employe', 'back', 'planet', 'experi', 'innov', 'includ', 'sir', 'richard', 'branson', 'paypal', 'founder', 'peter', 'thiel', 'disrupt', 'world', 'currenc', 'amp', 'intern', 'money', 'transfer', 'mean', 'flip', 'gazillion', 'dollar', 'industri', 'head', 'take', 'power', 'away', 'bank', 'establish', 'base', 'old', 'street', 'hub', 'london', '’', 'start', 'scene', '’', 'grow', 'extraordinari', 'rate', 'current', '200', 'peopl', 'strong', 'handl', 'mani', 'million', 'pound', 'daili', 'critic', 'right', 'team', 'behind', 'vision', 'play', 'key', 'part', 'build', 'team', '50', 'today', '100150', 'hyper', 'growth', 'phase', '’', 'either', 'work', 'sourcer', 'internettechnolog', 'busi', 'agenc', 'identifi', 'top', 'calibr', 'candid', 'predominantli', 'busi', 'space', 'across', 'europ', 'join', 'powerhous', 'work', 'close', 'leader', 'across', 'rang', 'divis', 'well', 'manag', 'pipelin', 'within', 'fastpac', 'world', 'lead', 'startup', 'two', 'day']\n",
      "['applic', 'develop', 'digit', 'develop', 'particip', 'develop', 'support', 'migrat', 'web', 'intranet', 'applic', 'along', 'busi', 'applic', 'may', 'cloud', 'local', 'host', 'goal', 'make', 'sure', 'applic', 'state', 'art', 'avail', 'contentrich', 'also', 'thrive', 'make', 'sure', 'user', 'satisfi', 'support', 'request', 'answeredto', 'time', 'manner', 'key', 'respons', 'php', 'urlc5591c960537d84ff7889f414633cdbc8e7d36f3fe042a096d374e4e058388d5', 'c', 'vb', 'develop', 'per', 'project', 'need', 'design', 'creat', 'program', 'mysql', 'sql', 'server', 'databas', 'per', 'project', 'need', 'triag', 'resolv', 'ticket', 'support', 'system', 'applic', 'provid', 'troubleshoot', 'expertis', 'proprietari', 'applic', 'product', 'support', 'environ', 'document', 'new', 'updat', 'solut', 'process', 'document', 'follow', 'establish', 'procedur', 'manag', 'risk', 'updat', 'product', 'system', 'creat', 'updat', 'process', 'autom', 'migrat', 'applic', 'differ', 'environ', 'deploy', 'new', 'applic', 'manag', 'content', 'support', 'applic', 'user', 'test', 'applic', 'document', 'issu', 'develop', 'solut', 'exist', 'issu', 'track', 'knowledg', 'base', 'support', 'offic', '365', 'environ', 'applic', 'assist', 'gather', 'requir', 'project', 'specif', 'attend', 'meet', 'need', 'take', 'ownership', 'daili', 'applic', 'support', 'need', 'commun', 'commun', 'project', 'statu', 'deliver', 'manag', 'involv', 'personnel', 'manag', 'project', 'task', 'timelin', 'commun', 'perform', 'routin', 'site', 'mainten', 'need', 'task', 'need', 'success', 'project', 'complet', 'assign', 'manag', 'must', 'will', 'travel', 'novitex', 'sit', '10']\n",
      "['event', 'industri', 'instal', 'need', 'orlando', 'fl', 'near', 'florida', 'mall', 'want', 'work', 'avail', 'short', 'notic', 'will', 'work', 'day', 'weekend', 'night', 'even', 'overtim', 'without', 'complain', 'fast', 'learner', 'team', 'player', 'possess', 'strong', 'organiz', 'skill', 'instal', 'posit', 'avail', 'qualifi', 'individualsif', 'afraid', 'hard', 'work', 'get', 'dirti', 'wast', 'time', 'work', 'demandingif', 'will', 'work', 'hard', 'contribut', 'team', 'fast', 'learner', 'organ', 'abl', 'commun', 'well', 'look', 'youthi', 'physic', 'work', 'involv', 'heavi', 'lift', 'move', 'heavi', 'object', 'get', 'hand', 'dirti', 'sometim', 'long', 'day', 'nightsif', 'think', 'handl', 'pleas', 'feel', 'free', 'contact']\n",
      "['interest', 'satisfi', 'financi', 'reward', 'role', 'high', 'growth', 'technolog', 'compani', '’', 'work', 'casual', 'yet', 'high', 'energi', 'environ', 'alongsid', 'passion', 'peopl', 'deliv', 'lead', 'competit', 'intellig', 'solut', 'major', 'global', 'brand', 'continu', 'rapid', 'growth', 'digit', 'market', 'ppc', 'huge', 'opportun', 'exist', 'expand', 'adthena', 'enterpris', 'client', 'base', 'seek', 'experi', 'account', 'execut', 'develop', 'close', 'new', 'busi', 'enterpris', 'account', 'larg', 'opportun', 'exist', 'across', 'major', 'search', 'engin', 'vertic', 'includ', 'auto', 'retail', 'game', 'travel', 'financ', 'insur', 'educ', 'primarili', '’', 'use', 'consult', 'approach', 'determin', 'custom', 'need', 'deliv', 'present', 'technic', 'demonstr', 'requir', 'work', 'client', '’', 'advertis', 'agenc', 'uncov', 'valu', 'prospect', 'custom', '’', 'support', 'market', 'busi', 'develop', 'rep', 'build', 'pipelin', 'account']\n",
      "['vault', 'dragon', 'vault', 'dragon', 'dropbox', 'physic', 'stuff', 'startup', 'chang', 'aesthet', 'face', 'singapor', 'creat', 'space', 'household', 'offic', 'also', 'save', 'countless', 'doctor', 'lawyer', 'profession', 'servic', 'firm', 'everyday', 'catastroph', 'document', 'storag', 'manag', 'singapor', 'busi', 'review', 'magazin', 'say', 'one', '20', 'hottest', 'startup', 'singapor', '’', 'believ', 'word', 'say', 'hottest', 'startup', 'singapor', 'crusad', 'lack', 'space', 'singapor', 'support', 'top', 'vc', 'fund', 'includ', 'jungl', 'ventur', '500', 'startup', 'golden', 'gate', 'ventur', 'vault', 'dragon', 'hero', 'singapor', 'deserv', 'one', 'need', 'right', 'come', 'join', 'job', 'descript', 'vault', 'dragon', 'look', 'vp', 'sale', 'roll', 'sleev', 'drive', 'sale', 'b2b', 'b2c', 'custom', 'need', 'someon', 'persist', 'seth', 'boiler', 'room', 'drive', 'jordan', 'wolf', 'wall', 'street', 'relat', 'stop', 'read', '“', '”', 'word', 'dictionari', 'love', 'sell', 'like', 'love', 'pancak', 'definit', 'job', 'boundari', 'come', 'work', 'us', 'imagin', 'vp', 'sale', 'breath', 'drive', 'plan', 'report', 'quota', 'set', 'manag', 'sale', 'process', 'optim', 'sale', 'job', 'design', 'sale', 'train', 'sale', 'program', 'implement', 'sale', 'compens', 'design', 'administr', 'recruit', 'select', 'sale', 'forc', 'talent', 'breath', 'addit', 'respons', 'overal', 'product', 'effect', 'sale', 'organ', 'report', 'founder', 'vp', 'sale', 'also', 'work', 'close', 'intern', 'extern', 'stakehold', 'ensur', 'appropri', 'object', 'prioriti', 'enabl', 'within', 'sale', 'organ', 'respons', 'unleash', 'dragon', 'lead', 'sale', 'charg', 'awesom', 'servic', 'rapidli', 'grow', 'startup', 'grind', 'zero', 'sale', 'master', 'come', 'alway', 'dream', 'go', 'micromanag', 'drive', 'sale', 'long', 'bunni', 'harm', 'process', 'look', 'chang', 'maker', 'know', 'want', 'highlevel', 'respons', 'includ', 'smash', 'sale', 'target', 'set', 'new', 'mileston', 'develop', 'qualiti', 'sale', 'materi', 'gener', 'high', 'volum', 'sale', 'relat', 'activ', 'includ', 'cold', 'call', 'present', 'propos', 'client', 'relationship', 'develop', 'develop', 'account', 'strategi', 'drive', 'long', 'term', 'revenu', 'growth', 'upsel', 'impliment', 'enabl', 'technolog', 'includ', 'crm', 'ensur', 'complianc', 'hire', 'train', 'incentivis', 'sale', 'team', 'phone', 'field', 'sale', 'conceiv', 'impliment', 'sale', 'process', 'get', 'result', 'coordin', 'sale', 'forecast', 'plan', 'budget', 'process', 'founder', 'align', 'busi', 'plan', 'kpi', 'continu', 'report', 'develop', 'sale', 'bibl', 'leverag', 'expand', 'outward']\n",
      "['look', 'handson', 'qa', 'leader', 'talent', 'rampd', 'team', 'locat', 'center', 'tel', 'aviv', 'role', 'respons', 'lead', 'build', 'qa', 'process', 'work', 'close', 'peopl', 'across', 'engin', 'product', 'commun', 'help', 'develop', 'amaz', 'experi', 'custom']\n",
      "['govern', 'fund', 'avail', '1618', 'year', 'old', '10', 'vacanc', 'career', 'drive', 'highli', 'motiv', 'individu', 'live', 'southendonsea', 'area', 'complet', '4', 'week', 'traineeship', 'start', 'apprenticeship', 'custom', 'servic', 'receiv', 'full', 'train', 'support', 'train', 'provid', 'pleas', 'appli', 'invit', 'attend', 'open', 'day']\n",
      "['kettl', 'hire', 'visual', 'design', 'job', 'locat', 'new', 'york', 'ny', 'kettl', 'grow', 'digit', 'agenc', 'focu', 'deliv', 'outstand', 'product', '’', 'work', 'hard', 'find', 'equal', 'outstand', 'talent', 'bold', 'passion', 'multidisciplinari', 'team', 'advoc', 'user', 'benefit', 'client', '’', 'grow', 'organ', '35', 'employe', 'brand', 'new', 'offic', 'soho', 'new', 'york', 'grow', 'presenc', 'san', 'francisco', 'bay', 'area', 'look', 'hire', 'new', 'visual', 'design', 'portfolio', 'combin', 'strong', 'webapp', 'interfac', 'design', 'exemplari', 'brand', 'work', 'excit', 'first', 'coupl', 'project', 'work', 'look', 'forward', 'present', 'right', 'candid', 'respons', 'visual', 'design', 'includ', 'creat', 'differenti', 'onbrand', 'design', 'solut', 'brand', 'web', 'design', 'mobil', 'applic', 'design', 'design', 'clean', 'modern', 'inspir', 'pixelperfect', 'interfac', 'across', 'platform', 'showcas', 'impecc', 'layout', 'typographi', 'skill', 'maintain', 'kettl', 'qualiti', 'tone', 'deliver', 'design', 'final', 'build', 'stay', 'top', 'bestofbre', 'design', 'technolog', 'strong', 'sens', 'overal', 'user', 'experi', 'thrive', 'open', 'collabor', 'environ', 'creat', 'awardwin', 'product', 'experi', 'client', 'lead', 'brand', 'digit', 'innov', 'includ', 'american', 'express', 'sesam', 'street', 'new', 'museum', 'youtub', 'mani', 'disclos', 'check', 'websit', 'learn', 'work', 'pleas', 'make', 'sure', 'includ', 'link', 'onlin', 'portfolio']\n",
      "['experi', 'process', 'control', 'engin', 'requir', 'respons', 'monitor', 'facil', '’', 'dc', 'oper', 'perform', 'provid', 'technic', 'support', 'troubleshoot', 'facilit', 'develop', 'program', 'improv', '176', 'job', 'respons', 'assist', 'configur', 'instal', 'mainten', 'electron', 'microprocessorbas', 'instrument', 'control', 'system', 'includ', 'limit', 'longterm', 'historian', 'dc', 'control', 'system', 'monitor', 'facil', '’', 'dc', 'oper', 'perform', 'provid', 'technic', 'support', 'troubleshoot', 'facilit', 'develop', 'program', 'improv', 'overse', 'field', 'construct', 'verif', 'proper', 'instal', 'perform', 'loop', 'check', 'oversight', 'final', 'commiss', 'dcsplc', 'equip', 'associ', 'mainten', 'capit', 'project', 'defin', 'spare', 'part', 'prevent', 'mainten', 'requir', 'dc', 'relat', 'compon', 'commun', 'maintain', 'proper', 'document', 'relat', 'dc', 'system', 'statu', 'chang', 'coordinateconduct', 'personnel', 'train', 'relat', 'item', 'necessari', 'review', 'facil', 'instrument', 'mainten', 'activ', 'ensur', 'manufactur', 'construct', 'instal', 'oper', 'test', 'conform', 'specif', 'cod', 'standard', 'conduct', 'failur', 'mode', 'analys', 'identifi', 'unit', 'pose', 'excess', 'failur', 'risk', 'support', 'propos', 'chang', 'design']\n",
      "['intellibright', 'grow', 'fast', 'look', 'market', 'assist', 'join', 'team', 'invalu', 'input', 'help', 'small', 'midsiz', 'busi', 'clientel', 'achiev', 'greatest', 'potenti', 'choos', 'intellibright', 'close', 'knit', 'team', 'build', 'compani', 'revolution', 'initi', 'target', 'industri', 'appli', 'collect', 'expertis', 'multipl', 'new', 'vertic', 'ever', 'want', 'feel', 'like', 'get', 'someth', 'grind', 'floor', 'idea', 'suggest', 'hear', 'embrac', 'come', 'see', 'intellibright', 'premier', 'outsourc', 'inhous', 'onlin', 'market', 'team', 'highli', 'success', 'partner', 'busi', '’', 'get', 'us', 'consist', 'support', 'construct', 'feedback', 'work', 'pay', 'well', 'intellig', 'friendli', 'cowork', 'opportun', 'learn', 'work', 'cuttingedg', 'market', 'strategi', 'contract', 'hire', 'potenti', 'environ', 'input', 'realli', 'matter', 'compani', 'capit', 'factori', 'darl', '’', 'get', 'work', 'highlycollabor', 'environ', 'daili', 'meetup', 'event', 'access', 'prereleas', 'major', 'movi', 'screen', 'exposur', 'mentor', 'expert', 'vc', 'brilliant', 'peep', 'fulli', 'stock', 'kitchen', '12', 'weekli', 'free', 'lunchbreakfast', 'rooftop', 'pool', 'onsit', 'gym', 'friday', 'happi', 'hour', 'access', 'special', 'event']\n",
      "['want', 'part', 'global', 'focu', 'tech', 'team', 'design', 'consum', 'product', 'innov', 'idea', 'creativ', 'approach', 'insati', 'curios', 'expect', 'frontend', 'web', 'develop', 'tekniqu', 'part', 'fierc', 'collabor', 'technolog', 'team', 'charg', 'creat', 'amaz', 'web', 'platform', 'smart', 'camera', 'video', 'solut', 'mean', 'contribut', 'hightraff', 'websit', 'broad', 'rang', 'highprofil', 'compani', 'activ', 'support', 'divers', 'suit', 'bestinclass', 'technolog', 'environ', 'constantli', 'challeng', 'push', 'beyond', 'boundari', 'enhanc', 'expertis', 'valu', 'member', 'team', 'activ', 'role', 'help', 'design', 'world', 'class', 'video', 'camera', 'system', 'expect', 'involv', 'design', 'meet', 'test', 'product', 'real', 'user', 'product', 'creat', 'posit', 'integr', 'tightli', 'experi', 'design', 'xd', 'need', 'speak', 'languag', 'even', 'vocabulari', 'continu', 'evolv', 'daytoday', 'basi', 'might', 'work', 'product', 'team', 'implement', 'product', 'featur', 'roll', 'new', 'function', 'util', 'cod', 'design', 'experi', 'develop', 'robust', 'webclient', 'user', 'interfac', 'integr', 'variou', 'serversid', 'compon', 'backend', 'system', 'translat', 'prototyp', 'design', 'clean', 'valid', 'launchreadi', 'code', 'explor', 'new', 'technologiesindustri', 'trend', 'technic', 'innov', 'creat', 'proofofconcept', 'use', 'new', 'technolog', 'handl', 'multipl', 'project', 'requir', 'make', 'appropri', 'technic', 'decis', 'collabor', 'product', 'manag', 'design', 'softwar', 'engin', 'ensur', 'design', 'vision', 'maintain', 'final', 'markup', 'standard', 'compliant', 'ui', 'deliver', 'complet', 'time', 'attend', 'team', 'meet', 'contribut', 'creativ', 'draft', 'blog', 'post', 'creativ', 'vision', 'uiux', 'design', 'share', 'wider', 'team', '–', 'potenti', 'custom']\n",
      "['posit', 'report', 'head', 'engag', 'manag', 'mobil', 'oper', 'busi', 'unit', 'key', 'role', 'liais', 'client', 'upstream', '’', 'intern', 'execut', 'capabl', '–', 'ensur', 'time', 'success', 'deliveri', 'complex', 'mobil', 'market', 'campaign', 'throughout', 'world', 'role', 'ideal', 'candid', 'high', 'potenti', 'wish', 'reward', 'outstand', 'perform', 'opportun', 'gain', 'valuabl', 'intern', 'busi', 'experi', 'larg', 'mobil', 'market', 'project', 'role', 'involv', 'partner', 'client', 'deliv', 'strateg', 'interact', 'solut', 'manag', 'client', 'relationship', 'expect', 'work', 'depart', 'manag', 'provid', 'client', 'deliver', 'ensur', 'deliveri', 'key', 'project', 'time', 'budget', 'develop', 'technic', 'market', 'concept', 'meet', 'client', 'requir', 'negoti', 'contract', 'client', 'supplier', 'guid', 'strateg', 'implement', 'recommend', 'identifi', 'steward', 'clientbrand', 'object', 'need', 'enthusiast', 'repres', 'upstream', '’', 'strategi', 'creativ', 'liais', 'worldwid', 'partner', 'prepar', 'defend', 'busi', 'case', 'assist', 'rfp', 'respons', 'propos', 'write', 'posit', 'base', 'uae', 'dubai', 'extens', 'travel', 'accord', 'project', 'requir']\n",
      "['urleda2500ddcedb60957fcd7f5b164e092966f8c4e8fb89ce70a16bea1545a297d', 'come', 'social', 'media', 'compani', 'seek', 'vp', 'sale', 'sponsorship', 'execut', 'respons', 'creat', 'sell', 'brand', 'highimpact', 'social', 'media', 'market', 'sponsorship', 'program', 'key', 'product', '“', 'ultim', 'busi', 'app', 'urleda2500ddcedb60957fcd7f5b164e092966f8c4e8fb89ce70a16bea1545a297d', 'combin', 'abil', 'discov', 'connect', 'share', 'fellow', 'profession', 'offer', 'uniqu', 'abil', 'commun', 'manag', 'store', 'notat', 'aspect', 'work', 'life', 'one', 'websit', 'one', 'mobil', 'app', '’', 'posit', 'world', 'newest', 'social', 'network', 'platform', 'profession', 'compani', 'work', 'take', 'part', '“', 'next', 'big', 'thing', '”', 'hit', 'social', 'media', 'read', 'on…', 'respons', 'creat', 'packag', 'sell', 'market', 'sponsorship', 'opportun', 'within', 'businessfriend', 'suit', 'connect', 'commun', 'tool', 'boost', 'web', 'site', 'traffic', 'overal', 'usag', 'craft', 'sale', 'present', 'creativ', 'distinctli', 'differenti', 'commun', 'uniqu', 'businessfriend', 'asset', 'target', 'prospect', 'educ', 'posit', 'businessfriend', 'asset', 'market', 'capabl', 'sponsor', 'advertis', 'marketplac', 'demonstr', 'brand', 'valu', 'businessfriend', 'creat', 'uniqu', 'market', 'valu', 'compani', 'asset', 'structur', 'price', 'success', 'negoti', 'close', 'deal', 'arrang', 'meet', 'exceed', 'revenu', 'key', 'account', 'goal', 'overse', 'sponsor', 'contract', 'invoic', 'account', 'receiv', 'develop', 'process', 'ensur', 'execut', 'collect', 'respons', 'work', 'senior', 'leadership', 'creat', 'annual', 'budget', 'includ', 'sale', 'forecast', 'expens']\n",
      "['canari', 'wharf', 'base', 'ecommerc', 'compani', 'recruit', 'full', 'time', 'custom', 'servic', 'administr', 'contractor', 'role', 'success', 'candid', 'ideal', 'previou', 'custom', 'servic', 'experi', 'good', 'verbal', 'write', 'commun', 'skill', 'duti', 'includ', 'telephon', 'email', 'custom', 'servic', 'process', 'inform', 'databas', 'gener', 'administr', 'task']\n",
      "['hello', 'wish', 'good', 'regard', 'job', 'opportun', 'i28', 'technolog', 'corpor', 'usa', 'look', 'profession', 'differ', 'technologiesarea', 'cater', 'busi', 'need', 'client', 'locat', 'usa', 'enclos', 'detail', 'organ', 'overview', 'employe', 'benefit', 'go', 'inform', 'interest', 'pleas', 'send', 'updat', 'resum', 'info', 'sheet', 'attach', 'h1b', 'fiscal', 'year', 'fy', '2015', 'cap', 'season', 'sponsor', 'h1b', 'opt', 'l1', 'l2', 'candid', 'fiscal', 'year', 'fy', '2015', 'cap', 'season', 'highlight', 'premium', 'h1b', 'process', 'file', 'do', 'top', 'law', 'firm', 'placement', 'guarante', 'direct', 'client', 'metro', 'citi', 'like', 'nyc', 'boston', 'chicago', 'atlanta', 'organ', 'overview', 'i28', 'technolog', 'demonstr', 'expertis', 'area', 'strateg', 'differ', 'busi', 'vari', 'vertic', 'i28', 'technolog', 'provid', 'highli', 'skill', 'technolog', 'consult', 'meet', 'need', 'client', 'function', 'expertis', 'glean', 'experi', 'work', 'fortun', '500', 'compani', 'enabl', 'team', 'i28', 'technolog', 'provid', 'profession', 'servic', 'area', 'human', 'resourc', 'consult', 'consult', 'financi', 'consult', 'busi', 'process', 'consult', 'outsourc', 'compani', 'core', 'capabl', 'consult', 'erp', 'datawarehous', 'etl', 'web', 'technolog', 'bi', 'report', 'amp', 'databas', 'servic', 'wherein', 'concentr', 'sap', 'obie', 'bigdata', 'java', 'sharepoint', 'oracl', 'i28', 'technolog', 'incorpor', 'top', 'profession', 'therefor', 'firsthand', 'experi', 'market', 'global', 'presenc', 'four', 'countri', 'across', 'globe', 'usa', 'canada', 'malaysia', 'india', 'client', 'list', 'includ', 'bluestar', 'allianz', 'life', 'insur', 'tc', 'etc', 'i28', 'technolog', 'facilit', 'onlineclassroom', 'train', 'variou', 'modul', 'erp', 'datawarehous', 'etl', 'web', 'technolog', 'bi', 'report', 'amp', 'databas', 'cours', 'offer', 'entri', 'level', 'posit', '•', 'data', 'warehous', '–', 'etl', 'report', 'tool', 'informatica', 'powercent', '71626151', 'busi', 'object', 'cogno', 'data', 'model', 'erwin', 'sybas', '•', 'sap', 'hana', 'bo', 'bod', 'crm', '•', 'java', 'hadoop', 'net', 'sharepoint', 'bigdata', '•', 'teradata', 'oracl', 'spotfir', 'obie', 'biztalk', 'mani', 'per', 'request…', 'join', 'i28', 'technolog', 'unbeat', 'success', 'rate', '100', 'placement', 'throughout', 'usa', 'amp', 'canada', 'make', 'us', 'profici', 'give', 'employe', 'best', 'salari', 'keep', 'full', 'transpar', 'employe', 'believ', 'high', 'commit', 'level', 'key', 'longterm', 'fruit', 'relationship', 'compet', 'sap', 'obie', 'java', 'net', 'help', 'client', 'streamlin', 'busi', 'process', 'custom', 'modul', 'suit', 'busi', 'environ', 'enabl', 'us', 'upgrad', 'skill', 'employe', 'broaden', 'horizon', 'latest', 'technolog', 'facilit', 'onlineclassroom', 'cross', 'function', 'train', 'also', 'execut', 'onproject', 'support', 'system', 'skill', 'employe', 'upgrad', 'new', 'project', 'streamlin', 'employe', 'benefit', '1', 'best', 'pay', 'packag', 'compar', 'market', '2', 'dedic', 'resourc', 'manag', 'hr', 'recruit', '3', 'medic', 'health', 'insur', '4', 'fill', 'green', 'card', 'visa', 'holder', 'immedi', 'join', 'project', 'compani', '5', 'practic', 'develop', 'option', 'highli', 'experi', 'profession', '6', 'referr', 'program', 'employe', '7', 'canada', 'work', 'permit', 'elig', 'interest', 'employe', '8', 'elig', 'get', 'place', 'intern', 'direct', 'client', 'project', 'staff', 'augment', 'implement', 'need', 'whenev', 'match', 'posit', 'client', '’', 'select', 'basi', '9', 'full', 'autonomi', 'term', 'choos', 'project', 'one', 'project', 'hand', '10', 'discuss', 'term', 'condit', 'sign', 'parti', 'letterhead', 'compani', '11', 'free', 'accommod', 'food', 'opt', 'amp', 'station', 'candid', 'also', 'would', 'like', 'add', 'gener', 'flexibl', 'deal', 'consult', 'depend', 'give', 'circumst', 'client', 'need', 'employe', 'compani', 'make', 'big', 'commit', 'initi', 'keep', 'thing', 'gray', 'area', 'candid', 'get', 'know', 'join', '’', 'follow', 'approach', 'find', 'everi', 'singl', 'point', 'detail', '“', 'term', 'condit', '”', 'ensur', 'miscommun', 'happen', 'keep', 'full', 'transpar', 'commit', 'level', 'employe', 'ensur', 'employe', 'satisfact', 'two', 'thing', 'ensur', 'companyemploye', 'longterm', 'relationship', 'mutual', 'benefit', 'intrest', 'job', 'open', 'pleas', 'send', 'updat', 'resum', 'contact', 'inform', 'emaildcfb065d3588ca665ccdc15424875497d16857a702d0228d33d4a27186a49c85']\n",
      "['current', 'expand', 'market', 'depart', 'look', 'hire', 'content', 'market', 'flair', 'develop', 'relat', 'media', 'partner', 'custom', 'main', 'area', 'respons', 'content', 'creation', 'prioriti', 'earn', 'media', 'support', 'own', 'media', 'databas', 'creation', 'relationship', 'manag', 'blogger', 'guest', 'post', 'journalist', 'pr', 'commun', 'manag', 'social', 'media', 'forum', 'event', 'manag', 'commun', 'event', 'coorgan', 'partner']\n",
      "['haaddha', 'licens', 'doctor', 'open', 'uae', 'medic', 'recruit', 'team', 'roland', 'associ', 'wonder', 'job', 'opportun', 'haad', 'licens', 'specialist', 'doctor', 'one', 'lead', 'healthcar', 'group', 'abudhabiua', 'requir', 'endocrinologist', 'gastroenterologist', 'cardiologist', 'neurologist', 'urologist', 'gynecologist', 'femal', 'dermatologist', 'femal', 'radiologist', 'pediatrician', 'orthoped', 'surgeon', 'intern', 'medicin', 'gener', 'surgeon', 'neonatologist', 'candid', 'dhahaad', 'licens', 'interest', 'profession', 'pleas', 'mail', 'updat', 'cv', 'email0687b9656f843689dea8f44da6cafa830fe2dc77029c46e7b0d0c926dcbc1204', 'feel', 'free', 'call', '91', '80', '42821630', 'anoop', 'gurunathan']\n",
      "['1500', 'job', 'open', 'websit', 'relev', 'job', 'feel', 'free', 'search', 'websit', 'appli', 'directli', 'click', '“', 'appli', '”', 'redirect', 'main', 'websit', 'search', 'job', 'job', 'respons', 'tmo', 'manag', '“', 'hand', '”', 'manag', 'respons', 'design', 'build', 'autom', 'talent', 'manag', 'process', 'metric', 'track', 'report', 'capabl', 'develop', 'rigor', 'analyt', 'model', 'provid', 'structur', 'ambigu', 'complex', 'issu', 'review', 'data', 'commun', 'insight', 'basi', 'talent', 'manag', 'action', 'util', 'key', 'stakehold', 'includ', 'csuit', 'execut', 'manag', 'evalu', 'talent', 'data', 'collect', 'process', 'ensur', 'effici', 'high', 'level', 'data', 'integr', 'compar', 'compani', '’', 'talent', 'metric', 'relev', 'industri', 'benchmark', 'identifi', 'key', 'area', 'improv', 'conduct', 'research', 'extern', 'intern', 'identifi', 'trendsbenchmark', 'implic', 'talent', 'manag', 'analyt', 'recommend', 'respons', 'provid', 'project', 'think', 'leadership', 'area', 'subject', 'matter', 'expertis', 'integr', 'analyt', 'across', 'multipl', 'hr', 'group', 'ensur', 'synergi', 'measur', 'report', 'manag', 'annual', 'tmo', 'cycl', 'manag', 'highli', 'confidenti', 'inform', 'overse', 'train', 'junior', 'analyst', 'ensur', 'data', 'accuraci', 'integr', 'educ', 'amp', 'experi', '5', '7', 'year', 'experiencemanag', 'experi', 'requir', 'nominimum', 'educ', 'bachelor', 'degreewilling', 'travel', 'occasion', 'visit', 'urlec64af2b4fe2ca316e828f93b0cd098c22f8beba98dcac09d4dd7384b221a5e8url9753a54b28303bf636a2816399b9c255d76fabb791336a4c748da2611a23264f']\n",
      "['custom', 'servic', 'associ', 'base', 'toronto', 'right', 'candid', 'integr', 'part', 'talent', 'team', 'support', 'continu', 'growth', 'respons', 'perform', 'variou', 'mail', 'center', 'activ', 'sort', 'meter', 'fold', 'insert', 'deliveri', 'pickup', 'etc', 'lift', 'heavi', 'box', 'file', 'paper', 'need', 'maintain', 'highest', 'level', 'custom', 'care', 'demonstr', 'friendli', 'cooper', 'attitud', 'demonstr', 'flexibl', 'satisfi', 'custom', 'demand', 'high', 'volum', 'product', 'environ', 'consist', 'adher', 'busi', 'procedur', 'guidelin', 'adher', 'safeti', 'procedur', 'take', 'direct', 'supervisor', 'site', 'manag', 'maintain', 'log', 'report', 'document', 'attent', 'detail', 'particip', 'crosstrain', 'perform', 'duti', 'assign', 'file', 'outgo', 'shipment', 'etc', 'oper', 'mail', 'copi', 'scan', 'equip', 'ship', 'amp', 'receiv', 'handl', 'timesensit', 'materi', 'like', 'confidenti', 'urgent', 'packag', 'perform', 'task', 'assign', 'scan', 'incom', 'mail', 'recipi', 'perform', 'file', 'purg', 'pull', 'creat', 'file', 'ship', 'file', 'provid', 'backfil', 'need', 'enter', 'inform', 'daili', 'spreadsheet', 'identifi', 'charg', 'match', 'bill', 'sort', 'deliv', 'mail', 'small', 'packag']\n",
      "['custom', 'servic', 'technic', 'specialist', 'base', 'waltham', 'client', 'locat', 'right', 'candid', 'integr', 'part', 'talent', 'team', 'support', 'continu', 'growth', 'respons', 'identifi', 'object', 'data', 'enter', 'key', 'see', 'high', 'level', 'product', 'accuraci', 'perform', 'data', 'entri', 'task', 'paper', 'andor', 'document', 'imag', 'util', 'system', 'function', 'perform', 'data', 'lookup', 'valid', 'perform', 'entri', 'data', 'present', 'structur', 'form', 'correspond', 'text', 'present', 'context', 'charact', 'string', 'perform', 'document', 'imag', 'qualiti', 'valid', 'includ', 'document', 'type', 'confirm', 'verif', 'imag', 'qualiti', 'clariti', 'identifi', 'classifi', 'sort', 'document', 'assign', 'document', 'type', 'within', 'data', 'entri', 'applic', 'prep', 'document', 'scan', 'includ', 'separ', 'document', 'type', 'separ', 'multipl', 'page', 'document', 'singl', 'page', 'document', 'ensur', 'paper', 'clip', 'stapl', 'fasten', 'remov', 'sort', 'individu', 'document', 'type', 'size', 'document', 'make', 'copi', 'necessari', 'scanimag', 'includ', 'scan', 'document', 'ensur', 'document', 'scan', 'interact', 'scan', 'softwar', 'indic', 'batch', 'complet', 'perform', 'qualiti', 'assur', 'review', 'imag', 'perform', 'qualiti', 'assur', 'document', 'flag', 'system', 'complet', 'product', 'sheet', 'track', 'project', 'progress', 'provid', 'number', 'bill', 'purpos', 'handl', 'timesensit', 'inform', 'handl', 'confidenti', 'inform', 'perform', 'duti', 'special', 'request', 'assign', 'team', 'leader', 'manag', 'ensur', 'oper', 'qualiti', 'standard', 'meet', 'base', 'servic', 'object', 'maintain', 'accuraci', 'requir', 'report', 'log', 'measur', 'ensur', 'highest', 'level', 'custom', 'care', 'identifi', 'refer', 'salescu', 'lead', 'potenti', 'addon', 'busi', 'ensur', 'adher', 'busi', 'guidelin', 'safeti', 'amp', 'secur', 'procedur', 'support', 'financi', 'result', 'minim', 'site', 'wast', 'rework', 'crosstrain', 'area', 'requir']\n",
      "['day', 'day', 'instal', 'upgrad', 'configur', 'webbas', 'applic', 'gather', 'evalu', 'organ', 'client', 'deliver', 'modifi', 'html', 'css', 'jsp', 'page', 'necessari', 'prep', 'technic', 'client', 'site', 'environ', 'achiev', 'success', 'implement', 'mainten', 'templat', 'tool', 'use', 'perform', 'softwar', 'releas', 'upgrad', 'provid', 'oncal', 'hour', 'data', 'center', 'technic', 'support']\n",
      "['construct', 'entrylevel', 'craftsman', 'associ', 'posit', 'wellestablish', 'specialti', 'contractor', 'everett', 'look', '2', 'talent', 'individu', 'eye', 'detail', 'readi', 'enrol', 'pay', 'craftsmantrain', 'program', 'get', 'grind', 'floor', 'career', 'ton', 'potenti', 'compani', 'offer', 'strong', 'job', 'secur', 'excel', 'benefit', 'treat', 'respect', 'benefit', 'work', 'great', 'team', 'peopl', 'posit', 'encourag', 'familyori', 'environ', 'medic', 'plan', 'includ', 'dental', 'vision', 'life', 'insur', '2', 'week', '’', 'annual', 'vacationsick', 'leav', 'accru', 'daili', 'six', 'week', 'train', 'six', 'pay', 'holiday', 'opportun', 'bonus', 'instruct', 'make', 'sure', 'meet', 'requir', 'pleas', 'use', '“', 'craftsman', '”', 'headlin', 'includ', 'note', 'explain', 'would', 'good', 'candid', 'job', 'also', 'pleas', 'enclos', 'job', 'histori', 'resum', 'look', 'forward', 'help', 'grow', 'togeth', 'friendli', 'team', 'notic', 'discrimin', 'basi', 'race', 'color', 'religion', 'nation', 'origin', 'sex', 'age', 'sexual', 'prefer', 'disabl', 'protect', 'class', 'equal', 'opportun', 'employ']\n",
      "['compani', 'amaz', 'job', 'opportun', 'one', 'robust', 'compani', 'energi', 'industri', 'opportun', 'advanc', 'extens', 'compani', 'current', 'grow', 'look', 'outstand', 'employe', 'grow', 'strong', 'compens', 'benefit', 'packag', 'avail', 'qualifi', 'candid', 'want', 'join', 'largest', 'player', 'bakken', 'shale', 'leader', 'oklahoma', 'shale', 'play', 'contact', 'us', 'today', 'opportun', 'join', 'one', 'industri', '’', 'leader', 'mission', 'achiev', 'american', 'energi', 'independ', 'pleas', 'note', 'job', 'requir', 'reloc', 'oklahoma', 'citi', 'ok', 'summari', 'assist', 'prepar', 'complet', 'test', 'workov', 'procedur', 'maintain', 'project', 'manag', 'control', 'equip', 'instal', 'well', 'complet', 'workov', 'essenti', 'job', 'function', 'monitor', 'complet', 'oper', 'cost', 'profit', 'design', 'implement', 'complet', 'well', 'workov', 'plan', 'procedur', 'gener', 'review', 'afe', 'capit', 'expenditur', 'review', 'expenditur', 'properti', 'within', 'specifi', 'area', 'analyz', 'well', 'problem', 'direct', 'action', 'take', 'work', 'well', 'fast', 'pace', 'environ', 'solv', 'minor', 'problem', 'littl', 'supervis', 'consult', 'complet', 'manag', 'higher', 'risk', 'complex', 'problem', 'project', 'track', 'cost', 'oper', 'effici', 'daili', 'basi', 'report', 'trend', 'perform', 'post', 'complet', 'apprais', 'provid', 'recommend', 'perform', 'improv', 'work', 'complet', 'foremen', 'ensur', 'safe', 'effici', 'oper', 'support', 'asset', 'team', 'request', 'assur', 'complianc', 'government', 'requir', 'compani', 'polici', 'provid', 'train', 'resourc', 'accomplish', 'product', 'goal']\n",
      "['see', 'role', 'fret', '’', 'alway', 'look', 'talent', 'peopl', 'join', 'team', 'send', 'us', 'cv', 'portfolio', 'interest']\n",
      "['play', 'kid', 'get', 'pay', 'love', 'travel', 'job', 'asia', '1500', 'usd', 'monthli', '200', 'cost', 'live', 'hous', 'provid', 'privatefurnishedairfar', 'reimbursedexcel', 'student', 'loanscredit', 'card', 'gabriel', 'adkin', 'urled9094c60184b8a4975333957f05be37e69d3cdb68decc9dd9a4242733cfd7f7url75db76d58f7994c7db24e8998c2fc953ab9a20ea9ac948b217693963f78d2e6b', '12', 'month', 'contract', 'appli', 'today']\n",
      "['play', 'kid', 'get', 'pay', 'love', 'travel', 'job', 'asia', '1500', 'usd', 'monthli', '200', 'cost', 'live', 'hous', 'providedairfar', 'reimbursedexcel', 'student', 'loanscredit', 'card', 'gabriel', 'adkin', 'urled9094c60184b8a4975333957f05be37e69d3cdb68decc9dd9a4242733cfd7f7url75db76d58f7994c7db24e8998c2fc953ab9a20ea9ac948b217693963f78d2e6b']\n",
      "['look', 'project', 'manag', 'project', 'manag', 'work', 'within', 'project', 'manag', 'depart', 'respons', 'manag', 'offshor', 'project', 'execut', 'major', 'oil', 'ga', 'explor', 'compani', 'worldwid', 'project', 'manag', 'manag', 'project', 'complianc', 'applic', 'manag', 'system', 'way', 'deliv', 'time', 'within', 'budget', 'highest', 'qualiti', 'oper', 'hse', 'standard', 'importantli', 'excel', 'satisfact', 'client', 'project', 'manag', 'establish', 'nurtur', 'longstand', 'relationship', 'client', 'job', 'requir', 'bsc', 'msc', 'degre', 'civil', 'engin', 'mechan', 'engin', 'offshor', 'engin', 'equival', 'minimum', '10', 'year', 'offshor', 'instal', 'experi', 'prefer', 'heavi', 'lift', 'pipelay', '3', 'year', 'project', 'manag', 'posit', 'extens', 'experi', 'work', 'multidisciplinari', 'team', 'good', 'commun', 'build', 'develop', 'relationship', 'client', 'extern', 'parti', 'good', 'command', 'english', 'languag', 'write', 'speak', 'excel', 'contractu', 'negoti', 'peopl', 'manag', 'skill', 'selfmotiv', 'prove', 'track', 'record', 'commerci', 'success', 'willing', 'travel', 'job', 'task', 'act', 'primari', 'contact', 'client', 'author', 'subcontractor', 'prepar', 'manag', 'project', 'execut', 'plan', 'coordin', 'project', 'activ', 'includ', 'relat', 'subcontract', 'order', 'achiev', 'best', 'perform', 'entir', 'organis', 'establish', 'multidisciplin', 'project', 'organis', 'cooper', 'disciplin', 'lead', 'ensur', 'smooth', 'transit', 'differ', 'project', 'phase', 'function', 'handov', 'ensur', 'project', 'safeti', 'perform', 'review', 'approv', 'project', 'document', 'project', 'purchas', 'supervis', 'project', 'relat', 'intern', 'extern', 'cost', 'report', 'identifi', 'approv', 'concess', 'variat', 'order', 'request', 'chang', 'contract', 'subcontract', 'supervis', 'prepar', 'asbuilt', 'document', 'prepar', 'project', 'close', 'report', 'develop', 'appli', 'knowhow', 'experi', 'purpos', 'improv', 'custom', 'servic', 'deliv', 'custom', 'satisfact', 'promot', 'support', 'continu', 'improv', 'activ', 'within', 'project']\n"
     ]
    },
    {
     "name": "stdout",
     "output_type": "stream",
     "text": [
      "['love', 'client', 'get', 'conduit', 'commun', 'love', 'feel', 'like', 'magic', 'someth', 'beauti', 'creat', 'solv', 'busi', 'goal', 'meet', 'user', '’', 'need', 'love', 'work', 'design', 'across', 'varieti', 'project', '’', 'shi', 'away', 'difficult', 'convers', 'natur', 'mentor', 'creat', 'visual', 'design', 'fastpac', 'environ', 'mean', 'bring', 'strong', 'voic', 'effici', 'speed', 'eye', 'critiqu', 'environ', 'call', 'extrem', 'commun', 'enthusiasm', 'empathi', 'art', 'director', 'understand', 'time', 'diva', 'wannab', 'superhero', 'understand', 'success', 'determin', 'strength', 'team', 'whole', '’', 'essenti', 'member', 'carri', 'hisher', 'weight', 'art', 'director', '’', 'work', 'close', 'client', 'across', 'varieti', 'vertic', 'consum', 'enterpris', 'space', 'project', 'push', 'outsid', 'comfort', 'zone', 'industri', 'experi', 'util', 'help', 'shape', 'futur', 'mutual', 'mobil', '’', 'design', 'team', '’', 'keep', 'busi', 'lead', 'work', 'across', '1', '2', 'key', 'account', 'defin', 'project', 'term', 'scope', 'schedul', 'roadmap', 'account', 'team', 'lead', 'promot', 'perfect', 'integr', 'agil', 'techniqu', 'design', 'process', 'work', 'divers', 'team', 'divid', 'work', 'stay', 'focu', 'big', 'pictur', 'particip', 'busi', 'develop', 'pursuit', 'pitch', 'work', 'help', 'defin', 'design', 'process', 'coach', 'mentor', 'design', 'help', 'progress', 'career', 'develop']\n",
      "['receptionist', 'base', 'chicago', 'il', 'right', 'candid', 'integr', 'part', 'talent', 'team', 'support', 'continu', 'growth', 'respons', 'includ', 'limit', 'provid', 'recept', 'servic', 'coverag', 'liaison', 'schedul', 'mainten', 'confer', 'duti', 'look', 'team', 'player', 'proactiv', 'will', '“', 'whatev', 'take', '”', 'get', 'job', 'do', 'ideal', 'candid', '“', '”', 'attitud', 'greet', 'visitor', 'answer', 'phone', 'direct', 'call', 'appropri', 'well', 'speak', 'clear', 'patient', 'interact', 'remain', 'calm', 'profession', 'stress', 'situat', 'follow', 'document', 'procedur', 'duti', 'mutual', 'agre', 'enforc', 'handl', 'secur', 'complianc', 'standard', 'regard', 'visitor', '’', 'badg', 'coordin', 'confer', 'room', 'reserv', 'room', 'prepar', 'maintain', 'confer', 'room', 'standard', 'design', 'help', 'resolv', 'employe', 'custom', 'concernsissu', 'administr', 'servicesprocess', 'larg', 'volum', 'reportsinvoic', 'use', 'excel', 'assist', 'manag', 'quarterli', 'busi', 'review', 'lift', 'larg', 'bundl', 'mail', 'make', 'mail', 'deliveri', 'handl', 'timesensit', 'confidenti', 'materi', 'perform', 'duti', 'special', 'request', 'assign', 'manag', 'client', 'particip', 'crosstrain', 'flexibl', 'perform', 'vari', 'role', 'whenev', 'necessari', 'balanc', 'workload', 'provid', 'guidanc', 'direct', 'team', 'serv', 'focal', 'point', 'commun', 'custom', 'compani', 'personnel', 'ensur', 'oper', 'qualiti', 'standard', 'meet', 'base', 'servic', 'object', 'maintain', 'accuraci', 'requir', 'report', 'log', 'measur', 'ensur', 'highest', 'level', 'custom', 'care', 'ensur', 'adher', 'busi', 'guidelin', 'safeti', 'amp', 'secur', 'procedur', 'support', 'financi', 'result', 'minim', 'site', 'wast', 'rework', 'dress', 'profession', 'attir', 'perform', 'task', 'assign']\n",
      "['play', 'kid', 'get', 'pay', 'love', 'travel', 'job', 'asia', '1500', 'usd', 'monthli', '200', 'cost', 'live', 'hous', 'provid', 'privatefurnishedairfar', 'reimbursedexcel', 'student', 'loanscredit', 'card', 'gabriel', 'adkin', 'urled9094c60184b8a4975333957f05be37e69d3cdb68decc9dd9a4242733cfd7f7url75db76d58f7994c7db24e8998c2fc953ab9a20ea9ac948b217693963f78d2e6b', '12', 'month', 'contract', 'appli', 'today']\n",
      "['play', 'kid', 'get', 'pay', 'love', 'travel', 'job', 'asia', '1500', 'usd', 'monthli', '200', 'cost', 'live', 'hous', 'provid', 'privatefurnishedairfar', 'reimbursedexcel', 'student', 'loanscredit', 'card', 'gabriel', 'adkin', 'urled9094c60184b8a4975333957f05be37e69d3cdb68decc9dd9a4242733cfd7f7url75db76d58f7994c7db24e8998c2fc953ab9a20ea9ac948b217693963f78d2e6b', '12', 'month', 'contract', 'appli', 'today']\n",
      "['entri', 'level', 'softwar', 'developerloc', 'atlanta', 'georgiaexperi', '12', 'year', 'experi', 'product', 'web', 'environ', 'implement', 'mission', 'critic', 'servicesdevelop', 'web', 'server', 'side', 'php', 'lamp', 'environ', 'experi', 'xhtml', 'css', 'javascript', 'ia', 'plu', 'knowledg', 'javascript', 'framework', 'support', 'technologiesfamiliar', 'debian', 'linuxo', 'x', 'ubuntu']\n",
      "['custom', 'servic', 'associ', 'base', 'columbia', 'md', 'right', 'candid', 'integr', 'part', 'talent', 'team', 'support', 'continu', 'growth', 'respons', 'answer', 'phone', 'provid', 'caller', 'profession', 'courteou', 'prompt', 'assist', 'collect', 'document', 'lobbi', 'activ', 'metric', 'moder', 'complex', 'cleric', 'administr', 'assign', 'submit', 'follow', 'facil', 'request', 'respons', 'maintain', 'pleasant', 'businesslik', 'atmospher', 'lobbi', 'adher', 'secur', 'polici', 'procedur', 'handl', 'badg', 'request', 'photo', 'handl', 'incom', 'outgo', 'packag', 'mail', 'assist', 'confer', 'room', 'coordin', 'light', 'clean', 'site', 'organ']\n",
      "['current', 'seek', 'custom', 'servic', 'team', 'lead', 'right', 'candid', 'integr', 'part', 'talent', 'team', 'support', 'continu', 'growth', 'posit', 'locat', 'tulsa', 'oklocationrespons', 'includ', 'limit', 'must', 'profici', 'microsoft', 'offic', 'tool', 'creat', 'consolid', 'data', 'excel', 'spreadsheet', 'review', 'updat', 'procedur', 'write', 'commun', 'custom', 'perform', 'variou', 'mail', 'center', 'activ', 'sort', 'meter', 'fold', 'insert', 'deliveri', 'pickup', 'etc', 'lift', 'heavi', 'box', 'file', 'paper', 'need', 'maintain', 'highest', 'level', 'custom', 'care', 'demonstr', 'friendli', 'cooper', 'attitud', 'demonstr', 'flexibl', 'satisfi', 'custom', 'demand', 'high', 'volum', 'product', 'environ', 'consist', 'adher', 'busi', 'procedur', 'guidelin', 'adher', 'safeti', 'procedur', 'take', 'direct', 'supervisor', 'site', 'manag', 'maintain', 'log', 'report', 'document', 'attent', 'detail', 'particip', 'crosstrain', 'perform', 'duti', 'assign', 'file', 'outgo', 'shipment', 'etc', 'oper', 'mail', 'copi', 'scan', 'equip', 'ship', 'amp', 'receiv', 'handl', 'timesensit', 'materi', 'like', 'confidenti', 'urgent', 'packag', 'maintain', 'highest', 'level', 'custom', 'care', 'demonstr', 'friendli', 'cooper', 'attitud', 'perform', 'task', 'assign', 'scan', 'incom', 'mail', 'recipi', 'perform', 'file', 'purg', 'pull', 'provid', 'backfil', 'need', 'enter', 'inform', 'daili', 'spreadsheet', 'demonstr', 'flexibl', 'satisfi', 'custom', 'demand', 'high', 'volum', 'product', 'environ', 'take', 'direct', 'supervisor', 'site', 'manag', 'particip', 'crosstrain', 'perform', 'duti', 'assign', 'maintain', 'log', 'report', 'document', 'strong', 'attent', 'detail', 'consist', 'adher', 'busi', 'procedur', 'guidelin', 'sort', 'deliv', 'mail', 'small', 'packag', 'perform', 'duti', 'assign', 'manag', 'within', 'reprograph', 'servic', 'establish', 'oper', 'procedur', 'qualiti', 'standard', 'test', 'evalu', 'new', 'equip', 'materi', 'respons', 'aspect', 'equip', 'remain', 'inform', 'adher', 'establish', 'safeti', 'secur', 'procedur', 'perform', 'necessari', 'adjust', 'outlin', 'oper', '’', 'manual', 'set', 'equip', 'follow', 'startup', 'shutdown', 'cleanup', 'procedur', 'equip', 'occasion', 'perform', 'limit', 'oper', 'complex', 'autom', 'equip', 'monitor', 'oper', 'make', 'mechan', 'adjust', 'need', 'ensur', 'proper', 'qualiti', 'output', 'file', 'pull', 'reshelv', 'file', 'sort', 'prep', 'document', 'file', 'scan', 'scan', 'util', 'custom', 'databas', 'look', 'inform', 'necessari', 'assist', 'site', 'duti', 'need']\n",
      "['sale', 'repres', 'provid', 'assist', 'custom', 'purchas', 'materi', 'tool', 'need', 'wide', 'varieti', 'roof', 'side', 'windowdoor', 'replac', 'project', 'moment', 'greet', 'custom', 'sale', 'final', 'provid', 'best', 'custom', 'servic', 'exterior', 'build', 'suppli', 'expertiseyour', 'specif', 'duti', 'sale', 'repres', 'may', 'includ', 'determin', 'custom', '’', 'need', 'recommend', 'appropri', 'product', 'solut', 'follow', 'abc', '’', 'productsuppli', 'checklist', 'custom', '’', 'specif', 'job', 'upsel', 'addit', 'product', 'suppli', 'job', 'answer', 'custom', 'question', 'offer', 'product', 'advic', 'order', 'product', 'abc', 'suppli', 'branch', 'necessari', 'accept', 'payment', 'appli', 'appropri', 'custom', 'account', 'arrang', 'warehous', 'custom', 'product', 'pickup', 'followingup', 'deliveri', 'ensur', 'shipment', 'arriv', 'time', 'item', 'account', 'balanc', 'cash', 'drawer', 'prepar', 'bank', 'deposit', 'end', 'day', 'arrang', 'product', 'display', 'layout', 'maxim', 'effect', 'reorder', 'product', 'keep', 'store', 'warehous', 'shelv', 'well', 'stock', 'give', 'comment', 'card', 'custom', 'address', 'resolv', 'custom', 'complaint', 'necessari']\n",
      "['offer', 'diversifi', 'opportun', 'variou', 'field', 'includ', 'limit', 'corpor', 'bank', 'sme', 'branch', 'network', 'retail', 'market', 'corpor', 'bank']\n",
      "['custom', 'servic', 'associ', 'base', 'brentwood', 'tn', 'right', 'candid', 'integr', 'part', 'talent', 'team', 'support', 'continu', 'growth', 'key', 'respons', 'oper', 'switchboard', 'creat', 'label', 'assembl', 'outgo', 'packag', 'comput', 'system', 'data', 'entri', 'greet', 'visitor', 'gener', 'cleric', 'duti', 'perform', 'variou', 'mail', 'center', 'activ', 'sort', 'meter', 'fold', 'insert', 'deliveri', 'pickup', 'etc', 'creat', 'excel', 'spreadsheet', 'mail', 'merg', 'project', 'word', 'document', 'address', 'label', 'letter', 'complet', 'multipl', 'project', 'one', 'time', 'lift', 'heavi', 'box', 'file', 'paper', 'need', 'maintain', 'highest', 'level', 'custom', 'care', 'demonstr', 'friendli', 'cooper', 'attitud', 'demonstr', 'flexibl', 'satisfi', 'custom', 'demand', 'high', 'volum', 'product', 'environ', 'consist', 'adher', 'busi', 'procedur', 'guidelin', 'adher', 'safeti', 'procedur', 'take', 'direct', 'supervisor', 'site', 'manag', 'maintain', 'log', 'report', 'document', 'attent', 'detail', 'particip', 'crosstrain', 'perform', 'duti', 'assign', 'oper', 'mail', 'copi', 'fax', 'equip', 'ship', 'amp', 'receiv', 'lift', 'larg', 'bundl', 'mail', 'overnight', 'packag', 'shipment', 'paper', 'handl', 'timesensit', 'materi', 'like', 'confidenti', 'urgent', 'packag', 'maintain', 'highest', 'level', 'custom', 'care', 'demonstr', 'friendli', 'cooper', 'attitud', 'perform', 'task', 'assign']\n",
      "['play', 'kid', 'get', 'pay', 'love', 'travel', 'job', 'asia', '1500', 'usd', 'monthli', '200', 'cost', 'live', 'hous', 'provid', 'privatefurnishedairfar', 'reimbursedexcel', 'student', 'loanscredit', 'card', 'gabriel', 'adkin', 'urled9094c60184b8a4975333957f05be37e69d3cdb68decc9dd9a4242733cfd7f7url75db76d58f7994c7db24e8998c2fc953ab9a20ea9ac948b217693963f78d2e6b', '12', 'month', 'contract', 'appli', 'today']\n",
      "['current', 'seek', 'custom', 'servic', 'team', 'lead', 'right', 'candid', 'integr', 'part', 'talent', 'team', 'support', 'continu', 'growth', 'posit', 'locat', 'dover', 'nh', 'locat', 'respons', 'includ', 'limit', 'data', 'entri', 'perform', 'variou', 'mail', 'center', 'activ', 'sort', 'meter', 'fold', 'insert', 'deliveri', 'pickup', 'etc', 'address', 'label', 'letter', 'complet', 'multipl', 'project', 'one', 'time', 'lift', 'heavi', 'box', 'file', 'paper', 'need', 'maintain', 'highest', 'level', 'custom', 'care', 'demonstr', 'friendli', 'cooper', 'attitud', 'demonstr', 'flexibl', 'satisfi', 'custom', 'demand', 'high', 'volum', 'product', 'environ', 'consist', 'adher', 'busi', 'procedur', 'guidelin', 'adher', 'safeti', 'procedur', 'take', 'direct', 'site', 'manag', 'maintain', 'log', 'report', 'document', 'attent', 'detail', 'particip', 'crosstrain', 'perform', 'duti', 'assign', 'oper', 'mail', 'copi', 'fax', 'equip', 'ship', 'amp', 'receiv', 'lift', 'larg', 'bundl', 'mail', 'overnight', 'packag', 'shipment', 'paper', 'handl', 'timesensit', 'materi', 'like', 'confidenti', 'urgent', 'packag', 'provid', 'courier', 'servic', 'maintain', 'highest', 'level', 'custom', 'care', 'demonstr', 'friendli', 'cooper', 'attitud', 'perform', 'task', 'assign']\n",
      "['novemb', '2014', 'pure', 'grind', 'ingredi', 'pgiin', 'carson', 'citi', 'pgi', 'fast', 'grow', 'organ', 'herbspicebotan', 'import', 'product', 'compani', 'util', 'extens', 'food', 'safeti', 'handl', 'manag', 'practic', 'insur', 'qualiti', 'product', 'current', 'number', 'open', 'posit', 'ship', 'warehous', 'product', 'oper', 'food', 'product', 'manag', 'experi', 'manag', 'staff', 'process', 'includ', 'mill', 'blend', 'pack', 'roast', 'micro', 'treatment', 'oper', 'etc', 'experi', 'osha', 'haccp', 'industri', 'foodsafeti', 'standard', 'polici', 'experi', 'manag', 'physic', 'plant', 'oper', 'includ', 'electr', 'food', 'product', 'machineri', 'applic', 'must', 'submit', 'drug', 'background', 'screen', 'compani', 'equal', 'opportun', 'employ']\n",
      "['custom', 'servic', 'technic', 'specialist', 'base', 'tulsa', 'ok', 'client', 'locat', 'right', 'candid', 'integr', 'part', 'talent', 'team', 'support', 'continu', 'growth', 'respons', 'simpl', 'type', 'data', 'entri', 'work', 'ticket', 'report', 'cover', 'phone', 'help', 'custom', 'front', 'desk', 'support', 'help', 'copi', 'servic', 'custom', 'servic', 'counter', 'contact', 'equip', 'provid', 'servic', 'necessari', 'order', 'suppli', 'keep', 'track', 'inventori', 'maintain', 'log', 'report', 'document', 'attent', 'detail', 'handl', 'timesensit', 'materi', 'like', 'confidenti', 'urgent', 'project', 'maintain', 'highest', 'level', 'custom', 'care', 'demonstr', 'friendli', 'cooper', 'attitud', 'demonstr', 'flexibl', 'satisfi', 'custom', 'demand', 'high', 'volum', 'product', 'environ', 'consist', 'adher', 'busi', 'procedur', 'guidelin', 'take', 'direct', 'supervisor', 'site', 'manag', 'perform', 'task', 'assign', 'particip', 'crosstrain', 'adher', 'safeti', 'procedur']\n"
     ]
    },
    {
     "name": "stdout",
     "output_type": "stream",
     "text": [
      "['name', 'agil', 'startup', 'dedic', 'build', 'endtoend', 'human', 'capit', 'manag', 'platform', 'busi', 'size', '–', 'client', 'like', 'birchbox', 'hailo', 'amp', 'warbi', 'parker', 'use', 'name', 'hr', 'manag', 'user', 'vari', 'hr', 'administr', 'manag', 'averag', 'employe', 'client', 'cultur', 'polici']\n",
      "['gbi', 'grow', 'compani', 'develop', 'sever', 'cut', 'edg', 'system', 'financi', 'industri', 'set', 'embark', 'excit', 'new', 'integr', 'new', 'partner', 'seek', 'individu', 'lead', 'execut', 'new', 'project', 'design', 'implement', 'support', 'selfmotiv', 'detailori', 'energet', 'passion', 'lead', 'facet', 'softwar', 'develop', 'project', 'build', 'team', 'bring', 'bear', 'compani', 'descript', 'highli', 'motiv', 'individu', 'quickli', 'come', 'speed', 'understand', 'support', 'exist', 'applic', 'experi', 'busi', 'analysi', 'requir', 'gather', 'function', 'specif', 'test', 'support', 'new', 'exist', 'applic', 'demonstr', 'abil', 'work', 'user', 'goto', 'person', 'applic', 'relat', 'issu', 'abil', 'quickli', 'becom', 'subject', 'matter', 'expert', 'util', 'leadership', 'organiz', 'skill', 'effect', 'manag', 'multipl', 'task', 'interfac', 'partner', 'client', 'execut', 'team', 'ensur', 'success', 'need', 'task', 'support', 'meet', 'variou', 'level', 'user', 'manag', 'help', 'document', 'support', 'followup', 'meet', 'prioriti']\n",
      "['outsid', 'sale', 'repres', 'must', 'excel', 'sale', 'talent', 'well', 'willing', 'learn', 'abc', 'suppli', 'sale', 'approach', 'also', 'help', 'role', 'outsid', 'sale', 'repres', 'exist', 'knowledg', 'exterior', 'build', 'product', 'line', 'side', 'roof', 'window', 'lend', 'credibl', 'sale', 'present', 'also', 'assist', 'branch', 'manag', 'select', 'new', 'product', 'line', 'also', 'vital', 'role', 'outsid', 'sale', 'repres', 'empathi', 'custom', 'need', 'alway', 'provid', 'best', 'possibl', 'servic']\n",
      "['netguru', 'love', 'develop', 'web', 'applic', 'base', 'rubi', 'rail', 'framework', 'valu', 'qualiti', 'transpar', 'commun', 'passion', 'work', 'time', 'look', 'junior', 'hr', 'market', 'manag', 'know', 'build', 'brand', 'awar', 'keep', 'great', 'relationship', 'candid', 'feel', '’', 'appli']\n",
      "['outsid', 'sale', 'repres', 'must', 'excel', 'sale', 'talent', 'well', 'willing', 'learn', 'abc', 'suppli', 'sale', 'approach', 'also', 'help', 'role', 'outsid', 'sale', 'repres', 'exist', 'knowledg', 'exterior', 'build', 'product', 'line', 'side', 'roof', 'window', 'lend', 'credibl', 'sale', 'present', 'also', 'assist', 'branch', 'manag', 'select', 'new', 'product', 'line', 'also', 'vital', 'role', 'outsid', 'sale', 'repres', 'empathi', 'custom', 'need', 'alway', 'provid', 'best', 'possibl', 'servic']\n",
      "['internalextern', 'employ', 'opportun', 'posit', 'titl', 'intens', 'case', 'manag', 'worker', 'bilingu', 'essenti', 'componentteam', 'intens', 'case', 'manag', 'statu', 'perman', '10', 'fte', 'fulltim', '35', 'hour', 'per', 'week', 'salari', 'scale', '44624', '53764', 'annual', 'salari', 'plu', 'benefit', 'start', 'date', 'immedi', 'posit', 'descript', 'intens', 'case', 'manag', 'worker', 'respons', 'case', 'manag', 'client', 'overwhelm', 'substanc', 'use', 'disord', 'mental', 'health', 'issu', 'highli', 'independ', 'posit', 'requir', 'meet', 'client', 'alon', 'commun', 'incumb', 'intens', 'case', 'manag', 'worker', 'exhibit', 'capac', 'work', 'peopl', 'concurr', 'disord', 'util', 'housingfirst', 'model', 'harm', 'reduct', 'approach', 'report', 'relationship', 'intens', 'case', 'manag', 'worker', 'report', 'directli', 'program', 'coordin', 'director', 'oasi', 'applic', 'deadlin', 'septemb', '12th', '2014', '4', '00', 'pm']\n",
      "['fort', 'worth', 'base', 'startup', 'tri', 'chang', 'way', 'compani', 'manag', 'monitor', 'develop', 'hipaa', 'complianc', 'program', 'grow', 'team', 'work', 'close', 'togeth', 'move', 'fast', 'enjoy', 'compani', 'organ', 'countri', 'use', 'account', 'help', 'manag', 'hipaa', 'complianc', 'join', 'us', 'build', 'someth', 'big', 'us', 'account', 'back', 'techstar', 'rockhealth', 'becom', 'member', 'grow', 'fort', 'worth', 'texa', 'base', 'market', 'team', 'help', 'us', 'expand', 'brand', 'reach', 'onlin', 'market', 'sem', 'content', 'market', 'affili', 'network', 'partnership', 'job', 'drive', 'target', 'traffic', 'develop', 'execut', 'market', 'plan', 'manag', 'numer', 'market', 'channel', 'concurr', 'manag', 'public', 'relat', 'manag', 'googl', 'adword', 'optim', 'build', 'land', 'page', 'use', 'unbounc', 'ab', 'test', 'identifi', 'best', 'convert', 'page', 'draft', 'land', 'page', 'copi']\n",
      "['apcera', 'revolution', 'enterpris', 'technolog', 'experi', 'around', 'continuum', 'apcera', 'innov', 'platform', 'solv', '’', 'toughest', 'challeng', 'userfriendli', 'way', 'platform', 'let', 'peopl', 'appli', 'polici', 'ensur', 'happen', 'happen', 'make', 'technolog', 'smarter', 'peopl', 'spend', 'less', 'time', 'mainten', 'time', 'make', 'new', 'thing', 'seek', 'experi', 'visual', 'design', 'work', 'close', 'mani', 'member', 'team', 'order', 'creat', 'compel', 'effici', 'visual', 'design', 'continuum', 'product']\n",
      "['play', 'kid', 'get', 'pay', 'love', 'travel', 'open', 'china', '1500', 'usd', 'monthli', '200', 'cost', 'live', 'hous', 'providedairfar', 'reimbursedexcel', 'student', 'loanscredit', 'card', 'pleas', 'let', 'us', 'know', 'would', 'look', 'start', 'appli']\n",
      "['primari', 'function', 'posit', 'perform', 'specif', 'task', 'follow', 'standard', 'procedur', 'complet', 'follow', 'unload', 'variou', 'raw', 'materi', 'chemic', 'bulk', 'form', 'maintain', 'follow', 'proper', 'recordkeep', 'document', 'prepar', 'variou', 'ferment', 'ingredi', 'use', 'autom', 'batch', 'system', 'program', 'clean', 'assign', 'throughout', 'plant', 'outsid', 'ground', 'maintain', 'good', 'housekeep', 'regular', 'basi', 'assist', 'depart', 'throughout', 'plant', 'variou', 'task', 'assign', 'gs', 'supervisor', 'gs', 'lead', 'oper', 'essenti', 'duti', 'respons', 'includ', 'follow', 'duti', 'assign', 'inspect', 'document', 'unload', 'bulk', 'raw', 'materi', 'chemic', 'includ', 'tanker', 'railcar', 'per', 'write', 'standard', 'oper', 'procedur', 'effect', 'oper', 'manag', 'ingredi', 'batch', 'system', 'order', 'produc', 'qualiti', 'ingredi', 'meet', 'specif', 'ensur', 'deliveri', 'ingredi', 'process', 'depart', 'consist', 'time', 'effect', 'manag', 'tank', 'level', 'variou', 'raw', 'materi', 'ensur', 'uninterrupt', 'suppli', 'safe', 'unload', 'level', 'perform', 'routin', 'nonroutin', 'clean', 'task', 'insid', 'outsid', 'facil', 'requir', 'depart', 'master', 'clean', 'schedul', 'assign', 'supervisor', 'assist', 'area', 'depart', 'includ', 'shippingdock', 'receiv', 'line', 'suppli', 'need', 'perform', 'miscellan', 'minor', 'repair', 'depart', 'direct', 'supervisor', 'particip', 'variou', 'special', 'plant', 'project', 'direct', 'supervisor']\n",
      "['play', 'kid', 'get', 'pay', 'love', 'travel', 'job', 'asia', '1500', 'usd', 'monthli', '200', 'cost', 'live', 'hous', 'provid', 'privatefurnishedairfar', 'reimbursedexcel', 'student', 'loanscredit', 'card', 'gabriel', 'adkin', 'urled9094c60184b8a4975333957f05be37e69d3cdb68decc9dd9a4242733cfd7f7url75db76d58f7994c7db24e8998c2fc953ab9a20ea9ac948b217693963f78d2e6b', '12', 'month', 'contract', 'appli', 'today']\n",
      "['current', 'seek', 'custom', 'servic', 'associ', '–', 'mail', 'document', 'prepar', 'right', 'candid', 'integr', 'part', 'talent', 'team', 'support', 'continu', 'growth', 'posit', 'locat', 'windsor', 'ct', 'locat', 'respons', 'includ', 'limit', 'open', 'mail', 'manual', 'use', 'high', 'speed', 'open', 'autoassist', 'extract', 'equip', 'identifi', 'classifi', 'sort', 'document', 'prepar', 'mail', 'document', 'scan', 'assembl', 'document', 'batch', 'verifi', 'document', 'andor', 'page', 'volum', 'lift', 'larg', 'box', 'paper', 'storag', 'product', 'use', 'handl', 'timesensit', 'materi', 'handl', 'confidenti', 'materi', 'process', 'cash', 'check', 'accord', 'secur', 'oper', 'polici', 'procedur', 'perform', 'daili', 'keyoper', 'mail', 'process', 'equip', 'mainten', 'perform', 'duti', 'special', 'request', 'assign', 'team', 'leader', 'manag', 'ensur', 'oper', 'qualiti', 'standard', 'meet', 'base', 'servic', 'object', 'maintain', 'accuraci', 'requir', 'report', 'log', 'measur', 'ensur', 'highest', 'level', 'custom', 'care', 'identifi', 'refer', 'salescu', 'lead', 'potenti', 'addon', 'busi', 'ensur', 'adher', 'busi', 'guidelin', 'safeti', 'amp', 'secur', 'procedur', 'support', 'financi', 'result', 'minim', 'site', 'wast', 'rework', 'abil', 'crosstrain', 'function', 'area']\n",
      "['duti', 'conduct', 'research', 'build', 'technic', 'statist', 'algorithm', 'math', 'model', 'perform', 'stock', 'option', 'futur', 'market', 'analysi', 'implement', 'model', 'softwar', 'product', 'help', 'improv', 'compani', 'client', '’', 'stock', 'option', 'trade', 'take', 'part', 'quantit', 'analysi', 'team', 'trader', 'build', 'algorithm', 'model', 'optim', 'stock', 'option', 'trade', 'research', 'histor', 'data', 'analysi', 'contribut', 'gener', 'new', 'trade', 'idea', 'strategi', 'develop', 'design', 'program', 'debug', 'softwar', 'implement', 'build', 'algorithm', 'model', 'improv', 'stock', 'option', 'trade', 'perform', 'advanc', 'risk', 'manag', 'standalon', 'desktop', 'softwar', 'public', 'trade', 'platform', 'addon', 'metatrad', 'ninjatrad', 'tradest', 'develop', 'technic', 'indic', 'trade', 'templat', 'specifi', 'compani', 'team', 'member', 'tradest', 'ninjatrad', 'sierrachart', 'chart', 'thinkorswim', 'improv', 'proprietari', 'financ', 'softwar', 'compani', 'provid', 'client', 'includ', 'optim', 'modif', 'technic', 'indic', 'algorithm', 'trade', 'system', 'expert', 'advisor', 'custom', 'scanner', 'artifici', 'intellig', 'neural', 'networkbas', 'predict', 'softwar', 'forecast', 'futur', 'stock', 'movement', 'creat', 'proprietari', 'financ', 'softwar', 'includ', 'avail', 'public', 'user', 'use', 'inhous', 'orient', 'web', 'applic', 'creat', 'tool', 'financi', 'analysi', 'purpos', 'creat', 'clientserv', 'orient', 'softwar', 'adob', 'flex', 'perform', 'client', 'server', 'side', 'build', 'protect', 'system', 'compani', 'softwar', 'provid', 'regist', 'user', 'activ', 'key', 'membership', 'subscript', 'manag']\n",
      "['boutiqu', 'digit', 'agenc', 'base', 'auckland', 'serv', 'wide', 'rang', 'client', 'includ', 'new', 'zealand', 'best', 'know', 'love', 'consum', 'brand', 'immedi', 'need', 'promis', 'digit', 'develop']\n",
      "['look', 'candiat', 'capabl', 'develop', 'flashas3', 'base', 'video', 'player', 'nbspthe', 'candid', 'knowledg', 'script', 'as3', 'handl', 'video', 'stream', 'abl', 'program', 'function', 'user', 'interfac']\n",
      "['1500', 'job', 'open', 'websit', 'relev', 'job', 'feel', 'free', 'search', 'websit', 'appli', 'directli', 'click', '“', 'appli', '”', 'redirect', 'main', 'websit', 'search', 'job', 'educ', '4year', 'degre', 'requir', 'busi', 'food', 'scienc', 'engin', 'relat', 'disciplinesrequir', 'skill', '3', 'year', 'experi', 'food', 'manufactur', 'consum', 'packag', 'good', 'industri', 'must', 'experi', 'lean', 'manufactur', 'environ', 'good', 'knowledg', 'qualiti', 'regulatori', 'requir', 'gmp', 'aib', 'fda', 'visit', 'urlec64af2b4fe2ca316e828f93b0cd098c22f8beba98dcac09d4dd7384b221a5e8url2954b76adf23051d4bc35fc729f5a18c5de715ed82dfaee24b3aabbf3874ca57']\n",
      "['1500', 'job', 'open', 'websit', 'relev', 'job', 'feel', 'free', 'search', 'websit', 'appli', 'directli', 'click', '“', 'appli', '”', 'redirect', 'main', 'websit', 'search', 'job', 'locat', 'atlanta', 'ga', 'usa', 'job', 'type', '–', 'perman', 'job', 'requir', 'amp', 'respons', '–', 'specif', 'respons', 'coordin', 'project', 'manag', 'new', 'product', 'develop', 'project', 'act', 'team', 'leader', 'perform', 'project', 'manag', 'duti', 'new', 'product', 'develop', 'project', 'lead', 'cross', 'function', 'team', 'defin', 'gate', 'npd', 'process', 'lead', 'cross', 'function', 'team', 'develop', 'project', 'timelin', 'maintain', 'throughout', 'life', 'project', 'period', 'present', 'statu', 'project', 'manag', 'facilit', 'coordin', 'project', 'activ', 'minim', 'project', 'timelin', 'assign', 'altern', 'member', 'find', 'altern', 'resourc', 'person', 'complet', 'project', 'task', 'team', 'member', 'absent', 'unabl', 'complet', 'task', 'per', 'timelin', 'develop', 'manag', 'project', 'budget', 'team', 'includ', 'develop', 'expens', 'capit', 'tool', 'expens', 'tool', 'guid', 'team', 'develop', 'new', 'product', 'meet', 'cost', 'target', 'primarili', 'respons', 'creat', 'preliminari', 'product', 'cost', 'estim', 'conjunct', 'engin', 'primarili', 'respons', 'accuraci', 'preliminari', 'cost', 'estim', 'final', 'cost', 'product', 'defin', 'role', 'amp', 'respons', 'team', 'member', 'undefin', 'process', 'new', 'process', 'creat', 'uniqu', 'instanc', 'occur', 'manag', 'collect', 'project', 'data', 'npd', 'process', 'gate', 'exit', 'releas', 'shipment', 'document', 'facilit', 'team', 'meet', 'record', 'meet', 'minut', 'connect', 'member', 'appropri', 'personnel', 'includ', 'manufactur', 'test', 'lab', 'legal', 'etc', 'drive', 'team', 'manufactur', 'personnel', 'suppli', 'chain', 'toward', 'time', 'complet', 'pilot', 'build', 'inventori', 'build', 'educ', 'experi', 'requir', 'bachelor', 'scienc', 'degre', 'engin', 'applic', 'four', 'year', 'degre', 'minimum', 'eight', 'year', 'experi', 'project', 'manag', 'product', 'design', 'process', 'engin', 'manufactur', 'engin', 'altern', 'fifteen', 'year', 'experi', 'prove', 'abil', 'relat', 'field', 'work', 'environ', 'experi', 'manag', 'project', 'work', 'crossfunct', 'team', 'environ', 'andor', 'function', 'project', 'team', 'leader', 'requir', 'strong', 'organiz', 'commun', 'skill', 'requir', 'visit', 'urlec64af2b4fe2ca316e828f93b0cd098c22f8beba98dcac09d4dd7384b221a5e8url2954b76adf23051d4bc35fc729f5a18c5de715ed82dfaee24b3aabbf3874ca57']\n",
      "['posit', '1', 'rubi', 'autom', 'engineerloc', 'menlo', 'park', 'ca', 'posit', '2', 'rubi', 'rail', 'engineerloc', 'pleasanton', 'calength', '–', '9', 'month', 'plu', 'look', '45', 'year', 'experi', 'someon', 'work', 'excit', 'ecommerc', 'web', 'project', 'ror']\n",
      "['tast', 'adventur', 'present', 'engag', 'custom', 'hotel', 'chocolat', 'world', 'chocol', 'present', 'tast', 'event', 'london', 'across', 'uk', 'ensur', 'event', 'authent', 'promot', 'hotel', 'chocolat', 'brand', 'valu', 'educ', 'excit', 'delight', 'guest', 'cocoa', 'fuel', 'experi', 'also', 'respons', 'drive', 'event', 'sale', 'support', 'pr', 'market', 'activ', 'relat', 'chocol', 'cocoa', 'cuisin', 'full', 'detail', 'amp', 'job', 'descript', 'find']\n",
      "['would', 'like', 'work', 'trust', 'organ', 'valu', 'employe', 'usalli', 'career', 'journey', 'start', 'posit', 'product', 'engag', 'workplac', 'employe', 'valu', 'respect', 'look', 'experi', 'branch', 'servic', 'associ', 'deliv', 'excel', 'servic', 'maxim', 'member', 'solut', 'identifi', 'referr', 'opportun', 'new', 'product', 'servic', 'base', 'member', '’', 'financi', 'goal', 'perform', 'effici', 'accur', 'bank', 'transact', 'perform', 'member', 'transact', 'includ', 'deposit', 'withdraw', 'money', 'order', 'etc', 'cross', 'sell', 'usalli', 'product', 'servic']\n",
      "['custom', 'servic', 'associ', 'base', 'plantat', 'fl', 'right', 'candid', 'integr', 'part', 'talent', 'team', 'support', 'continu', 'growth', 'respons', 'perform', 'variou', 'mail', 'center', 'activ', 'sort', 'meter', 'fold', 'insert', 'deliveri', 'pickup', 'etc', 'lift', 'heavi', 'box', 'file', 'paper', 'need', 'maintain', 'highest', 'level', 'custom', 'care', 'demonstr', 'friendli', 'cooper', 'attitud', 'demonstr', 'flexibl', 'satisfi', 'custom', 'demand', 'high', 'volum', 'product', 'environ', 'consist', 'adher', 'busi', 'procedur', 'guidelin', 'adher', 'safeti', 'procedur', 'take', 'direct', 'supervisor', 'site', 'manag', 'maintain', 'log', 'report', 'document', 'attent', 'detail', 'particip', 'crosstrain', 'perform', 'duti', 'assign', 'file', 'outgo', 'shipment', 'etc', 'oper', 'mail', 'copi', 'scan', 'equip', 'ship', 'amp', 'receiv', 'handl', 'timesensit', 'materi', 'like', 'confidenti', 'urgent', 'packag', 'perform', 'task', 'assign', 'scan', 'incom', 'mail', 'recipi', 'perform', 'file', 'purg', 'pull', 'creat', 'file', 'ship', 'file', 'provid', 'backfil', 'need', 'enter', 'inform', 'daili', 'spreadsheet', 'identifi', 'charg', 'match', 'bill', 'sort', 'deliv', 'mail', 'small', 'packag']\n",
      "['wellknown', 'hospit', 'dubai', 'look', 'full', 'time', 'specialist', 'obsgynec', 'dhahaadmoh', 'licens', 'join', 'institut', 'elig', 'amp', 'interest', 'candid', 'forward', 'cv', 'us', 'contact']\n",
      "['custom', 'servic', 'associ', 'base', 'dover', 'nh', 'right', 'candid', 'integr', 'part', 'talent', 'team', 'support', 'continu', 'growth', 'respons', 'data', 'entri', 'compil', 'updat', 'data', 'rel', 'area', 'activ', 'good', 'comput', 'skill', 'clear', 'telephon', 'voic', 'answer', 'intern', 'extern', 'call', 'direct', 'caller', 'appropri', 'confid', 'polit', 'demeanor', 'abil', 'work', 'quickli', 'accur', 'pressur', 'excel', 'custom', 'care', 'skill', 'abil', 'handl', 'difficult', 'call', 'calm', 'profession', 'manner', 'awar', 'confidenti', 'maintain', 'highest', 'level', 'custom', 'care', 'demonstr', 'friendli', 'cooper', 'attitud', 'demonstr', 'flexibl', 'satisfi', 'custom', 'call', 'high', 'volum', 'environ', 'consist', 'adher', 'busi', 'procedur', 'guidelin', 'familiar', 'standard', 'offic', 'equip', 'comput', 'fax', 'multifunct', 'devic', 'etc', 'adher', 'safeti', 'procedur', 'take', 'direct', 'supervisor', 'site', 'manag', 'maintain', 'log', 'report', 'document', 'attent', 'detail', 'particip', 'crosstrain', 'perform', 'task', 'assign']\n",
      "['look', 'senior', 'rail', 'fullstack', 'engin', 'mf', 'fulltim', 'start', 'immedi', 'offic', 'berlinkreuzberg', 'germani', 'million', 'regular', 'user', '7000', 'hour', 'premium', 'content', 'url8e4e9897aecb1980ec96e296864343a4402263bc440bec39377381446da44dc8', 'grow', 'fast', 'shape', 'futur', 'learn', 'creativ', 'innov', 'problemsolv', 'vision', 'chang', 'futur', 'learn', 'experi', 'fullstack', 'softwar', 'engin', 'passion', 'frontend', 'love', 'work', 'ambiti', 'colleagu', 'challeng', 'environ', 'mission', 'build', 'groundbreak', 'product', 'worldclass', 'technolog', 'bring', 'babbel', 'learn', 'experi', 'next', 'level', 'million', 'peopl', 'anytim', 'anywher', 'technic', 'lead', 'one', 'rubi', 'rail', 'team', 'focu', 'user', 'experi', 'work', 'crossfunct', 'scrum', 'team', 'togeth', 'design', 'engin', 'enabl', 'team', 'deliv', 'high', 'qualiti', 'innov', 'product', 'featur', 'short', 'sprint', 'cycl', 'respons', 'lead', 'team', 'technic', 'excel', 'togeth', 'frontend', 'architectur', 'lead', 'complet', 'technic', 'overview', 'technic', 'solut', 'remind', 'team', 'long', 'term', 'architectur', 'vision', 'facilit', 'standard', 'qualiti', 'within', 'team', 'reduc', 'technic', 'debt', 'part', 'team', 'write', 'signfic', 'amount', 'code', 'code', 'alon', 'ensur', 'collect', 'code', 'ownership', 'coach', 'challeng', 'team', 'well', 'team', 'member', 'develop', 'technic', 'amp', 'person', 'skill', 'conduct', 'regular', 'object', 'amp', 'feedback', 'assist', 'hire', 'ensur', 'onboard', 'new', 'employe', 'work', 'close', 'scrummast', 'improv', 'scrum', 'adopt', 'agil', 'process', 'team', 'work', 'close', 'togeth', 'product', 'owner', 'stakehold', 'assur', 'technic', 'feasibl', 'identifi', 'risk', 'earli', 'stage']\n",
      "['job', 'titl', 'certifi', 'coder', 'depart', 'item', 'review', 'report', 'item', 'review', 'supervisor', 'gener', 'descript', 'revers', 'code', 'previous', 'cod', 'medic', 'bill', 'determin', 'cod', 'accuraci', 'duti', 'respons', 'receiv', 'claim', 'process', 'base', 'state', 'rule', 'regul', 'determin', 'valid', 'compens', 'claim', 'use', 'proprietari', 'program', 'make', 'recommend', 'refer', 'offic', 'commun', 'claim', 'statu', 'refer', 'offic', 'read', 'comprehend', 'medic', 'aapc', 'report', 'adher', 'client', 'carrier', 'guidelin', 'particip', 'claim', 'review', 'need', 'assist', 'claim', 'profession', 'complex', 'problemat', 'claim', 'necessari', 'addit', 'dutiesrespons', 'assign', 'compli', 'safeti', 'rulesregul', 'conjunct', 'injuri', 'ill', 'prevent', 'program', '“', 'iipp', '”', 'well', 'maintain', 'hipaa', 'complianc', 'qualif', 'high', 'school', 'diploma', 'equival', 'current', 'aapc', 'certif', 'must', 'maintain', 'throughout', 'employ', 'current', 'activ', 'statu', 'certif', 'cpc', 'aapc', '5', 'year', 'w', 'surgic', 'offic', 'experi', 'current', 'recent', 'orthoped', 'billingcod', 'experi', 'em', 'codingdowncod', 'experi', 'encoderpro', 'softwar', 'experi', 'texa', 'worker', 'compens', 'experi', 'prefer', 'pain', 'managementanesthesiagener', 'surgeri', 'cod', 'experi', 'prefer', 'abil', 'learn', 'rapidli', 'develop', 'knowledg', 'understand', 'claim', 'practic', 'strong', 'organiz', 'skill', 'abil', 'meet', 'exceed', 'perform', 'compet', 'effect', 'profession', 'commun', 'skill', 'abil', 'handl', 'stress', 'situat', 'use', 'critic', 'strateg', 'think', 'demonstr', 'outstand', 'leadership', 'problem', 'solv', 'analyt', 'skill', 'abil', 'think', 'work', 'independ', 'work', 'overal', 'team', 'environ', 'profici', 'microsoft', 'offic', 'suit']\n",
      "['datafinch', 'technolog', 'leader', 'electron', 'data', 'collect', 'autism', 'special', 'educ', 'field', 'creat', 'revolutionari', 'one', 'kind', 'softwar', 'product', 'target', 'school', 'physician', 'inhom', 'autism', 'provid', 'nonprofit', 'organ', 'come', 'work', 'fastpac', 'fun', 'technolog', 'compani', 'grow', 'field', 'experi', 'latest', 'greatest', 'cut', 'edg', 'technolog', 'candid', 'role', 'assist', 'daili', 'program', 'activ', 'compani', 'complet', 'bootstrap', 'organ', 'current', 'investor', '15000', 'licens', 'user', 'year', 'break', '2', 'million', 'revenu', 'locat', 'near', 'perimet', 'mall', 'respons', 'develop', 'datafinch', 'key', 'contributor', 'deliv', 'new', 'product', 'featur', 'function', 'use', 'agil', 'develop', 'process', 'weekli', 'iter', 'see', 'result', 'work', 'product', 'applic', 'matter', 'week', 'involv', 'phase', 'softwar', 'develop', 'lifecycl', 'requir', 'analysi', 'design', 'implement', 'test', 'product', 'support', 'candid', 'opportun', 'learn', 'practic', 'softwar', 'applic', 'develop', 'across', 'widevarieti', 'platform', 'technolog', 'technolog', 'methodolog', 'use', 'c', 'urlc5591c960537d84ff7889f414633cdbc8e7d36f3fe042a096d374e4e058388d5', 'mvc', 'restjson', 'android', 'iphoneipad', 'develop', 'c', 'url99ced09109c03cb3728ee6e8ee2f4fb844cbc2671a9fe2bc5c00af87d89d8207', 'urld78c1c39e151d1097a9e1bb674559cc85de1392c6b91cc3fa826cbcb8ec0590a', 'window', 'mobil', 'microsoft', 'sql', 'server', 'git', 'nhibern', 'sqlite', 'html', '5', 'css', 'html', 'bootstrap', 'jqueryjavascript', 'ajax', 'emb', 'system', 'netduino', 'agent', 'watch', 'googl', 'glass', 'test', 'drive', 'develop', 'behavior', 'drive', 'design', 'user', 'interfac', 'design', 'test', 'agil', 'develop', 'process', 'cqr', 'command', 'queri', 'respons', 'separ', 'invers', 'control', 'ii', '70', 'web', 'farm', 'amp', 'load', 'balanc', 'amazon', 'ec2', 's3', 'vpc', 'domainspecif', 'languag', 'statist', 'analysi', '3rd', 'parti', 'integr']\n",
      "['one', 'manag', 'posit', 'per', 'cityregion', 'open', 'right', 'work', 'home', 'phone', 'person', 'local', '–', 'choic', '40', 'major', 'citi', 'still', 'avail', 'earn', '40', 'gross', 'profit', 'team', 'fund', 'deal', 'earn', '40', 'gross', 'profit', 'team', 'renew', 'stack', 'earn', '10', 'client', 'equiti', 'team', 'client', 'base', 'plu', 'earn', '60', 'fund', 'amount', 'commiss', 'deal', 'earn', '50', 'extra', 'fee', 'charg', 'deal', 'earn', '50', 'client', 'equiti', 'client', 'base', 'work', 'merchant', 'cash', 'advancesmal', 'busi', 'fund', 'industri', 'want', 'creat', 'team', 'rep', 'also', 'abil', 'recruit', 'rep', 'team', 'want', 'get', 'pay', 'effort', 'read', 'ad', 'care', 'compani', 'prefer', 'relationship', '30', 'differ', 'privat', 'fund', 'sourc', 'great', 'reput', 'name', 'ad', 'prevent', 'us', 'show', 'googl', 'index', 'compani', 'name', 'would', 'let', 'exist', 'potenti', 'client', 'know', 'much', 'commiss', 'make', 'disast', 'would', 'agre', 'give', 'name', 'check', 'us', 'see', 'real', 'deal', 'manag', 'posit', 'avail', 'limit', 'number', 'individu', 'hungri', 'build', 'six', 'figur', 'incom', 'client', 'base', 'small', 'busi', 'fund', 'industri', 'take', 'one', 'manag', 'cover', 'one', 'geograph', 'area', 'citi', 'state', 'region', 'depend', 'upon', 'popul', 'densiti', 'manag', 'right', 'recruit', 'within', 'assign', 'territori', 'team', 'get', 'deal', 'fund', 'countri', 'best', 'part', 'do', 'phone', 'qualifi', 'manag', 'agreement', 'allow', 'build', 'sale', 'team', 'rep', 'compani', 'get', 'pay', '40', 'gross', 'profit', 'fund', 'deal', 'gross', 'profit', 'agreement', 'amount', 'leav', 'contract', 'rep', 'team', 'pay', 'commiss', 'recruit', 'rep', 'earn', 'either', '3', '5', '6', 'fund', 'amount', 'deal', 'depend', 'upon', 'repay', 'term', 'plu', 'earn', '50', 'extra', 'fee', 'charg', 'compani', 'exampl', 'would', 'deal', 'good', '50000', 'first', 'posit', 'restaur', 'truck', 'compani', 'industri', 'insid', 'box', 'type', 'busi', 'get', '12', 'fund', 'amount', 'case', 'top', 'sell', 'rate', 'commiss', 'funder', 'plu', 'charg', 'fee', 'first', 'posit', 'deal', 'anoth', '2', '4', 'first', 'posit', 'deal', 'fund', 'place', 'pay', 'rep', '5', '6', 'deal', 'like', 'plu', '50', 'fee', 'lot', 'room', 'leav', 'profit', '50k', '12', 'plu', '3', 'fee', 'rep', 'get', '5', 'commiss', 'fund', 'amount', '1', '12', 'fee', 'commiss', '3250', 'commiss', 'would', '7', '1', '12', 'leav', 'gross', 'profit', 'compani', 'manag', 'split', '6040', '4250', 'gross', 'profit', 'deal', '1700', 'overrid', 'commiss', 'manag', 'imagin', '20', 'overrid', 'per', 'month', 'even', 'subprim', 'deal', '2nd', '3rd', 'posit', 'ga', 'station', 'sub', '500', 'credit', '6', 'month', 'busi', 'etc', 'get', '6', '8', 'fund', 'amount', 'plu', 'charg', '3', '12', 'fee', 'depend', 'upon', 'deal', 'real', 'bad', 'deal', 'worst', 'case', 'scenario', 'rep', 'get', '3', 'compani', 'get', '3', 'fund', 'commiss', 'compani', 'rep', 'split', 'anoth', '5', 'fee', '50k', 'subprim', 'deal', 'would', 'equal', '2750', 'gross', 'profit', 'compani', '1100', 'overrid', 'commiss', 'manag', 'manag', '’', 'agreement', 'also', 'prevent', 'circumv', 'rep', 'sign', 'lock', 'long', 'remain', 'compani', 'even', 'get', 'pay', 'residu', '2', 'year', 'last', 'activ', 'date', 'us', 'ever', 'leav', 'opportun', 'limit', 'time', 'even', 'though', 'set', 'quota', 'decent', 'level', 'perform', 'meet', 'opportun', 'would', 'revok', '30', '60', 'day', 'also', 'would', 'provid', 'ad', 'run', 'design', 'citi', 'would', 'rereimburs', 'overrid', 'commiss', 'pay', 'would', 'also', 'provid', 'recruit', 'rep', 'compani', 'email', 'recruit', 'must', 'do', 'email', 'uniqu', 'way', 'sell', 'busi', 'fund', 'product', 'work', 'rep', 'big', 'way', 'provid', 'script', 'materi', 'give', 'rep', 'ultim', 'recruit', 'use', 'ad', 'use', 'contact', 'local', 'b', 'train', 'use', 'script', 'combin', 'experi', 'industri', 'knowledg', 'c', 'manag', 'keep', 'motiv', 'answer', 'question', 'act', 'liaison', 'compani', '3', 'thing', 'keep', 'build', 'six', 'figur', 'incom', 'busi', 'thing', 'well', 'build', 'huge', 'incom', 'book', 'busi', 'cash', 'futur', 'sell', 'go', 'public', 'busi', 'besid', 'great', 'profit', 'margin', 'lucr', 'opportun', 'right', 'person', 'experi', 'busi', 'repli', 'ad', 'rep', 'sit', 'someon', 'els', 'busi', 'make', '3', '4', 'fund', 'amount', 'deal', 'less', 'littl', 'residu', 'client', 'equiti', 'want', 'chanc', 'build', 'team', 'get', 'pay', 'leverag', 'incom', 'residu', 'incom', 'effort', 'other', 'welcom', 'appli', 'give', 'posit', 'one', 'person', 'cover', 'one', 'citi', 'even', 'though', 'team', 'get', 'deal', 'countri', 'recruit', 'rep', 'cl', 'design', 'area', 'may', 'recruit', 'offlin', 'wherev', 'want', 'appli', 'convinc', 'enough', 'us', 'call', 'back', 'experi', 'mca', 'industri', 'posit']\n",
      "['raygun', 'fast', 'grow', 'mindscap', 'product', 'url6b2f170addc3dd0415d65e21a8ece81d4c134c2b1a8b449386367dfaa286971b', 'raygun', 'cloud', 'servic', 'automat', 'collect', 'data', 'softwar', 'crash', 'error', 'raygun', 'fast', 'becom', '1', 'choic', 'servic', 'amp', 'huge', 'ambit', 'build', 'strong', 'global', 'brand', 'amp', 'product', 'come', 'join', 'small', 'team', 'direct', 'impact', 'raygun', 'softwar', 'need', 'strong', 'person', 'handl', 'challeng', 'balanc', 'product', 'roadmap', 'custom', 'demand', 'market', 'requir', 'competitor', 'respons', 'expect', 'bring', 'strong', 'work', 'ethic', 'solid', 'manag', 'skill', 'hunger', 'alway', 'move', 'faster', 'find', 'read', 'articl', 'like', 'one', 'nod', 'point', 'make', 'team', 'tight', 'overse', 'aspect', 'product', 'role', 'suit', 'either', 'exist', 'product', 'manag', 'project', 'manag', 'strong', 'technic', 'skill', 'keen', 'take', 'challeng', 'market', 'amp', 'competitor', 'analysi', 'challeng']\n",
      "['play', 'kid', 'get', 'pay', 'love', 'travel', 'job', 'asia', '1500', 'usd', 'monthli', '200', 'cost', 'live', 'hous', 'provid', 'privatefurnishedairfar', 'reimbursedexcel', 'student', 'loanscredit', 'card', 'gabriel', 'adkin', 'urled9094c60184b8a4975333957f05be37e69d3cdb68decc9dd9a4242733cfd7f7url75db76d58f7994c7db24e8998c2fc953ab9a20ea9ac948b217693963f78d2e6b', '12', 'month', 'contract', 'appli', 'today']\n",
      "['custom', 'servic', 'technic', 'specialist', 'base', 'san', 'francisco', 'ca', 'right', 'candid', 'integr', 'part', 'talent', 'team', 'support', 'continu', 'growth', 'key', 'respons', 'includ', 'product', 'print', 'oper', '–', 'maintain', 'work', 'knowledg', 'product', 'print', 'copi', 'equip', 'site', 'oper', 'variou', 'product', 'scale', 'printer', 'organ', 'daili', 'print', 'flow', 'assist', 'technic', 'support', 'onsit', 'tech', 'troubl', 'shoot', 'basic', 'mainten', 'perform', 'duti', 'assign', 'manag', 'includ', 'mail', 'servic', 'reprograph', 'servic', 'fax', 'servic', 'messeng', 'servic', 'establish', 'oper', 'procedur', 'qualiti', 'standard', 'respons', 'aspect', 'equip', 'remain', 'inform', 'adher', 'establish', 'safeti', 'secur', 'procedur', 'perform', 'necessari', 'adjust', 'outlin', 'oper', '’', 'manual', 'set', 'equip', 'follow', 'startup', 'shutdown', 'cleanup', 'procedur', 'equip', 'monitor', 'oper', 'make', 'mechan', 'adjust', 'need', 'ensur', 'proper', 'qualiti', 'output', 'creat', 'excel', 'spreadsheet', 'mail', 'merg', 'project', 'word', 'document', 'complet', 'multipl', 'project', 'one', 'time', 'lift', 'heavi', 'box', 'file', 'paper', 'need', 'maintain', 'highest', 'level', 'custom', 'care', 'demonstr', 'friendli', 'cooper', 'attitud', 'demonstr', 'flexibl', 'satisfi', 'custom', 'demand', 'high', 'volum', 'product', 'environ', 'consist', 'adher', 'busi', 'procedur', 'guidelin', 'adher', 'safeti', 'procedur', 'take', 'direct', 'supervisor', 'site', 'manag', 'maintain', 'log', 'report', 'document', 'attent', 'detail', 'particip', 'crosstrain', 'perform', 'duti', 'assign', 'answer', 'phone', 'outgo', 'shipment', 'etc', 'ship', 'amp', 'receiv', 'lift', 'larg', 'bundl', 'mail', 'overnight', 'packag', 'shipment', 'paper', 'maintain', 'highest', 'level', 'custom', 'care', 'demonstr', 'friendli', 'cooper', 'attitud', 'perform', 'task', 'assign']\n",
      "['current', 'recruit', 'excit', 'sale', 'amp', 'custom', 'servic', 'role', 'look', 'someon', 'passion', 'sale', 'beauti', 'fragranc', 'enthusiast', 'drive', 'ideal', 'candid', 'abil', 'demonstr', 'fresh', 'approach', 'sale', 'abl', 'work', 'fast', 'pace', 'versatil', 'environ', 'look', 'build', 'career', 'beauti', 'promot', 'work', 'sale', 'custom', 'servic', 'appli', 'role', 'would', 'suit', 'anyon', 'follow', 'experi', 'great', 'commun', 'skill', 'posit', 'attitud', 'abl', 'hit', 'target', 'achiev', 'goal', 'abl', 'work', 'custom', 'face', 'role', 'abil', 'build', 'maintain', 'strong', 'relationship', 'client', 'custom', 'beauti', 'train', 'make', 'artisti', 'fragranc', 'cosmet', 'counter', 'experi', 'full', 'product', 'train', 'avail', 'success', 'candid']\n",
      "['current', 'seek', 'gener', 'clerk', 'right', 'candid', 'integr', 'part', 'talent', 'team', 'support', 'continu', 'growth', 'posit', 'locat', 'london', 'ky', 'locat', 'respons', 'includ', 'limit', 'open', 'mail', 'manual', 'use', 'high', 'speed', 'open', 'autoassist', 'extract', 'equip', 'identifi', 'classifi', 'sort', 'document', 'prepar', 'mail', 'document', 'scan', 'assembl', 'document', 'batch', 'verifi', 'document', 'andor', 'page', 'volum', 'lift', 'larg', 'box', 'paper', 'storag', 'product', 'use', 'handl', 'timesensit', 'materi', 'handl', 'confidenti', 'materi', 'process', 'cash', 'check', 'accord', 'secur', 'oper', 'polici', 'procedur', 'perform', 'daili', 'keyoper', 'mail', 'process', 'equip', 'mainten', 'perform', 'duti', 'special', 'request', 'assign', 'team', 'leader', 'manag', 'ensur', 'oper', 'qualiti', 'standard', 'meet', 'base', 'servic', 'object', 'maintain', 'accuraci', 'requir', 'report', 'log', 'measur', 'ensur', 'highest', 'level', 'custom', 'care', 'identifi', 'refer', 'salescu', 'lead', 'potenti', 'addon', 'busi', 'ensur', 'adher', 'busi', 'guidelin', 'safeti', 'amp', 'secur', 'procedur', 'support', 'financi', 'result', 'minim', 'site', 'wast', 'rework']\n",
      "['custom', 'servic', 'associ', 'base', 'charlott', 'nc', 'right', 'candid', 'integr', 'part', 'talent', 'team', 'support', 'continu', 'growth', 'respons', 'perform', 'variou', 'mail', 'center', 'activ', 'sort', 'meter', 'fold', 'insert', 'deliveri', 'pickup', 'etc', 'lift', 'heavi', 'box', 'file', 'paper', 'need', 'maintain', 'highest', 'level', 'custom', 'care', 'demonstr', 'friendli', 'cooper', 'attitud', 'demonstr', 'flexibl', 'satisfi', 'custom', 'demand', 'high', 'volum', 'product', 'environ', 'consist', 'adher', 'busi', 'procedur', 'guidelin', 'adher', 'safeti', 'procedur', 'take', 'direct', 'supervisor', 'site', 'manag', 'maintain', 'log', 'report', 'document', 'attent', 'detail', 'particip', 'crosstrain', 'perform', 'duti', 'assign', 'file', 'outgo', 'shipment', 'etc', 'oper', 'mail', 'copi', 'scan', 'equip', 'ship', 'amp', 'receiv', 'handl', 'timesensit', 'materi', 'like', 'confidenti', 'urgent', 'packag', 'scan', 'incom', 'mail', 'recipi', 'perform', 'file', 'purg', 'pull', 'creat', 'file', 'ship', 'file', 'provid', 'backfil', 'need', 'enter', 'inform', 'daili', 'spreadsheet', 'identifi', 'charg', 'match', 'bill', 'sort', 'deliv', 'mail', 'small', 'packag']\n",
      "['green', 'street', 'advisor', 'preemin', 'independ', 'research', 'trade', 'consult', 'firm', 'concentr', 'real', 'estat', 'invest', 'trust', 'reit', 'public', 'trade', 'real', 'estat', 'compani', 'green', 'street', 'advisor', 'seek', 'highli', 'motiv', 'candid', 'relev', 'work', 'experi', 'superior', 'academ', 'credenti', 'join', 'research', 'team', 'green', 'street', 'offer', 'uniqu', 'opportun', 'advanc', 'career', 'equiti', 'research', 'part', 'wellrespect', 'experi', 'acclaim', 'research', 'team', 'research', 'typic', 'focu', 'industri', 'sector', 'eg', 'residenti', 'offic', 'hotel', 'industri', 'sector', 'head', 'senior', 'analyst', 'manag', 'director', 'associ', 'respons', 'follow', 'key', 'job', 'function', 'support', 'senior', 'analyst', 'prepar', 'publish', 'wide', 'rang', 'research', 'report', 'prepar', 'maintain', 'complex', 'financi', 'modelsvalu', 'project', 'databas', 'demonstr', 'strong', 'industri', 'knowledg', 'busi', 'judgment', 'appli', 'sound', 'understand', 'use', 'financ', 'valuat', 'techniqu', 'collect', 'organ', 'real', 'estat', 'inform', 'market', 'submarket', 'throughout', 'unit', 'state', 'demonstr', 'resourc', 'seek', 'new', 'unusu', 'sourc', 'inform', 'close', 'follow', 'understand', 'real', 'estat', 'equiti', 'market', 'activ', 'demonstr', 'insight', 'equiti', 'market', 'activ', 'understand', 'implic', 'impact', 'news', 'event', 'econom', 'forc', 'specif', 'compani', 'sector', 'asset', 'interact', 'firm', '’', 'senior', 'analyst', 'reit', 'manag', 'team', 'institut', 'investor', 'share', 'perspect', 'industri', 'cover', 'compani', 'analyz', 'divers', 'data', 'form', 'cohes', 'macroeconom', 'outlook', 'valu', 'number', 'reit', 'use', 'combin', 'quantit', 'qualit', 'analys', 'becom', 'finra', 'regist', 'repres']\n",
      "['current', 'seek', 'custom', 'servic', 'team', 'lead', 'right', 'candid', 'integr', 'part', 'talent', 'team', 'support', 'continu', 'growth', 'posit', 'locat', 'minneapoli', 'mn', 'locationrespons', 'includ', 'limit', 'coordin', 'work', 'custom', 'servic', 'associ', 'greet', 'visitor', 'answer', 'phone', 'direct', 'call', 'appropri', 'process', 'mail', 'deliv', 'mail', 'scan', 'inout', 'packag', 'deliv', 'mailpackag', 'run', 'mail', 'meter', 'insert', 'equip', 'handl', 'timeoff', 'request', 'daytoday', 'process', 'team', 'help', 'resolv', 'employe', 'custom', 'concernsissu', 'administr', 'servicesprocess', 'larg', 'volum', 'report', 'use', 'excel', 'assist', 'manag', 'quarterli', 'busi', 'review', 'lift', 'larg', 'bundl', 'mail', 'make', 'mail', 'deliveri', 'handl', 'timesensit', 'materi', 'perform', 'duti', 'special', 'request', 'assign', 'manag', 'balanc', 'workload', 'provid', 'guidanc', 'direct', 'team', 'serv', 'focal', 'point', 'commun', 'custom', 'compani', 'personnel', 'ensur', 'oper', 'qualiti', 'standard', 'meet', 'base', 'servic', 'object', 'maintain', 'accuraci', 'requir', 'report', 'log', 'measur', 'ensur', 'highest', 'level', 'custom', 'care', 'ensur', 'adher', 'busi', 'guidelin', 'safeti', 'amp', 'secur', 'procedur', 'respons', 'aspect', 'equip', 'make', 'appropri', 'equip', 'recommend', 'provid', 'construct', 'feedback', 'recognit', 'team', 'support', 'financi', 'result', 'minim', 'site', 'wast', 'rework']\n",
      "['custom', 'servic', 'associ', 'base', 'franklin', 'tn', 'right', 'candid', 'integr', 'part', 'novitex', 'team', 'support', 'continu', 'growth', 'respons', 'includ', 'limit', 'product', 'reprograph', 'print', 'servic', 'mail', 'sort', 'mail', 'deliveri', 'meter', 'outgo', 'usp', 'mail', 'sampr', 'duti', 'confer', 'room', 'setup', 'well', 'assist', 'receptionist', 'coverag', 'requir', 'look', 'team', 'player', 'proactiv', 'will', '“', 'whatev', 'take', '”', 'get', 'job', 'do', 'ideal', 'candid', '“', '”', 'attitud', 'take', 'direct', 'supervisor', 'site', 'manag', 'client', 'lift', 'larg', 'bundl', 'mail', 'overnight', 'packag', 'courier', 'servic', 'multipl', 'usp', 'offic', 'bank', 'sit', 'pickup', 'deliv', 'mail', 'parcel', 'item', 'custom', 'within', 'establish', 'timefram', 'servic', 'standard', 'oper', 'postag', 'meter', 'packag', 'deliveri', 'system', 'sampr', 'duti', 'handl', 'timesensit', 'confidenti', 'packag', 'particip', 'crosstrain', 'flexibl', 'perform', 'vari', 'role', 'whenev', 'necessari', 'maintain', 'highest', 'level', 'custom', 'care', 'demonstr', 'friendli', 'cooper', 'attitud', 'demonstr', 'flexibl', 'satisfi', 'custom', 'need', 'ensur', 'facil', 'need', 'proactiv', 'address', 'time', 'maintain', 'log', 'report', 'document', 'attent', 'detail', 'adher', 'busi', 'guidelin', 'includ', 'safeti', 'secur', 'procedur', 'profession', 'attir', 'perform', 'task', 'assign']\n",
      "['dopio', 'rethink', 'way', 'interact', 'unknown', 'locat', 'goal', 'make', 'locat', 'access', 'open', 'peoplealthough', 'believ', 'word', 'mouth', 'happi', 'first', 'custom', 'first', 'import', 'ldquomarket', 'strategyrdquo', 'grow', 'compani', 'need', 'get', 'ball', 'roll', 'creat', 'partnership', 'right', 'player', 'funnel', 'first', 'visitor', 'believ', 'make', 'offer', 'peopl', 'refus', 'love', 'travel', 'sector', 'would', 'like', 'see', 'dopio', 'get', 'front', 'potenti', 'visitor', 'athen', 'beyond', 'send', 'us', 'notewhat', 'work', 'team', 'identifi', 'potenti', 'partner', 'creat', 'set', 'agenda', 'new', 'busi', 'develop', 'project', 'partnership', 'think', 'creativ', 'interest', 'way', 'partner', 'nonstraightforward', 'player', 'defin', 'nbspthe', 'strategi', 'plan', 'close', 'import', 'partnership', 'lead', 'onlin', 'offlin', 'partnership', 'meet', 'handl', 'relat', 'exist', 'partner', 'offer', 'support', 'need', 'pursuit', 'strateg', 'growth', 'opportun', 'determin', 'key', 'report', 'need', 'busi', 'develop', 'project', 'partnership', 'negoti', 'draft', 'key', 'contract', 'term', 'partner', 'arrang', 'wersquor', 'look', 'first', 'foremost', 'love', 'travel', 'either', 'experi', 'field', 'strong', 'desir', 'get', 'confid', 'call', 'talk', 'c', 'level', 'execut', 'highlevel', 'manag', 'strongli', 'opinion', 'fellow', 'strong', 'persuas', 'accur', 'commun', 'skill', 'ndash', 'write', 'verbal', 'profession', 'energet', 'posit', 'attitud', 'selfmotiv', 'resourc', 'persist', 'care', 'attent', 'detail', 'strong', 'organiz', 'skill', 'attent', 'detail', 'abil', 'handl', 'multipl', 'task', 'meet', 'deadlin', 'fastpac', 'deadlineori', 'environ', 'abil', 'work', 'around', 'clock', 'flexibl', 'work', 'schedul', 'fluenci', 'english', 'passion', 'work', 'compani', 'global', 'footprint', 'wersquor', 'offer', 'amaz', 'workspac', 'fill', 'energet', 'hardwork', 'peopl', 'opportun', 'work', 'except', 'peopl', 'field', 'groom', 'consum', 'web', 'relat', 'topic', 'direct', 'link', 'startup', 'commun', 'think', 'leader', 'travel', 'space', 'greec', 'dopio', 'live', 'product', 'free', 'experi', 'appli', 'linkedin', 'els', 'pleas', 'send', 'resum', 'answer', 'question', 'emaild792e57ee686ddc4a3f737defc2e5f762ac24c3546ded799db26a8c1e75e611b', 'pleas', 'mention', 'posit', 'interest', 'subject', 'line']\n",
      "['play', 'kid', 'get', 'pay', 'love', 'travel', 'job', 'asia', '1500', 'usd', 'monthli', '200', 'cost', 'live', 'hous', 'provid', 'privatefurnishedairfar', 'reimbursedexcel', 'student', 'loanscredit', 'card', 'gabriel', 'adkin', 'urled9094c60184b8a4975333957f05be37e69d3cdb68decc9dd9a4242733cfd7f7url75db76d58f7994c7db24e8998c2fc953ab9a20ea9ac948b217693963f78d2e6b', '12', 'month', 'contract', 'appli', 'today']\n",
      "['super', 'soccer', 'star', 'excit', 'offer', 'dynam', 'posit', 'base', 'manhattan', 'offic', 'market', 'manag', 'person', 'selfmotiv', 'entrepreneuri', 'individu', 'acut', 'aptitud', 'gener', 'aggress', 'busi', 'growth', 'creativ', 'effect', 'market', 'initi', 'opportun', 'fastgrow', 'compani', 'oper', 'ny', 'area', '’', 'largest', 'children', 'program', 'hold', '1000', 'children', '’', 'weekli', 'soccer', 'class', 'event', 'new', 'york', 'citi', 'area', 'look', 'organ', 'creativ', 'individu', 'manag', 'market', 'initi', 'market', 'manag', 'report', 'director', 'oper', 'respons', '·', 'coordin', 'market', 'advertis', 'promot', 'activ', 'identifi', 'execut', 'strateg', 'market', 'ventur', 'conduct', 'evalu', 'market', 'research', 'analyz', 'custom', 'feedback', 'current', 'market', 'condit', 'supervis', 'grassroot', 'market', 'campaign', 'alloc', 'market', 'budget', 'achiev', 'maximum', 'result', 'execut', 'market', 'plan', 'project', 'monitor', 'review', 'report', 'market', 'approach', 'result', 'manag', 'social', 'media', 'campaign', 'strong', 'knowledg', 'googl', 'adword', 'analyt', 'optim', 'digit', 'campaign', 'pleas', 'submit', 'detail', 'specif', 'cover', 'letter', 'explain', 'would', 'right', 'person', 'posit', 'specifi', 'salari', 'histori', 'requir', 'sure', 'also', 'attach', 'updat', 'version', 'resum', 'applic', 'includ', 'element', 'consid']\n",
      "['look', 'continu', 'career', 'work', 'boutiqu', 'agenc', 'locat', 'scarborough', 'north', 'yorkshir', 'agenc', 'oper', 'within', 'uk', 'automot', 'market', 'experi', 'substanti', 'growth', 'forecast', 'forese', 'futur', 'partner', 'industri', 'expert', 'oper', 'mani', 'year', 'albeit', 'within', 'search', 'select', 'time', 'right', 'offer', 'full', 'servic', 'packag']\n",
      "['echo', 'height', 'llc', 'work', 'home', 'except', 'applic', 'experi', 'well', 'inexperienc', 'custom', 'servic', 'technic', 'repres', 'join', 'teamstart', 'pay', '850', 'hourtop', 'perform', 'make', '1100', '1200', 'per', 'hourjob', 'requirements•', 'superior', 'custom', 'servic', 'technic', 'skills•', 'experi', 'cellular', 'phone', 'provid', 'bill', 'support•', 'independ', 'busi', 'owner', 'client', 'support', 'profession', 'arecurr', 'servic', 'servic', 'echo', 'height', 'program', 'commitmentadher', 'must', 'averag', '90', 'greater•', 'excel', 'interperson', 'write', 'commun', 'skills•', 'advanc', 'problem', 'solv', 'competency•', 'abil', 'adapt', 'constant', 'change•', 'capabl', 'multitask', 'util', 'multipl', 'intern', 'systemsprogram', 'equip', 'requir', 'window', 'xp', 'window', '2000', 'window', '732', 'amp', '64', 'bite', 'note', 'window', '2000', 'mac', 'os', 'current', 'support', 'nois', 'cancel', 'headset', 'pleas', 'see', 'workstat', 'guid', 'download', 'career', 'page', 'continu', 'listessenti', 'duti', 'respons', '•', 'handl', 'custom', 'question', 'complaint', 'bill', 'inquiri', 'highest', 'degre', 'courtesi', 'professionalism•', 'strive', 'resolv', 'custom', 'issu', 'one', 'call', 'resolution•', 'offer', 'altern', 'solut', 'appropri', 'object', 'retainingcustom', 'business•', 'handl', 'busi', 'transact', 'connect', 'activ', 'new', 'customeraccounts•', 'commun', 'custom', 'use', 'webbas', 'tool', 'demonstr', 'theassoci', 'profici', 'type', 'grammar•', 'make', 'financi', 'decis', 'protectcollect', 'revenu', 'adjust', 'custom', 'accountspleas', 'phone', 'call', 'person', 'submitt', 'applic', 'must', 'complet', 'submit', 'onlin', 'review', 'resum', 'contact', 'fit', 'current', 'need', 'requir', 'thank', 'interest', 'echo', 'height', 'url108e9755eee77c6c66672e7d80a1630bfb00b68289456544a273f2280c5084c0', 'equal', 'opportun', 'employ', 'drug', 'free', 'workplac']\n"
     ]
    },
    {
     "name": "stdout",
     "output_type": "stream",
     "text": [
      "['administr', 'assist', 'base', 'san', 'francisco', 'ca', 'right', 'candid', 'integr', 'part', 'talent', 'team', 'support', 'continu', 'growth', 'respons', 'attend', 'meet', 'order', 'record', 'minut', 'compil', 'transcrib', 'distribut', 'minut', 'meet', 'conduct', 'research', 'compil', 'data', 'prepar', 'paper', 'consider', 'present', 'execut', 'committe', 'board', 'director', 'coordin', 'direct', 'offic', 'servic', 'meet', 'individu', 'special', 'interest', 'group', 'other', 'review', 'oper', 'practic', 'procedur', 'order', 'determin', 'whether', 'improv', 'make', 'area', 'workflow', 'report', 'procedur', 'expenditur', 'provid', 'secretari', 'support', 'profession', 'supervisor', 'manag', 'case', 'subordin', 'staff', 'individu', 'provid', 'highlyskil', 'keyboard', 'support', 'transcrib', 'record', 'inform']\n",
      "['fantast', 'opportun', 'someon', 'want', 'start', 'career', 'custom', 'servic', 'first', '12', 'month', 'work', 'toward', 'level', '2', 'custom', 'servic', 'nvq', 'keep', 'perman', 'posit', 'work', 'distribut', 'compani', 'role', 'involv', 'provid', 'high', 'level', 'custom', 'servic', 'convers', 'work', 'alongsid', 'market', 'team', 'assist', 'daili', 'task', 'task', 'includ', 'add', 'new', 'product', 'input', 'inform', 'contact', 'servic', 'provid', 'ideal', 'candid', 'comput', 'liter', 'excel', 'commun', 'skill', 'honest', 'hard', 'work', 'send', 'cv', 'email0e92123d11734167533acc44a2e74ffac0b6f56d256225a89769e0641a3d1ae']\n",
      "['senior', 'market', 'manag', 'photographi', 'video', 'compani', 'locat', 'manhattan', 'look', 'experi', 'market', 'manag', 'lead', 'market', 'team', '20', 'year', 'experi', 'grow', 'fast', 'compani', 'look', 'market', 'leader', 'execut', 'ambiti', 'creativ', 'market', 'plan', 'person', 'respons', 'manag', 'team', '3', 'respons', 'definit', 'market', 'initi', 'budget', 'definit', 'market', 'autom', 'manag', 'kpi', 'track', 'onlin', 'market', 'social', 'media', 'market', 'daili', 'market', 'deliver', 'design', 'email', 'market', 'cm', 'updat', 'social', 'updat', 'seo', 'ppc', 'report', 'vp', 'market', 'person', 'need', 'experi', '35', 'year', 'manag', 'small', 'market', 'team', 'handson', 'market', 'experi', '“', 'cando', '”', 'attitud', 'fastpac', 'industri', 'startup', 'experi', 'prefer', 'experi', 'use', 'manag', 'market', 'autom', 'tool', 'marketpardot', 'indesignphotosphop', 'saleforc', 'experi', 'prefer', 'great', 'content', 'market', 'experi', 'websit', 'manag', 'wordpress', 'similar', 'seo', 'ppc', 'manag', 'analyt', 'work', 'agenc', 'full', 'benefit', 'fun', 'environ', 'provid', 'qualifi', 'candid', 'contact', 'email6f5babe7330f88f53dee2b7cb38903d7b105afda37af31fffb2e1819e617cca0']\n",
      "['urlf10cb7b12799258d60f3a0af7edf7799f96bced6feddbb9762740f55be503aff', 'fastgrow', 'startup', 'within', 'financi', 'industri', '’', 'look', 'opportun', 'join', 'team', 'work', 'sever', 'larg', 'greenfield', 'projectsbuild', 'autom', 'framework', 'scratch', 'agil', 'environ', 'role', 'build', 'symfony2', 'amazon', 'rd', 'look', 'test', 'engin', 'conduct', 'manual', 'autom', 'test', 'well', 'set', 'test', 'framework', 'best', 'practic']\n",
      "['custom', 'servic', 'associ', 'base', 'pittsburg', 'pa', 'right', 'candid', 'integr', 'part', 'talent', 'team', 'support', 'continu', 'growth', 'respons', 'oper', 'mail', 'copi', 'fax', 'equip', 'ship', 'amp', 'receiv', 'order', 'suppli', 'updat', 'employe', 'list', 'pickup', 'deliv', 'mail', 'parcel', 'copi', 'job', 'fax', 'custom', 'lift', 'larg', 'bundl', 'mail', 'overnight', 'packag', 'shipment', 'paper', 'handl', 'timesensit', 'materi', 'like', 'confidenti', 'urgent', 'packag', 'maintain', 'copier', 'equip', 'provid', 'courier', 'amp', 'messeng', 'servic', 'maintain', 'highest', 'level', 'custom', 'care', 'demonstr', 'friendli', 'cooper', 'attitud', 'demonstr', 'flexibl', 'satisfi', 'custom', 'demand', 'high', 'volum', 'product', 'environ', 'consist', 'adher', 'busi', 'procedur', 'guidelin', 'take', 'direct', 'supervisor', 'site', 'manag', 'particip', 'crosstrain', 'maintain', 'log', 'report', 'document', 'attent', 'detail', 'adher', 'safeti', 'procedur', 'perform', 'task', 'assign']\n",
      "['icamp', 'technician', 'bakersfield', 'ca', 'mt', 'poso', 'princip', 'duti', 'respons', 'calibr', 'test', 'maintain', 'troubleshoot', 'instal', 'power', 'plant', 'instrument', 'control', 'system', 'electr', 'equip', 'perform', 'mainten', 'motor', 'control', 'center', 'motor', 'oper', 'valv', 'gener', 'excit', 'equip', 'motor', 'perform', 'prevent', 'predict', 'correct', 'mainten', 'equip', 'coordin', 'work', 'variou', 'team', 'member', 'design', 'instal', 'new', 'equip', 'andor', 'system', 'modif', 'troubleshoot', 'perform', 'mainten', 'dc', 'backup', 'power', 'equip', 'process', 'control', 'programm', 'logic', 'control', 'plc', 'emiss', 'monitor', 'equip', 'use', 'mainten', 'report', 'system', 'record', 'time', 'materi', 'use', 'problem', 'identifi', 'correct', 'action', 'requir', 'provid', 'complet', 'histori', 'mainten', 'equip', 'schedul', 'coordin', 'work', 'monitor', 'contractor', 'specif', 'task', 'requir', 'follow', 'safe', 'work', 'practic', 'time', 'identifi', 'safeti', 'hazard', 'recommend', 'solut', 'follow', 'environment', 'complianc', 'work', 'practic', 'identifi', 'environment', 'noncompli', 'problem', 'assist', 'implement', 'solut', 'assist', 'team', 'member', 'work', 'depart', 'support', 'gener', 'station', 'achiev', 'perform', 'goal', 'train', 'team', 'member', 'area', 'instrument', 'control', 'electr', 'system', 'perform', 'housekeep', 'assign', 'direct', 'conduct', 'equip', 'system', 'tag', 'accord', 'compani', 'plant', 'rule', 'regul', 'perform', 'equip', 'safeti', 'inspect', 'requir', 'record', 'result', 'appropri', 'particip', 'small', 'construct', 'project', 'read', 'interpret', 'draw', 'sketch', 'print', 'specif', 'requir', 'order', 'part', 'need', 'affect', 'mainten', 'repair', 'perform', 'oper', 'task', 'asneed', 'basi', 'task', 'assign', 'avail', 'within', 'reason', 'respons', 'time', 'emerg', 'callin', 'overtim', 'plu', 'provid', 'accept', 'offhour', 'contact', 'phone', 'compani', 'pager', 'excel', 'verbal', 'write', 'commun', 'skill', 'abil', 'coordin', 'work', 'activ', 'team', 'member', 'technic', 'subject', 'across', 'job', 'famili', 'abil', 'work', 'weekend', 'holiday', 'rotat', 'shift', 'requir']\n",
      "['play', 'kid', 'get', 'pay', 'love', 'travel', 'job', 'asia', '1500', 'usd', 'monthli', '200', 'cost', 'live', 'hous', 'provid', 'privatefurnishedairfar', 'reimbursedexcel', 'student', 'loanscredit', 'card', 'gabriel', 'adkin', 'urled9094c60184b8a4975333957f05be37e69d3cdb68decc9dd9a4242733cfd7f7url75db76d58f7994c7db24e8998c2fc953ab9a20ea9ac948b217693963f78d2e6b', '12', 'month', 'contract', 'appli', 'today']\n"
     ]
    }
   ],
   "source": [
    "# for now, I only used some of the examples (df_jd['description'][1:100]), due to the computing capability.\n",
    "\n",
    "df_jd_sentence = pd.DataFrame()\n",
    "\n",
    "for index, sentence in df_jd['description'][1:100].iteritems(): \n",
    "    #df_jd_sentence.add(clean(sentence))\n",
    "    print(clean(sentence))\n"
   ]
  },
  {
   "cell_type": "markdown",
   "id": "52b5f889",
   "metadata": {},
   "source": [
    "##  For the purpose of demonstration, I did a cleaning process step by step"
   ]
  },
  {
   "cell_type": "code",
   "execution_count": 25,
   "id": "87d061b1",
   "metadata": {},
   "outputs": [
    {
     "name": "stdout",
     "output_type": "stream",
     "text": [
      "<p>Food52, a fast-growing, James Beard Award-winning online food community and crowd-sourced and curated recipe hub, is currently interviewing full- and part-time unpaid interns to work in a small team of editors, executives, and developers in its New York City headquarters.</p>\r\n",
      "<ul>\r\n",
      "<li>Reproducing and/or repackaging existing Food52 content for a number of partner sites, such as Huffington Post, Yahoo, Buzzfeed, and more in their various content management systems</li>\r\n",
      "<li>Researching blogs and websites for the Provisions by Food52 Affiliate Program</li>\r\n",
      "<li>Assisting in day-to-day affiliate program support, such as screening affiliates and assisting in any affiliate inquiries</li>\r\n",
      "<li>Supporting with PR &amp; Events when needed</li>\r\n",
      "<li>Helping with office administrative work, such as filing, mailing, and preparing for meetings</li>\r\n",
      "<li>Working with developers to document bugs and suggest improvements to the site</li>\r\n",
      "<li>Supporting the marketing and executive staff</li>\r\n",
      "</ul>\n"
     ]
    }
   ],
   "source": [
    "# define new variables, \"text_jd\" and \"text_jd_without_stopwords\", which will only be used here for demonstration\n",
    "# and only use one job description as example.\n",
    "text_jd = df_jd['description'][0]\n",
    "print(text_jd)"
   ]
  },
  {
   "cell_type": "code",
   "execution_count": 26,
   "id": "5e8e44ac",
   "metadata": {},
   "outputs": [
    {
     "name": "stdout",
     "output_type": "stream",
     "text": [
      "Food52, a fast-growing, James Beard Award-winning online food community and crowd-sourced and curated recipe hub, is currently interviewing full- and part-time unpaid interns to work in a small team of editors, executives, and developers in its New York City headquarters.\r\n",
      "\r\n",
      "Reproducing and/or repackaging existing Food52 content for a number of partner sites, such as Huffington Post, Yahoo, Buzzfeed, and more in their various content management systems\r\n",
      "Researching blogs and websites for the Provisions by Food52 Affiliate Program\r\n",
      "Assisting in day-to-day affiliate program support, such as screening affiliates and assisting in any affiliate inquiries\r\n",
      "Supporting with PR &amp; Events when needed\r\n",
      "Helping with office administrative work, such as filing, mailing, and preparing for meetings\r\n",
      "Working with developers to document bugs and suggest improvements to the site\r\n",
      "Supporting the marketing and executive staff\r\n",
      "\n"
     ]
    }
   ],
   "source": [
    "# remove the HTML tags\n",
    "text_jd = striphtml(text_jd)\n",
    "print(text_jd)"
   ]
  },
  {
   "cell_type": "code",
   "execution_count": 27,
   "id": "89faedb7",
   "metadata": {},
   "outputs": [
    {
     "name": "stdout",
     "output_type": "stream",
     "text": [
      "food52, a fast-growing, james beard award-winning online food community and crowd-sourced and curated recipe hub, is currently interviewing full- and part-time unpaid interns to work in a small team of editors, executives, and developers in its new york city headquarters.\r\n",
      "\r\n",
      "reproducing and/or repackaging existing food52 content for a number of partner sites, such as huffington post, yahoo, buzzfeed, and more in their various content management systems\r\n",
      "researching blogs and websites for the provisions by food52 affiliate program\r\n",
      "assisting in day-to-day affiliate program support, such as screening affiliates and assisting in any affiliate inquiries\r\n",
      "supporting with pr &amp; events when needed\r\n",
      "helping with office administrative work, such as filing, mailing, and preparing for meetings\r\n",
      "working with developers to document bugs and suggest improvements to the site\r\n",
      "supporting the marketing and executive staff\r\n",
      "\n"
     ]
    }
   ],
   "source": [
    "# Lowercase text\n",
    "text_jd = text_jd.lower()\n",
    "print(text_jd)"
   ]
  },
  {
   "cell_type": "code",
   "execution_count": 28,
   "id": "46f01101",
   "metadata": {},
   "outputs": [
    {
     "name": "stdout",
     "output_type": "stream",
     "text": [
      "food52 a fastgrowing james beard awardwinning online food community and crowdsourced and curated recipe hub is currently interviewing full and parttime unpaid interns to work in a small team of editors executives and developers in its new york city headquarters\r\n",
      "\r\n",
      "reproducing andor repackaging existing food52 content for a number of partner sites such as huffington post yahoo buzzfeed and more in their various content management systems\r\n",
      "researching blogs and websites for the provisions by food52 affiliate program\r\n",
      "assisting in daytoday affiliate program support such as screening affiliates and assisting in any affiliate inquiries\r\n",
      "supporting with pr amp events when needed\r\n",
      "helping with office administrative work such as filing mailing and preparing for meetings\r\n",
      "working with developers to document bugs and suggest improvements to the site\r\n",
      "supporting the marketing and executive staff\r\n",
      "\n"
     ]
    }
   ],
   "source": [
    "# Remove ':', '\\', and punctuation\n",
    "text_jd = text_jd.replace(':', ' ')\n",
    "text_jd = text_jd.replace('\\'', ' ')\n",
    "translator = str.maketrans('', '', string.punctuation)\n",
    "text_jd = text_jd.translate(translator)\n",
    "print(text_jd)"
   ]
  },
  {
   "cell_type": "code",
   "execution_count": 29,
   "id": "bb47f8db",
   "metadata": {},
   "outputs": [
    {
     "name": "stdout",
     "output_type": "stream",
     "text": [
      "food52 a fastgrowing james beard awardwinning online food community and crowdsourced and curated recipe hub is currently interviewing full and parttime unpaid interns to work in a small team of editors executives and developers in its new york city headquarters reproducing andor repackaging existing food52 content for a number of partner sites such as huffington post yahoo buzzfeed and more in their various content management systems researching blogs and websites for the provisions by food52 affiliate program assisting in daytoday affiliate program support such as screening affiliates and assisting in any affiliate inquiries supporting with pr amp events when needed helping with office administrative work such as filing mailing and preparing for meetings working with developers to document bugs and suggest improvements to the site supporting the marketing and executive staff\n"
     ]
    }
   ],
   "source": [
    "# Remove extra spaces from text\n",
    "text_jd = \" \".join(text_jd.split())\n",
    "print(text_jd)"
   ]
  },
  {
   "cell_type": "code",
   "execution_count": 30,
   "id": "caa4abdc",
   "metadata": {},
   "outputs": [
    {
     "name": "stdout",
     "output_type": "stream",
     "text": [
      "{'because', 'myself', 'any', \"weren't\", 're', \"couldn't\", 'during', 'are', \"she's\", 'this', \"needn't\", 'what', 'nor', 'who', 'was', 'all', 'over', 'didn', 'isn', 'while', 'is', 'him', 'such', 'then', 'own', 'mustn', 'they', 'only', \"won't\", 'will', 'before', 'below', 'now', \"didn't\", 'ma', 'you', 'until', \"mustn't\", 'yours', 'to', 'from', 'theirs', 'had', 'and', 'off', 'that', \"it's\", 'few', 'he', 'our', 'd', 'these', 'being', 'same', 'a', 'at', 'both', 'having', 'ain', \"isn't\", 'shan', \"you'll\", 'weren', 'when', \"shan't\", 'herself', 'were', 'of', \"you've\", 'most', 'his', 'too', \"aren't\", 'has', 'doesn', 'mightn', 'by', \"shouldn't\", \"hasn't\", 'wouldn', 'as', 'i', 'been', 'some', \"mightn't\", \"that'll\", 'ourselves', \"you'd\", 'yourself', 'through', 'once', 'am', 'down', \"doesn't\", 'themselves', 'won', 'my', 'where', 's', 'again', 'further', 'above', 'does', 'under', 'itself', 'an', 'about', 'o', 'just', \"should've\", 'on', 'doing', 'don', 't', 'your', 'those', 'we', 'each', 'other', 'between', 'she', 'or', 'so', 'do', 'should', 'but', 'up', 'needn', 'than', 'hadn', 'couldn', 'shouldn', 'be', 'm', \"hadn't\", \"wouldn't\", 'them', 'which', 'after', 'whom', 'in', 'for', 'very', 'yourselves', \"haven't\", 'y', 'their', 'haven', 'no', 've', \"don't\", 'if', 'against', 'it', \"wasn't\", 'there', 'aren', 'why', 'her', 'into', 'have', 'hers', 'hasn', 'with', 'not', 'more', 'here', \"you're\", 'its', 'did', 'wasn', 'himself', 'out', 'me', 'the', 'll', 'ours', 'how', 'can'}\n"
     ]
    }
   ],
   "source": [
    "# set stopwords \n",
    "stop_words = set(stopwords.words(\"english\")) # nltk.download('stopwords') - this is done at the begining\n",
    "print(stop_words)"
   ]
  },
  {
   "cell_type": "code",
   "execution_count": 31,
   "id": "d670007d",
   "metadata": {},
   "outputs": [
    {
     "name": "stdout",
     "output_type": "stream",
     "text": [
      "['food52', 'fastgrowing', 'james', 'beard', 'awardwinning', 'online', 'food', 'community', 'crowdsourced', 'curated', 'recipe', 'hub', 'currently', 'interviewing', 'full', 'parttime', 'unpaid', 'interns', 'work', 'small', 'team', 'editors', 'executives', 'developers', 'new', 'york', 'city', 'headquarters', 'reproducing', 'andor', 'repackaging', 'existing', 'food52', 'content', 'number', 'partner', 'sites', 'huffington', 'post', 'yahoo', 'buzzfeed', 'various', 'content', 'management', 'systems', 'researching', 'blogs', 'websites', 'provisions', 'food52', 'affiliate', 'program', 'assisting', 'daytoday', 'affiliate', 'program', 'support', 'screening', 'affiliates', 'assisting', 'affiliate', 'inquiries', 'supporting', 'pr', 'amp', 'events', 'needed', 'helping', 'office', 'administrative', 'work', 'filing', 'mailing', 'preparing', 'meetings', 'working', 'developers', 'document', 'bugs', 'suggest', 'improvements', 'site', 'supporting', 'marketing', 'executive', 'staff']\n"
     ]
    }
   ],
   "source": [
    "# Tokenize : get a list of tokens\n",
    "# Remove stop words\n",
    "word_tokens = word_tokenize(text_jd)\n",
    "text_jd_without_stopwords = [word for word in word_tokens if word not in stop_words]\n",
    "print(text_jd_without_stopwords)"
   ]
  },
  {
   "cell_type": "code",
   "execution_count": 32,
   "id": "2140d58c",
   "metadata": {},
   "outputs": [
    {
     "name": "stdout",
     "output_type": "stream",
     "text": [
      "['food52', 'fastgrowing', 'jam', 'beard', 'awardwinning', 'online', 'food', 'community', 'crowdsourced', 'curated', 'recipe', 'hub', 'currently', 'interview', 'full', 'parttime', 'unpaid', 'intern', 'work', 'small', 'team', 'editors', 'executives', 'developers', 'new', 'york', 'city', 'headquarter', 'reproduce', 'andor', 'repackaging', 'exist', 'food52', 'content', 'number', 'partner', 'sit', 'huffington', 'post', 'yahoo', 'buzzfeed', 'various', 'content', 'management', 'systems', 'research', 'blog', 'websites', 'provision', 'food52', 'affiliate', 'program', 'assist', 'daytoday', 'affiliate', 'program', 'support', 'screen', 'affiliate', 'assist', 'affiliate', 'inquiries', 'support', 'pr', 'amp', 'events', 'need', 'help', 'office', 'administrative', 'work', 'file', 'mail', 'prepare', 'meet', 'work', 'developers', 'document', 'bug', 'suggest', 'improvements', 'site', 'support', 'market', 'executive', 'staff']\n"
     ]
    }
   ],
   "source": [
    "# Lemmatize words\n",
    "text_jd_without_stopwords = [lemmatizer.lemmatize(word, pos ='v') for word in text_jd_without_stopwords]\n",
    "print(text_jd_without_stopwords)"
   ]
  },
  {
   "cell_type": "code",
   "execution_count": 33,
   "id": "880c0460",
   "metadata": {},
   "outputs": [
    {
     "name": "stdout",
     "output_type": "stream",
     "text": [
      "['food52', 'fastgrow', 'jam', 'beard', 'awardwin', 'onlin', 'food', 'commun', 'crowdsourc', 'curat', 'recip', 'hub', 'current', 'interview', 'full', 'parttim', 'unpaid', 'intern', 'work', 'small', 'team', 'editor', 'execut', 'develop', 'new', 'york', 'citi', 'headquart', 'reproduc', 'andor', 'repackag', 'exist', 'food52', 'content', 'number', 'partner', 'sit', 'huffington', 'post', 'yahoo', 'buzzfe', 'variou', 'content', 'manag', 'system', 'research', 'blog', 'websit', 'provis', 'food52', 'affili', 'program', 'assist', 'daytoday', 'affili', 'program', 'support', 'screen', 'affili', 'assist', 'affili', 'inquiri', 'support', 'pr', 'amp', 'event', 'need', 'help', 'offic', 'administr', 'work', 'file', 'mail', 'prepar', 'meet', 'work', 'develop', 'document', 'bug', 'suggest', 'improv', 'site', 'support', 'market', 'execut', 'staff']\n"
     ]
    }
   ],
   "source": [
    "# Stem words \n",
    "text_jd_without_stopwords = [stemmer.stem(word) for word in text_jd_without_stopwords]\n",
    "print(text_jd_without_stopwords)"
   ]
  },
  {
   "cell_type": "markdown",
   "id": "7596fe3e",
   "metadata": {},
   "source": [
    "# Step 2: preparing the data"
   ]
  },
  {
   "cell_type": "code",
   "execution_count": 34,
   "id": "4dc14caa",
   "metadata": {},
   "outputs": [
    {
     "name": "stdout",
     "output_type": "stream",
     "text": [
      "(159, 2)\n",
      "  Biased Words or Phrases Masculine/Feminine Bias\n",
      "0                  active          Masculine Bias\n",
      "1             adventurous          Masculine Bias\n",
      "2                 aggress          Masculine Bias\n",
      "3                 ambitio          Masculine Bias\n",
      "4                   analy          Masculine Bias\n",
      "Masculine Bias    95\n",
      "Feminine Bias     64\n",
      "Name: Masculine/Feminine Bias, dtype: int64\n"
     ]
    }
   ],
   "source": [
    "# get the list of biased words or phrases\n",
    "df_biased_words = pd.read_excel(\"./bias_words.xlsx\")\n",
    "print(df_biased_words.shape)\n",
    "print(df_biased_words.head())\n",
    "print(df_biased_words['Masculine/Feminine Bias'].value_counts())"
   ]
  },
  {
   "cell_type": "code",
   "execution_count": 35,
   "id": "3941048a",
   "metadata": {},
   "outputs": [
    {
     "name": "stdout",
     "output_type": "stream",
     "text": [
      "(137, 2)\n",
      "Biased Words or Phrases    False\n",
      "Masculine/Feminine Bias    False\n",
      "dtype: bool\n",
      "  Biased Words or Phrases Masculine/Feminine Bias\n",
      "0                  active          Masculine Bias\n",
      "1             adventurous          Masculine Bias\n",
      "2                 aggress          Masculine Bias\n",
      "3                 ambitio          Masculine Bias\n",
      "4                   analy          Masculine Bias\n",
      "Masculine Bias    81\n",
      "Feminine Bias     56\n",
      "Name: Masculine/Feminine Bias, dtype: int64\n"
     ]
    }
   ],
   "source": [
    "# exclude generic he/she and dupulicated words in df_biased_words\n",
    "words_to_exclude = ['she', 'her', 'hers', 'herself', 'he', 'himself', 'him', 'his']\n",
    "df_biased_words = df_biased_words[~df_biased_words['Biased Words or Phrases'].isin(words_to_exclude)]\n",
    "df_biased_words = df_biased_words.drop_duplicates()\n",
    "\n",
    "print(df_biased_words.shape)\n",
    "print(df_biased_words.isna().any())# check if there's any empty cells\n",
    "print(df_biased_words.head())\n",
    "print(df_biased_words['Masculine/Feminine Bias'].value_counts())"
   ]
  },
  {
   "cell_type": "code",
   "execution_count": 36,
   "id": "3248f980",
   "metadata": {},
   "outputs": [],
   "source": [
    "# get the list of male_words and female words\n",
    "male_words = (df_biased_words.loc[df_biased_words['Masculine/Feminine Bias'] == 'Masculine Bias'])['Biased Words or Phrases'].values\n",
    "female_words = (df_biased_words.loc[df_biased_words['Masculine/Feminine Bias'] == 'Feminine Bias'])['Biased Words or Phrases'].values"
   ]
  },
  {
   "cell_type": "code",
   "execution_count": 37,
   "id": "fb6ff917",
   "metadata": {},
   "outputs": [
    {
     "name": "stdout",
     "output_type": "stream",
     "text": [
      "['active' 'adventurous' 'aggress' 'ambitio' 'analy' 'assert' 'athlet'\n",
      " 'autonom' 'boast' 'challeng' 'compet' 'confident' 'courag' 'decide'\n",
      " 'decisive' 'decision' 'determin' 'dominant' 'domina' 'force' 'greedy'\n",
      " 'headstrong' 'hierarch' 'hostil' 'implusive' 'independen' 'individual'\n",
      " 'intellect' 'lead' 'logic' 'masculine' 'objective' 'opinion' 'outspoken'\n",
      " 'persist' 'principle' 'reckless' 'stubborn' 'superior' 'self-confiden'\n",
      " 'self-sufficien' 'self-relian' 'manmade' 'chairman' 'son' 'fireman'\n",
      " 'freshman' 'man' 'mankind' 'manpower' 'boyfriend' 'husband' 'policeman'\n",
      " 'walter' 'brother' 'spokesman' 'upperclassman' 'gentleman' 'alumnus'\n",
      " 'alumni' 'man up' 'Mr.' 'man-made' 'the common man' 'mailman' 'steward'\n",
      " 'actor' 'congressman' 'acts as a leader' 'aggressive' 'ambitious'\n",
      " 'analytical' 'assertive' 'athletic' 'competitive' 'defends own beliefs'\n",
      " 'forceful' 'has leadership abilities' 'independent' 'individualistic'\n",
      " 'makes decisions easily']\n"
     ]
    }
   ],
   "source": [
    "print(male_words)"
   ]
  },
  {
   "cell_type": "code",
   "execution_count": 38,
   "id": "f7388b4b",
   "metadata": {},
   "outputs": [
    {
     "name": "stdout",
     "output_type": "stream",
     "text": [
      "['affectionate' 'child' 'cheer' 'commit' 'communal' 'compassion' 'connect'\n",
      " 'considerate' 'cooperat' 'depend' 'emotiona' 'empath' 'feminine'\n",
      " 'flatterable' 'gentle' 'honest' 'interpersonal' 'interdependen'\n",
      " 'interpersona' 'kind' 'kinship' 'loyal' 'modesty' 'nag' 'nurtur'\n",
      " 'pleasant' 'polite' 'quiet' 'respon' 'sensitiv' 'submissive' 'support'\n",
      " 'sympath' 'tender' 'together' 'trust' 'understand' 'warm' 'whin' 'yield'\n",
      " 'daughter' 'wife' 'girlfriend' 'waitress' 'sister' 'ladies' 'alumna'\n",
      " 'alumnae' 'hysterical' 'shrill' 'nagging' 'Mrs.' 'Miss.' 'Ms.'\n",
      " 'stewardess' 'actress']\n"
     ]
    }
   ],
   "source": [
    "print(female_words)"
   ]
  },
  {
   "cell_type": "code",
   "execution_count": 39,
   "id": "bec6b3e9",
   "metadata": {},
   "outputs": [
    {
     "data": {
      "text/plain": [
       "'\\n\\ndf_new = pd.DataFrame()\\n\\nfor index, sentence in df_sentences.iterrows():\\n    temp_sentence = sentence[\\'sentences\\']\\n    tokenized_sentence = clean(temp_sentence)\\n    category = \\'neutral\\'\\n    word_in_sentence = \\'None\\'\\n    word = \\'None\\'\\n    \\n    # check for male words\\n    for male_word in male_words:\\n        if re.search(r\"\\x08{}\\x08\".format(male_word), temp_sentence.lower().strip()):\\n            category = \\'masculine\\'\\n            word_in_sentence = male_word\\n            word = male_word\\n        else:\\n            for token in tokenized_sentence:\\n                if len(male_word) > 3:\\n\\n                    if simple_clean(male_word) == token[:len(male_word)]:\\n                        category = \\'masculine\\'\\n                        word_in_sentence = token\\n                        word = male_word\\n                    elif simple_clean(male_word) == token[-len(male_word):]:\\n                        category = \\'masculine\\'\\n                        word_in_sentence = token\\n                        word = male_word\\n            \\n    if category == \\'masculine\\':\\n        dict = {\\'sentence\\': temp_sentence,\\n                \\'word_in_Sentence\\': word_in_sentence,\\n                \\'biased_term\\': word,\\n                \\'category\\': category\\n               }\\n        df_new = df_new.append(dict, ignore_index = True)\\n        \\n    # check for female words\\n    for female_word in female_words:\\n        if re.search(r\"\\x08{}\\x08\".format(female_word), temp_sentence.lower().strip()):\\n            category = \\'feminine\\'\\n            word_in_sentence = female_word\\n            word = female_word\\n        else:\\n            for token in tokenized_sentence:\\n                if len(female_word) > 3:\\n                    if simple_clean(female_word) == token[:len(female_word)]:\\n                        category = \\'feminine\\'\\n                        word_in_sentence = token\\n                        word = female_word\\n                    elif simple_clean(female_word) == token[-len(female_word):]:\\n                        category = \\'feminine\\'\\n                        word_in_sentence = token\\n                        word = female_word\\n                    \\n    if category == \\'feminine\\':\\n        dict = {\\'sentence\\': temp_sentence,\\n                \\'word_in_Sentence\\': word_in_sentence,\\n                \\'biased_term\\': word,\\n                \\'category\\': category\\n               }\\n        df_new = df_new.append(dict, ignore_index = True)\\n    \\n    if index%10000 == 0:\\n        print(index)\\n        \\n        \\n        \\n'"
      ]
     },
     "execution_count": 39,
     "metadata": {},
     "output_type": "execute_result"
    }
   ],
   "source": [
    "'''\n",
    "\n",
    "df_new = pd.DataFrame()\n",
    "\n",
    "for index, sentence in df_sentences.iterrows():\n",
    "    temp_sentence = sentence['sentences']\n",
    "    tokenized_sentence = clean(temp_sentence)\n",
    "    category = 'neutral'\n",
    "    word_in_sentence = 'None'\n",
    "    word = 'None'\n",
    "    \n",
    "    # check for male words\n",
    "    for male_word in male_words:\n",
    "        if re.search(r\"\\b{}\\b\".format(male_word), temp_sentence.lower().strip()):\n",
    "            category = 'masculine'\n",
    "            word_in_sentence = male_word\n",
    "            word = male_word\n",
    "        else:\n",
    "            for token in tokenized_sentence:\n",
    "                if len(male_word) > 3:\n",
    "\n",
    "                    if simple_clean(male_word) == token[:len(male_word)]:\n",
    "                        category = 'masculine'\n",
    "                        word_in_sentence = token\n",
    "                        word = male_word\n",
    "                    elif simple_clean(male_word) == token[-len(male_word):]:\n",
    "                        category = 'masculine'\n",
    "                        word_in_sentence = token\n",
    "                        word = male_word\n",
    "            \n",
    "    if category == 'masculine':\n",
    "        dict = {'sentence': temp_sentence,\n",
    "                'word_in_Sentence': word_in_sentence,\n",
    "                'biased_term': word,\n",
    "                'category': category\n",
    "               }\n",
    "        df_new = df_new.append(dict, ignore_index = True)\n",
    "        \n",
    "    # check for female words\n",
    "    for female_word in female_words:\n",
    "        if re.search(r\"\\b{}\\b\".format(female_word), temp_sentence.lower().strip()):\n",
    "            category = 'feminine'\n",
    "            word_in_sentence = female_word\n",
    "            word = female_word\n",
    "        else:\n",
    "            for token in tokenized_sentence:\n",
    "                if len(female_word) > 3:\n",
    "                    if simple_clean(female_word) == token[:len(female_word)]:\n",
    "                        category = 'feminine'\n",
    "                        word_in_sentence = token\n",
    "                        word = female_word\n",
    "                    elif simple_clean(female_word) == token[-len(female_word):]:\n",
    "                        category = 'feminine'\n",
    "                        word_in_sentence = token\n",
    "                        word = female_word\n",
    "                    \n",
    "    if category == 'feminine':\n",
    "        dict = {'sentence': temp_sentence,\n",
    "                'word_in_Sentence': word_in_sentence,\n",
    "                'biased_term': word,\n",
    "                'category': category\n",
    "               }\n",
    "        df_new = df_new.append(dict, ignore_index = True)\n",
    "    \n",
    "    if index%10000 == 0:\n",
    "        print(index)\n",
    "        \n",
    "        \n",
    "        \n",
    "'''"
   ]
  },
  {
   "cell_type": "code",
   "execution_count": 40,
   "id": "16df0470",
   "metadata": {},
   "outputs": [
    {
     "name": "stdout",
     "output_type": "stream",
     "text": [
      "['This is the first sentence.', 'This is the second sentence!', 'This is the third sentence?', 'And this is the fourth sentence.']\n",
      "['This', 'is', 'the', 'first', 'sentence', '.', 'This', 'is', 'the', 'second', 'sentence', '!', 'This', 'is', 'the', 'third', 'sentence', '?', 'And', 'this', 'is', 'the', 'fourth', 'sentence', '.']\n"
     ]
    }
   ],
   "source": [
    "# try the sent_tokenize() function\n",
    "paragraph = \"This is the first sentence. This is the second sentence! This is the third sentence? And this is the fourth sentence.\"\n",
    "sentences = sent_tokenize(paragraph)\n",
    "words = word_tokenize(paragraph)\n",
    "print(sentences)\n",
    "print(words)"
   ]
  },
  {
   "cell_type": "code",
   "execution_count": null,
   "id": "cd6c27b1",
   "metadata": {},
   "outputs": [],
   "source": []
  },
  {
   "cell_type": "code",
   "execution_count": null,
   "id": "11ff13e4",
   "metadata": {},
   "outputs": [],
   "source": []
  },
  {
   "cell_type": "code",
   "execution_count": null,
   "id": "82c9d225",
   "metadata": {},
   "outputs": [],
   "source": []
  },
  {
   "cell_type": "code",
   "execution_count": null,
   "id": "1093e934",
   "metadata": {},
   "outputs": [],
   "source": []
  },
  {
   "cell_type": "code",
   "execution_count": null,
   "id": "1993e4e8",
   "metadata": {},
   "outputs": [],
   "source": []
  },
  {
   "cell_type": "code",
   "execution_count": null,
   "id": "5fb3b8b3",
   "metadata": {},
   "outputs": [],
   "source": []
  },
  {
   "cell_type": "code",
   "execution_count": null,
   "id": "e61657f1",
   "metadata": {},
   "outputs": [],
   "source": []
  },
  {
   "cell_type": "code",
   "execution_count": null,
   "id": "cc57277e",
   "metadata": {},
   "outputs": [],
   "source": []
  },
  {
   "cell_type": "code",
   "execution_count": null,
   "id": "7c09345b",
   "metadata": {},
   "outputs": [],
   "source": []
  },
  {
   "cell_type": "code",
   "execution_count": null,
   "id": "37f7aef7",
   "metadata": {},
   "outputs": [],
   "source": []
  },
  {
   "cell_type": "code",
   "execution_count": null,
   "id": "c3e43024",
   "metadata": {},
   "outputs": [],
   "source": []
  },
  {
   "cell_type": "code",
   "execution_count": null,
   "id": "2d430ed7",
   "metadata": {},
   "outputs": [],
   "source": []
  },
  {
   "cell_type": "code",
   "execution_count": null,
   "id": "5f47087f",
   "metadata": {},
   "outputs": [],
   "source": []
  },
  {
   "cell_type": "code",
   "execution_count": null,
   "id": "448fbfc5",
   "metadata": {},
   "outputs": [],
   "source": [
    "\n",
    "\n",
    "\n",
    "\n"
   ]
  },
  {
   "cell_type": "code",
   "execution_count": null,
   "id": "a078d367",
   "metadata": {},
   "outputs": [],
   "source": []
  },
  {
   "cell_type": "code",
   "execution_count": null,
   "id": "8b61ebc5",
   "metadata": {},
   "outputs": [],
   "source": []
  },
  {
   "cell_type": "code",
   "execution_count": null,
   "id": "2ed3961b",
   "metadata": {},
   "outputs": [],
   "source": []
  },
  {
   "cell_type": "code",
   "execution_count": null,
   "id": "6eb2e179",
   "metadata": {},
   "outputs": [],
   "source": []
  }
 ],
 "metadata": {
  "kernelspec": {
   "display_name": "Python 3 (ipykernel)",
   "language": "python",
   "name": "python3"
  },
  "language_info": {
   "codemirror_mode": {
    "name": "ipython",
    "version": 3
   },
   "file_extension": ".py",
   "mimetype": "text/x-python",
   "name": "python",
   "nbconvert_exporter": "python",
   "pygments_lexer": "ipython3",
   "version": "3.9.13"
  }
 },
 "nbformat": 4,
 "nbformat_minor": 5
}
