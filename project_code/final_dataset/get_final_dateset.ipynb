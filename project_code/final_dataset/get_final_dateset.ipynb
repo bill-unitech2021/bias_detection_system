{
 "cells": [
  {
   "cell_type": "code",
   "execution_count": 1,
   "id": "6604bdca",
   "metadata": {},
   "outputs": [],
   "source": [
    "import pandas as pd"
   ]
  },
  {
   "cell_type": "code",
   "execution_count": 11,
   "id": "71be1a8e",
   "metadata": {},
   "outputs": [
    {
     "data": {
      "text/plain": [
       "(1009, 2)"
      ]
     },
     "execution_count": 11,
     "metadata": {},
     "output_type": "execute_result"
    }
   ],
   "source": [
    "test_data = pd.read_csv('./test.csv')\n",
    "test_data.shape"
   ]
  },
  {
   "cell_type": "code",
   "execution_count": 10,
   "id": "da74b61e",
   "metadata": {},
   "outputs": [
    {
     "data": {
      "text/plain": [
       "(4036, 2)"
      ]
     },
     "execution_count": 10,
     "metadata": {},
     "output_type": "execute_result"
    }
   ],
   "source": [
    "train_data = pd.read_csv('./train.csv')\n",
    "train_data.shape"
   ]
  },
  {
   "cell_type": "code",
   "execution_count": 15,
   "id": "ce4bc95d",
   "metadata": {},
   "outputs": [],
   "source": [
    "frames = [test_data, train_data]"
   ]
  },
  {
   "cell_type": "code",
   "execution_count": 17,
   "id": "e74d07f0",
   "metadata": {},
   "outputs": [
    {
     "data": {
      "text/plain": [
       "(5045, 2)"
      ]
     },
     "execution_count": 17,
     "metadata": {},
     "output_type": "execute_result"
    }
   ],
   "source": [
    "final_dataset = pd.concat(frames)\n",
    "final_dataset.shape"
   ]
  },
  {
   "cell_type": "code",
   "execution_count": 20,
   "id": "957dfd8d",
   "metadata": {},
   "outputs": [
    {
     "data": {
      "text/html": [
       "<div>\n",
       "<style scoped>\n",
       "    .dataframe tbody tr th:only-of-type {\n",
       "        vertical-align: middle;\n",
       "    }\n",
       "\n",
       "    .dataframe tbody tr th {\n",
       "        vertical-align: top;\n",
       "    }\n",
       "\n",
       "    .dataframe thead th {\n",
       "        text-align: right;\n",
       "    }\n",
       "</style>\n",
       "<table border=\"1\" class=\"dataframe\">\n",
       "  <thead>\n",
       "    <tr style=\"text-align: right;\">\n",
       "      <th></th>\n",
       "      <th>word_labels</th>\n",
       "      <th>sentence</th>\n",
       "    </tr>\n",
       "  </thead>\n",
       "  <tbody>\n",
       "    <tr>\n",
       "      <th>4026</th>\n",
       "      <td>O,O,O,O,O,O,O,O,O,Generic he,O,O,O,O,O,</td>\n",
       "      <td>The writer wrote a book about the carpenter be...</td>\n",
       "    </tr>\n",
       "    <tr>\n",
       "      <th>4027</th>\n",
       "      <td>O,O,O,O,O,O,O,O,O,O,O,O,O,O,O,O,O,O,O,O,O,O</td>\n",
       "      <td>reports to the executive director and a member...</td>\n",
       "    </tr>\n",
       "    <tr>\n",
       "      <th>4028</th>\n",
       "      <td>O,O,O,O,O,O,O,O,O,O,O,O,O,O,O,O</td>\n",
       "      <td>Your talent will be nurtured and you will be o...</td>\n",
       "    </tr>\n",
       "    <tr>\n",
       "      <th>4029</th>\n",
       "      <td>O,O,O,O,O,O,O,O,O,O,O,O,Generic he,O,O,O,</td>\n",
       "      <td>The construction worker went to a meeting with...</td>\n",
       "    </tr>\n",
       "    <tr>\n",
       "      <th>4030</th>\n",
       "      <td>O,O,O,O,O,O,O,O,Explicit Marking of Sex,i-Expl...</td>\n",
       "      <td>What we're looking for You will have strong ma...</td>\n",
       "    </tr>\n",
       "    <tr>\n",
       "      <th>4031</th>\n",
       "      <td>O,O,O,Behavioural Stereotypes,O,O,O,O,O,O,O,O,...</td>\n",
       "      <td>anyone who can empathise with others, is smart...</td>\n",
       "    </tr>\n",
       "    <tr>\n",
       "      <th>4032</th>\n",
       "      <td>Societal Stereotypes,i-Societal Stereotypes,i-...</td>\n",
       "      <td>Cashiers are women.</td>\n",
       "    </tr>\n",
       "    <tr>\n",
       "      <th>4033</th>\n",
       "      <td>Societal Stereotypes,i-Societal Stereotypes,i-...</td>\n",
       "      <td>Distribution supervisors are men.</td>\n",
       "    </tr>\n",
       "    <tr>\n",
       "      <th>4034</th>\n",
       "      <td>O,Behavioural Stereotypes,O,Behavioural Stereo...</td>\n",
       "      <td>strong leadership and leadership skills (abili...</td>\n",
       "    </tr>\n",
       "    <tr>\n",
       "      <th>4035</th>\n",
       "      <td>O,O,O,O,O,O,O,O,O,O,O,O,O,O,O,O</td>\n",
       "      <td>Work cooperatively with each client’s team (wh...</td>\n",
       "    </tr>\n",
       "  </tbody>\n",
       "</table>\n",
       "</div>"
      ],
      "text/plain": [
       "                                            word_labels  \\\n",
       "4026            O,O,O,O,O,O,O,O,O,Generic he,O,O,O,O,O,   \n",
       "4027        O,O,O,O,O,O,O,O,O,O,O,O,O,O,O,O,O,O,O,O,O,O   \n",
       "4028                    O,O,O,O,O,O,O,O,O,O,O,O,O,O,O,O   \n",
       "4029          O,O,O,O,O,O,O,O,O,O,O,O,Generic he,O,O,O,   \n",
       "4030  O,O,O,O,O,O,O,O,Explicit Marking of Sex,i-Expl...   \n",
       "4031  O,O,O,Behavioural Stereotypes,O,O,O,O,O,O,O,O,...   \n",
       "4032  Societal Stereotypes,i-Societal Stereotypes,i-...   \n",
       "4033  Societal Stereotypes,i-Societal Stereotypes,i-...   \n",
       "4034  O,Behavioural Stereotypes,O,Behavioural Stereo...   \n",
       "4035                    O,O,O,O,O,O,O,O,O,O,O,O,O,O,O,O   \n",
       "\n",
       "                                               sentence  \n",
       "4026  The writer wrote a book about the carpenter be...  \n",
       "4027  reports to the executive director and a member...  \n",
       "4028  Your talent will be nurtured and you will be o...  \n",
       "4029  The construction worker went to a meeting with...  \n",
       "4030  What we're looking for You will have strong ma...  \n",
       "4031  anyone who can empathise with others, is smart...  \n",
       "4032                                Cashiers are women.  \n",
       "4033                  Distribution supervisors are men.  \n",
       "4034  strong leadership and leadership skills (abili...  \n",
       "4035  Work cooperatively with each client’s team (wh...  "
      ]
     },
     "execution_count": 20,
     "metadata": {},
     "output_type": "execute_result"
    }
   ],
   "source": [
    "final_dataset.head(10)"
   ]
  },
  {
   "cell_type": "code",
   "execution_count": 21,
   "id": "fedf8c8f",
   "metadata": {},
   "outputs": [
    {
     "data": {
      "text/html": [
       "<div>\n",
       "<style scoped>\n",
       "    .dataframe tbody tr th:only-of-type {\n",
       "        vertical-align: middle;\n",
       "    }\n",
       "\n",
       "    .dataframe tbody tr th {\n",
       "        vertical-align: top;\n",
       "    }\n",
       "\n",
       "    .dataframe thead th {\n",
       "        text-align: right;\n",
       "    }\n",
       "</style>\n",
       "<table border=\"1\" class=\"dataframe\">\n",
       "  <thead>\n",
       "    <tr style=\"text-align: right;\">\n",
       "      <th></th>\n",
       "      <th>word_labels</th>\n",
       "      <th>sentence</th>\n",
       "    </tr>\n",
       "  </thead>\n",
       "  <tbody>\n",
       "    <tr>\n",
       "      <th>4026</th>\n",
       "      <td>O,O,O,O,O,O,O,O,O,Generic he,O,O,O,O,O,</td>\n",
       "      <td>The writer wrote a book about the carpenter be...</td>\n",
       "    </tr>\n",
       "    <tr>\n",
       "      <th>4027</th>\n",
       "      <td>O,O,O,O,O,O,O,O,O,O,O,O,O,O,O,O,O,O,O,O,O,O</td>\n",
       "      <td>reports to the executive director and a member...</td>\n",
       "    </tr>\n",
       "    <tr>\n",
       "      <th>4028</th>\n",
       "      <td>O,O,O,O,O,O,O,O,O,O,O,O,O,O,O,O</td>\n",
       "      <td>Your talent will be nurtured and you will be o...</td>\n",
       "    </tr>\n",
       "    <tr>\n",
       "      <th>4029</th>\n",
       "      <td>O,O,O,O,O,O,O,O,O,O,O,O,Generic he,O,O,O,</td>\n",
       "      <td>The construction worker went to a meeting with...</td>\n",
       "    </tr>\n",
       "    <tr>\n",
       "      <th>4030</th>\n",
       "      <td>O,O,O,O,O,O,O,O,Explicit Marking of Sex,i-Expl...</td>\n",
       "      <td>What we're looking for You will have strong ma...</td>\n",
       "    </tr>\n",
       "    <tr>\n",
       "      <th>4031</th>\n",
       "      <td>O,O,O,Behavioural Stereotypes,O,O,O,O,O,O,O,O,...</td>\n",
       "      <td>anyone who can empathise with others, is smart...</td>\n",
       "    </tr>\n",
       "    <tr>\n",
       "      <th>4032</th>\n",
       "      <td>Societal Stereotypes,i-Societal Stereotypes,i-...</td>\n",
       "      <td>Cashiers are women.</td>\n",
       "    </tr>\n",
       "    <tr>\n",
       "      <th>4033</th>\n",
       "      <td>Societal Stereotypes,i-Societal Stereotypes,i-...</td>\n",
       "      <td>Distribution supervisors are men.</td>\n",
       "    </tr>\n",
       "    <tr>\n",
       "      <th>4034</th>\n",
       "      <td>O,Behavioural Stereotypes,O,Behavioural Stereo...</td>\n",
       "      <td>strong leadership and leadership skills (abili...</td>\n",
       "    </tr>\n",
       "    <tr>\n",
       "      <th>4035</th>\n",
       "      <td>O,O,O,O,O,O,O,O,O,O,O,O,O,O,O,O</td>\n",
       "      <td>Work cooperatively with each client’s team (wh...</td>\n",
       "    </tr>\n",
       "  </tbody>\n",
       "</table>\n",
       "</div>"
      ],
      "text/plain": [
       "                                            word_labels  \\\n",
       "4026            O,O,O,O,O,O,O,O,O,Generic he,O,O,O,O,O,   \n",
       "4027        O,O,O,O,O,O,O,O,O,O,O,O,O,O,O,O,O,O,O,O,O,O   \n",
       "4028                    O,O,O,O,O,O,O,O,O,O,O,O,O,O,O,O   \n",
       "4029          O,O,O,O,O,O,O,O,O,O,O,O,Generic he,O,O,O,   \n",
       "4030  O,O,O,O,O,O,O,O,Explicit Marking of Sex,i-Expl...   \n",
       "4031  O,O,O,Behavioural Stereotypes,O,O,O,O,O,O,O,O,...   \n",
       "4032  Societal Stereotypes,i-Societal Stereotypes,i-...   \n",
       "4033  Societal Stereotypes,i-Societal Stereotypes,i-...   \n",
       "4034  O,Behavioural Stereotypes,O,Behavioural Stereo...   \n",
       "4035                    O,O,O,O,O,O,O,O,O,O,O,O,O,O,O,O   \n",
       "\n",
       "                                               sentence  \n",
       "4026  The writer wrote a book about the carpenter be...  \n",
       "4027  reports to the executive director and a member...  \n",
       "4028  Your talent will be nurtured and you will be o...  \n",
       "4029  The construction worker went to a meeting with...  \n",
       "4030  What we're looking for You will have strong ma...  \n",
       "4031  anyone who can empathise with others, is smart...  \n",
       "4032                                Cashiers are women.  \n",
       "4033                  Distribution supervisors are men.  \n",
       "4034  strong leadership and leadership skills (abili...  \n",
       "4035  Work cooperatively with each client’s team (wh...  "
      ]
     },
     "execution_count": 21,
     "metadata": {},
     "output_type": "execute_result"
    }
   ],
   "source": [
    "final_dataset.tail(10)"
   ]
  },
  {
   "cell_type": "code",
   "execution_count": null,
   "id": "2a17bf09",
   "metadata": {},
   "outputs": [],
   "source": [
    "final_dataset.to_csv('./')"
   ]
  }
 ],
 "metadata": {
  "kernelspec": {
   "display_name": "Python 3 (ipykernel)",
   "language": "python",
   "name": "python3"
  },
  "language_info": {
   "codemirror_mode": {
    "name": "ipython",
    "version": 3
   },
   "file_extension": ".py",
   "mimetype": "text/x-python",
   "name": "python",
   "nbconvert_exporter": "python",
   "pygments_lexer": "ipython3",
   "version": "3.9.13"
  }
 },
 "nbformat": 4,
 "nbformat_minor": 5
}
