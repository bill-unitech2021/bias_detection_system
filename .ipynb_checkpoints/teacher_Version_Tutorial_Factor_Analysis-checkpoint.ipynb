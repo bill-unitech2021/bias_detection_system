{
 "cells": [
  {
   "cell_type": "markdown",
   "metadata": {},
   "source": [
    "# Tutorial 5: Factor Analysis to Measure Tolerance\n",
    "**Date**: March 2022\n",
    "\n",
    "**Background**\n",
    "In the previous tutorial, you assessed the reliability and validity of questionnaries. In this tutorial, you will peform an exploratory factor analysis (EFA) to measure tolerance on the following case-study.\n",
    "\n",
    "**Case-Study on Tolerance**\n",
    "The goal of this case-study is to examine the attitude of 150 students towards tolerance where tolerance refers to the degree of diversity. The researchers involved in this case-study developed eight questions to model various expressions of tolerance. The questions are provided below:\n",
    "\n",
    "\n",
    "**Table 1**. Description of variables in the dataset\n",
    "\n",
    "|id|variable   |description                                                                                                                                                     |\n",
    "|------|-----------|----------------------------------------------------------------------------------------------------------------------------------------------------------------|\n",
    "|1     |id         |annoymized unique identifier per individual                                                                                                                                                       |\n",
    "|2     |age        |Age of student                                                                                                                                                                                                          |\n",
    "|3     |height     |Height (scale in cm, e.g. 183)                                                                                                                                  |\n",
    "|4     |country    |Where are you come from? (Country)                                                                                                                              |\n",
    "|5     |language   |How many language you speak at home to your family?                                                                                                             |\n",
    "|6     |freq_travel|How many different countries have you travelled to?                                                                                                                                                                   |\n",
    "|7     |q1         |five-point Likert Scale from 'strongly disagree' to 'strongly agree': [People should have the right to live how they wish]|\n",
    "|8    |q2         |five-point Likert Scale from 'strongly disagree' to 'strongly agree': [It is important that people have the freedom to live their life as they choose]     |\n",
    "|9   |q3         |five-point Likert Scale from 'strongly disagree' to 'strongly agree': [ It is okay for people to live as they wish as long as they do not harm other people]                                    |\n",
    "|10    |q4         |five-point Likert Scale from 'strongly disagree' to 'strongly agree': [I respect other people’s beliefs and opinions]        |\n",
    "|11    |q5         |five-point Likert Scale from 'strongly disagree' to 'strongly agree': [I respect other people’s opinions even when I do not agree]   |\n",
    "|12    |q6         |five-point Likert Scale from 'strongly disagree' to 'strongly agree': [I like to spend time with people who are different from me]                                         |\n",
    "|13    |q7         |five-point Likert Scale from 'strongly disagree' to 'strongly agree': [I like people who challenge me to think about the world in a different way]                            |\n",
    "|14   |q8         |five-point Likert Scale from 'strongly disagree' to 'strongly agree': [Society benefits from a diversity of traditions and lifestyles]                            |\n",
    "                 |\n",
    "\n",
    "\n",
    "\n",
    "The responses to the survey questions were recorded in the \"tolerance survey dataset\". \n",
    "\n",
    "The dataset is available here: https://raw.githubusercontent.com/MaastrichtU-IDS/global-studies/main/semester4/tutorial4/inputs/tolerance_survey_data.csv \n",
    "\n",
    "\n",
    "**Today's Objectives**\n",
    "\n",
    "In today's tutorial, you will conduct an exploratory factor analysis (EFA) on the given dataset. The goal of the factor analyis is as follows:\n",
    "\n",
    "- Conduct a Kaiser-Meyer-Olkin (KMO) test to assess the suitability of survey data (only items q1-q8) for factor analysis\n",
    "- Find the appropriate number of Factors for the given survey items (only q1-q8)\n",
    "- Interpret the factor loadings and find out which survey items/variables are related to which factors\n",
    "- Compute the different types of variance to model the interrelationships among variables\n",
    "\n",
    "**Intended Learning Outcomes**\n",
    "- M5. Understand the fundamentals of factor analysis and identify opportunities to combine variables;\n",
    "\n",
    "- M6. Conduct your own factor analysis in Python;\n"
   ]
  },
  {
   "cell_type": "markdown",
   "metadata": {},
   "source": [
    "### Install the factor_analyzer package\n",
    "\n",
    "#### For MacOS:\n",
    "Type Command + Space Bar on your Mac Keyboard. Type in “Terminal”. Open the terminal.\n",
    "Type `pip install factor_analyzer==0.3.2` and hit enter.\n",
    "Restart the Kernel of your Jupyter Notebook. Now try to import: `from factor_analyzer import FactorAnalyzer` in a cell in Jupyter notebook.\n",
    "\n",
    "#### For Windows:\n",
    "Type “Anaconda prompt” in your window search option. Open the Anaconda Prompt.\n",
    "Type `pip install factor_analyzer==0.3.2` and hit enter.\n",
    "Restart the Kernel of your Jupyter Notebook. Now try to import: `from factor_analyzer import FactorAnalyzer` in a cell in Jupyter notebook.\n",
    "\n",
    "#### For Colab\n",
    "Run `!pip install factor_analyzer==0.3.2` in a Code cell. Now try to import: `from factor_analyzer import FactorAnalyzer` in a cell in the Colab notebook.\n"
   ]
  },
  {
   "cell_type": "markdown",
   "metadata": {},
   "source": [
    "#### Import the necessary libraries you will need to perform factor analysis on the survey data."
   ]
  },
  {
   "cell_type": "code",
   "execution_count": 1,
   "metadata": {},
   "outputs": [
    {
     "name": "stdout",
     "output_type": "stream",
     "text": [
      "Collecting factor_analyzer==0.3.2\n",
      "  Downloading factor_analyzer-0.3.2.tar.gz (40 kB)\n",
      "\u001b[2K     \u001b[90m━━━━━━━━━━━━━━━━━━━━━━━━━━━━━━━━━━━━━━━━\u001b[0m \u001b[32m40.1/40.1 kB\u001b[0m \u001b[31m1.2 MB/s\u001b[0m eta \u001b[36m0:00:00\u001b[0m\n",
      "\u001b[?25h  Preparing metadata (setup.py) ... \u001b[?25ldone\n",
      "\u001b[?25hRequirement already satisfied: pandas in /Users/bill/opt/anaconda3/lib/python3.9/site-packages (from factor_analyzer==0.3.2) (1.4.4)\n",
      "Requirement already satisfied: scipy in /Users/bill/opt/anaconda3/lib/python3.9/site-packages (from factor_analyzer==0.3.2) (1.9.1)\n",
      "Requirement already satisfied: numpy in /Users/bill/opt/anaconda3/lib/python3.9/site-packages (from factor_analyzer==0.3.2) (1.21.5)\n",
      "Requirement already satisfied: scikit-learn in /Users/bill/opt/anaconda3/lib/python3.9/site-packages (from factor_analyzer==0.3.2) (1.0.2)\n",
      "Requirement already satisfied: python-dateutil>=2.8.1 in /Users/bill/opt/anaconda3/lib/python3.9/site-packages (from pandas->factor_analyzer==0.3.2) (2.8.2)\n",
      "Requirement already satisfied: pytz>=2020.1 in /Users/bill/opt/anaconda3/lib/python3.9/site-packages (from pandas->factor_analyzer==0.3.2) (2022.1)\n",
      "Requirement already satisfied: threadpoolctl>=2.0.0 in /Users/bill/opt/anaconda3/lib/python3.9/site-packages (from scikit-learn->factor_analyzer==0.3.2) (2.2.0)\n",
      "Requirement already satisfied: joblib>=0.11 in /Users/bill/opt/anaconda3/lib/python3.9/site-packages (from scikit-learn->factor_analyzer==0.3.2) (1.1.0)\n",
      "Requirement already satisfied: six>=1.5 in /Users/bill/opt/anaconda3/lib/python3.9/site-packages (from python-dateutil>=2.8.1->pandas->factor_analyzer==0.3.2) (1.16.0)\n",
      "Building wheels for collected packages: factor_analyzer\n",
      "  Building wheel for factor_analyzer (setup.py) ... \u001b[?25ldone\n",
      "\u001b[?25h  Created wheel for factor_analyzer: filename=factor_analyzer-0.3.2-py3-none-any.whl size=40378 sha256=75e4983f9d0bfee8152aa560766829886bcc45108c83996e8ef0d5fcb68f5f08\n",
      "  Stored in directory: /Users/bill/Library/Caches/pip/wheels/62/16/01/acb71f0e0373c1369a2ce6f6977396cf11b779fe307d85fad5\n",
      "Successfully built factor_analyzer\n",
      "Installing collected packages: factor_analyzer\n",
      "Successfully installed factor_analyzer-0.3.2\n"
     ]
    }
   ],
   "source": [
    "!pip install factor_analyzer==0.3.2"
   ]
  },
  {
   "cell_type": "code",
   "execution_count": 2,
   "metadata": {},
   "outputs": [],
   "source": [
    "import pandas as pd\n",
    "from factor_analyzer import FactorAnalyzer #package for Exploratory Factor Analysis (EFA)"
   ]
  },
  {
   "cell_type": "markdown",
   "metadata": {},
   "source": [
    "#### 0. Import the dataset\n",
    "Read the csv file and store it in a dataframe named, `df`."
   ]
  },
  {
   "cell_type": "code",
   "execution_count": 3,
   "metadata": {},
   "outputs": [],
   "source": [
    "url = 'https://raw.githubusercontent.com/MaastrichtU-IDS/global-studies/main/semester4/tutorial4/inputs/tolerance_survey_data.csv'\n",
    "df = pd.read_csv(url)"
   ]
  },
  {
   "cell_type": "markdown",
   "metadata": {},
   "source": [
    "#### 1. Drop the columns: 'id' , 'age', 'height', 'country', 'language' and 'freq_travel' of `df`\n",
    "For conducting factor analysis we are only interested in questions q1-q8 as they are related to tolerance. We are not interested in studying the attributes of respondents."
   ]
  },
  {
   "cell_type": "code",
   "execution_count": 4,
   "metadata": {},
   "outputs": [],
   "source": [
    "df = df.drop(['id','age','height','country','language','freq_travel'], axis=1)"
   ]
  },
  {
   "cell_type": "markdown",
   "metadata": {},
   "source": [
    "#### 2. Transform the variables from the likert scale to the numbers by using the following mapping:\n",
    "\n",
    "Strongly Agree ---> 5\n",
    "\n",
    "Agree ---> 4\n",
    "\n",
    "Neutral ---> 3\n",
    "\n",
    "Disagree ---> 2\n",
    "\n",
    "Strongly Disagree ---> 1"
   ]
  },
  {
   "cell_type": "code",
   "execution_count": 5,
   "metadata": {},
   "outputs": [],
   "source": [
    "df_transformed = df.replace(['Strongly Agree',\n",
    "                   'Agree', \n",
    "                   'Neutral', \n",
    "                   'Disagree', \n",
    "                   'Strongly Disagree'], [5,4,3,2,1])"
   ]
  },
  {
   "cell_type": "markdown",
   "metadata": {},
   "source": [
    "#### 3. Print the first 10 rows of the transformed dataframe."
   ]
  },
  {
   "cell_type": "code",
   "execution_count": 6,
   "metadata": {},
   "outputs": [
    {
     "data": {
      "text/html": [
       "<div>\n",
       "<style scoped>\n",
       "    .dataframe tbody tr th:only-of-type {\n",
       "        vertical-align: middle;\n",
       "    }\n",
       "\n",
       "    .dataframe tbody tr th {\n",
       "        vertical-align: top;\n",
       "    }\n",
       "\n",
       "    .dataframe thead th {\n",
       "        text-align: right;\n",
       "    }\n",
       "</style>\n",
       "<table border=\"1\" class=\"dataframe\">\n",
       "  <thead>\n",
       "    <tr style=\"text-align: right;\">\n",
       "      <th></th>\n",
       "      <th>q1</th>\n",
       "      <th>q2</th>\n",
       "      <th>q3</th>\n",
       "      <th>q4</th>\n",
       "      <th>q5</th>\n",
       "      <th>q6</th>\n",
       "      <th>q7</th>\n",
       "      <th>q8</th>\n",
       "    </tr>\n",
       "  </thead>\n",
       "  <tbody>\n",
       "    <tr>\n",
       "      <th>0</th>\n",
       "      <td>4.0</td>\n",
       "      <td>4</td>\n",
       "      <td>4.0</td>\n",
       "      <td>4.0</td>\n",
       "      <td>3</td>\n",
       "      <td>2.0</td>\n",
       "      <td>3.0</td>\n",
       "      <td>3.0</td>\n",
       "    </tr>\n",
       "    <tr>\n",
       "      <th>1</th>\n",
       "      <td>5.0</td>\n",
       "      <td>4</td>\n",
       "      <td>3.0</td>\n",
       "      <td>4.0</td>\n",
       "      <td>5</td>\n",
       "      <td>5.0</td>\n",
       "      <td>4.0</td>\n",
       "      <td>4.0</td>\n",
       "    </tr>\n",
       "    <tr>\n",
       "      <th>2</th>\n",
       "      <td>4.0</td>\n",
       "      <td>4</td>\n",
       "      <td>5.0</td>\n",
       "      <td>4.0</td>\n",
       "      <td>5</td>\n",
       "      <td>4.0</td>\n",
       "      <td>5.0</td>\n",
       "      <td>4.0</td>\n",
       "    </tr>\n",
       "    <tr>\n",
       "      <th>3</th>\n",
       "      <td>4.0</td>\n",
       "      <td>4</td>\n",
       "      <td>4.0</td>\n",
       "      <td>4.0</td>\n",
       "      <td>5</td>\n",
       "      <td>4.0</td>\n",
       "      <td>4.0</td>\n",
       "      <td>3.0</td>\n",
       "    </tr>\n",
       "    <tr>\n",
       "      <th>4</th>\n",
       "      <td>5.0</td>\n",
       "      <td>4</td>\n",
       "      <td>5.0</td>\n",
       "      <td>3.0</td>\n",
       "      <td>3</td>\n",
       "      <td>4.0</td>\n",
       "      <td>4.0</td>\n",
       "      <td>5.0</td>\n",
       "    </tr>\n",
       "    <tr>\n",
       "      <th>5</th>\n",
       "      <td>5.0</td>\n",
       "      <td>5</td>\n",
       "      <td>5.0</td>\n",
       "      <td>5.0</td>\n",
       "      <td>5</td>\n",
       "      <td>5.0</td>\n",
       "      <td>5.0</td>\n",
       "      <td>5.0</td>\n",
       "    </tr>\n",
       "    <tr>\n",
       "      <th>6</th>\n",
       "      <td>4.0</td>\n",
       "      <td>5</td>\n",
       "      <td>5.0</td>\n",
       "      <td>5.0</td>\n",
       "      <td>5</td>\n",
       "      <td>5.0</td>\n",
       "      <td>4.0</td>\n",
       "      <td>4.0</td>\n",
       "    </tr>\n",
       "    <tr>\n",
       "      <th>7</th>\n",
       "      <td>4.0</td>\n",
       "      <td>2</td>\n",
       "      <td>1.0</td>\n",
       "      <td>3.0</td>\n",
       "      <td>1</td>\n",
       "      <td>3.0</td>\n",
       "      <td>2.0</td>\n",
       "      <td>4.0</td>\n",
       "    </tr>\n",
       "    <tr>\n",
       "      <th>8</th>\n",
       "      <td>NaN</td>\n",
       "      <td>4</td>\n",
       "      <td>3.0</td>\n",
       "      <td>3.0</td>\n",
       "      <td>5</td>\n",
       "      <td>5.0</td>\n",
       "      <td>5.0</td>\n",
       "      <td>3.0</td>\n",
       "    </tr>\n",
       "    <tr>\n",
       "      <th>9</th>\n",
       "      <td>4.0</td>\n",
       "      <td>5</td>\n",
       "      <td>5.0</td>\n",
       "      <td>5.0</td>\n",
       "      <td>5</td>\n",
       "      <td>5.0</td>\n",
       "      <td>5.0</td>\n",
       "      <td>5.0</td>\n",
       "    </tr>\n",
       "  </tbody>\n",
       "</table>\n",
       "</div>"
      ],
      "text/plain": [
       "    q1  q2   q3   q4  q5   q6   q7   q8\n",
       "0  4.0   4  4.0  4.0   3  2.0  3.0  3.0\n",
       "1  5.0   4  3.0  4.0   5  5.0  4.0  4.0\n",
       "2  4.0   4  5.0  4.0   5  4.0  5.0  4.0\n",
       "3  4.0   4  4.0  4.0   5  4.0  4.0  3.0\n",
       "4  5.0   4  5.0  3.0   3  4.0  4.0  5.0\n",
       "5  5.0   5  5.0  5.0   5  5.0  5.0  5.0\n",
       "6  4.0   5  5.0  5.0   5  5.0  4.0  4.0\n",
       "7  4.0   2  1.0  3.0   1  3.0  2.0  4.0\n",
       "8  NaN   4  3.0  3.0   5  5.0  5.0  3.0\n",
       "9  4.0   5  5.0  5.0   5  5.0  5.0  5.0"
      ]
     },
     "execution_count": 6,
     "metadata": {},
     "output_type": "execute_result"
    }
   ],
   "source": [
    "df_transformed.head(10)"
   ]
  },
  {
   "cell_type": "markdown",
   "metadata": {},
   "source": [
    "#### 4. Handle missing values\n",
    "\n",
    "Compute the mean of all the columns (questions). Replace the missing values by the mean of that particular column. Check the dataframe to see if the missing values have been replaced by the mean or not ( to do this you can print the values of different columns, for instance for q1: `df_transformed.q1.values`"
   ]
  },
  {
   "cell_type": "code",
   "execution_count": 7,
   "metadata": {},
   "outputs": [
    {
     "data": {
      "text/plain": [
       "q1    3.798658\n",
       "q2    4.046667\n",
       "q3    4.073826\n",
       "q4    4.476510\n",
       "q5    4.313333\n",
       "q6    4.268456\n",
       "q7    4.060403\n",
       "q8    4.120805\n",
       "dtype: float64"
      ]
     },
     "execution_count": 7,
     "metadata": {},
     "output_type": "execute_result"
    }
   ],
   "source": [
    "#Mean of all the columns\n",
    "column_means = df_transformed.mean()\n",
    "column_means"
   ]
  },
  {
   "cell_type": "code",
   "execution_count": 8,
   "metadata": {},
   "outputs": [],
   "source": [
    "#Replace missing values in each column by using the mean of that particular column\n",
    "df_transformed = df_transformed.fillna(column_means)"
   ]
  },
  {
   "cell_type": "code",
   "execution_count": 9,
   "metadata": {},
   "outputs": [
    {
     "data": {
      "text/plain": [
       "array([4.        , 5.        , 4.        , 4.        , 5.        ,\n",
       "       5.        , 4.        , 4.        , 3.79865772, 4.        ,\n",
       "       2.        , 4.        , 3.        , 4.        , 3.        ,\n",
       "       5.        , 5.        , 4.        , 4.        , 4.        ,\n",
       "       5.        , 4.        , 2.        , 5.        , 5.        ,\n",
       "       5.        , 4.        , 5.        , 5.        , 5.        ,\n",
       "       1.        , 5.        , 1.        , 3.        , 4.        ,\n",
       "       3.        , 2.        , 3.        , 1.        , 5.        ,\n",
       "       4.        , 4.        , 2.        , 4.        , 5.        ,\n",
       "       5.        , 5.        , 4.        , 5.        , 5.        ,\n",
       "       4.        , 4.        , 5.        , 2.        , 5.        ,\n",
       "       4.        , 4.        , 5.        , 1.        , 4.        ,\n",
       "       3.        , 4.        , 5.        , 5.        , 5.        ,\n",
       "       3.        , 2.        , 4.        , 4.        , 2.        ,\n",
       "       5.        , 4.        , 4.        , 3.        , 5.        ,\n",
       "       4.        , 5.        , 5.        , 4.        , 4.        ,\n",
       "       4.        , 3.        , 5.        , 5.        , 4.        ,\n",
       "       3.        , 2.        , 4.        , 4.        , 4.        ,\n",
       "       5.        , 4.        , 2.        , 5.        , 2.        ,\n",
       "       2.        , 1.        , 2.        , 1.        , 2.        ,\n",
       "       4.        , 4.        , 2.        , 3.        , 3.        ,\n",
       "       3.        , 1.        , 5.        , 4.        , 5.        ,\n",
       "       4.        , 3.        , 4.        , 2.        , 5.        ,\n",
       "       2.        , 4.        , 2.        , 4.        , 5.        ,\n",
       "       5.        , 3.        , 5.        , 5.        , 5.        ,\n",
       "       3.        , 4.        , 5.        , 2.        , 3.        ,\n",
       "       4.        , 5.        , 3.        , 3.        , 5.        ,\n",
       "       4.        , 5.        , 5.        , 5.        , 5.        ,\n",
       "       1.        , 4.        , 5.        , 5.        , 5.        ,\n",
       "       3.        , 5.        , 4.        , 5.        , 1.        ])"
      ]
     },
     "execution_count": 9,
     "metadata": {},
     "output_type": "execute_result"
    }
   ],
   "source": [
    "#Print the values of column q1\n",
    "df_transformed.q1.values"
   ]
  },
  {
   "cell_type": "markdown",
   "metadata": {},
   "source": [
    "#### 5. Check the suitability of the data for Factor Analysis using Kaiser-Meyer-Olkin (KMO) test\n",
    "\n",
    "Conduct a Kaiser-Meyer-Olkin (KMO) test to evaluate if the data is suitable for Factor Analysis or not. Interpret the results of the test.  \n",
    "\n",
    "Check the documentation of the `calculate_kmo()` function here: https://factor-analyzer.readthedocs.io/en/latest/factor_analyzer.html?highlight=kmo#factor_analyzer.factor_analyzer.calculate_kmo  and use it to check the suitability of the transformed dataframe (without missing values) for factor analysis. \n",
    "\n",
    "Interpret the KMO value as per the table provided in the lecture and decide if the dataset is suitable to perform factor analysis or not ?"
   ]
  },
  {
   "cell_type": "code",
   "execution_count": 10,
   "metadata": {},
   "outputs": [
    {
     "data": {
      "text/html": [
       "<style type=\"text/css\">\n",
       "#T_9b757_row0_col0, #T_9b757_row1_col1, #T_9b757_row2_col2, #T_9b757_row3_col3, #T_9b757_row4_col4, #T_9b757_row5_col5, #T_9b757_row6_col6, #T_9b757_row7_col7 {\n",
       "  background-color: #08306b;\n",
       "  color: #f1f1f1;\n",
       "}\n",
       "#T_9b757_row0_col1, #T_9b757_row4_col3 {\n",
       "  background-color: #94c4df;\n",
       "  color: #000000;\n",
       "}\n",
       "#T_9b757_row0_col2 {\n",
       "  background-color: #c9ddf0;\n",
       "  color: #000000;\n",
       "}\n",
       "#T_9b757_row0_col3, #T_9b757_row0_col5, #T_9b757_row0_col6, #T_9b757_row0_col7, #T_9b757_row4_col2, #T_9b757_row6_col1, #T_9b757_row7_col0, #T_9b757_row7_col4 {\n",
       "  background-color: #f7fbff;\n",
       "  color: #000000;\n",
       "}\n",
       "#T_9b757_row0_col4 {\n",
       "  background-color: #f5fafe;\n",
       "  color: #000000;\n",
       "}\n",
       "#T_9b757_row1_col0, #T_9b757_row6_col7 {\n",
       "  background-color: #79b5d9;\n",
       "  color: #000000;\n",
       "}\n",
       "#T_9b757_row1_col2 {\n",
       "  background-color: #b4d3e9;\n",
       "  color: #000000;\n",
       "}\n",
       "#T_9b757_row1_col3 {\n",
       "  background-color: #c4daee;\n",
       "  color: #000000;\n",
       "}\n",
       "#T_9b757_row1_col4 {\n",
       "  background-color: #bfd8ed;\n",
       "  color: #000000;\n",
       "}\n",
       "#T_9b757_row1_col5 {\n",
       "  background-color: #deebf7;\n",
       "  color: #000000;\n",
       "}\n",
       "#T_9b757_row1_col6, #T_9b757_row7_col2 {\n",
       "  background-color: #edf4fc;\n",
       "  color: #000000;\n",
       "}\n",
       "#T_9b757_row1_col7 {\n",
       "  background-color: #d8e7f5;\n",
       "  color: #000000;\n",
       "}\n",
       "#T_9b757_row2_col0 {\n",
       "  background-color: #97c6df;\n",
       "  color: #000000;\n",
       "}\n",
       "#T_9b757_row2_col1 {\n",
       "  background-color: #9dcae1;\n",
       "  color: #000000;\n",
       "}\n",
       "#T_9b757_row2_col3, #T_9b757_row7_col3 {\n",
       "  background-color: #d7e6f5;\n",
       "  color: #000000;\n",
       "}\n",
       "#T_9b757_row2_col4 {\n",
       "  background-color: #ddeaf7;\n",
       "  color: #000000;\n",
       "}\n",
       "#T_9b757_row2_col5, #T_9b757_row2_col6 {\n",
       "  background-color: #d3e4f3;\n",
       "  color: #000000;\n",
       "}\n",
       "#T_9b757_row2_col7, #T_9b757_row4_col1 {\n",
       "  background-color: #c7dbef;\n",
       "  color: #000000;\n",
       "}\n",
       "#T_9b757_row3_col0 {\n",
       "  background-color: #d9e8f5;\n",
       "  color: #000000;\n",
       "}\n",
       "#T_9b757_row3_col1 {\n",
       "  background-color: #bad6eb;\n",
       "  color: #000000;\n",
       "}\n",
       "#T_9b757_row3_col2, #T_9b757_row5_col3 {\n",
       "  background-color: #e2edf8;\n",
       "  color: #000000;\n",
       "}\n",
       "#T_9b757_row3_col4 {\n",
       "  background-color: #81badb;\n",
       "  color: #000000;\n",
       "}\n",
       "#T_9b757_row3_col5 {\n",
       "  background-color: #d5e5f4;\n",
       "  color: #000000;\n",
       "}\n",
       "#T_9b757_row3_col6 {\n",
       "  background-color: #e1edf8;\n",
       "  color: #000000;\n",
       "}\n",
       "#T_9b757_row3_col7 {\n",
       "  background-color: #b9d6ea;\n",
       "  color: #000000;\n",
       "}\n",
       "#T_9b757_row4_col0 {\n",
       "  background-color: #e4eff9;\n",
       "  color: #000000;\n",
       "}\n",
       "#T_9b757_row4_col5, #T_9b757_row6_col2 {\n",
       "  background-color: #f1f7fd;\n",
       "  color: #000000;\n",
       "}\n",
       "#T_9b757_row4_col6, #T_9b757_row5_col4 {\n",
       "  background-color: #f0f6fd;\n",
       "  color: #000000;\n",
       "}\n",
       "#T_9b757_row4_col7, #T_9b757_row5_col0 {\n",
       "  background-color: #e7f0fa;\n",
       "  color: #000000;\n",
       "}\n",
       "#T_9b757_row5_col1 {\n",
       "  background-color: #e3eef9;\n",
       "  color: #000000;\n",
       "}\n",
       "#T_9b757_row5_col2 {\n",
       "  background-color: #ebf3fb;\n",
       "  color: #000000;\n",
       "}\n",
       "#T_9b757_row5_col6 {\n",
       "  background-color: #95c5df;\n",
       "  color: #000000;\n",
       "}\n",
       "#T_9b757_row5_col7 {\n",
       "  background-color: #8cc0dd;\n",
       "  color: #000000;\n",
       "}\n",
       "#T_9b757_row6_col0 {\n",
       "  background-color: #eaf3fb;\n",
       "  color: #000000;\n",
       "}\n",
       "#T_9b757_row6_col3 {\n",
       "  background-color: #f4f9fe;\n",
       "  color: #000000;\n",
       "}\n",
       "#T_9b757_row6_col4 {\n",
       "  background-color: #f5f9fe;\n",
       "  color: #000000;\n",
       "}\n",
       "#T_9b757_row6_col5 {\n",
       "  background-color: #9ac8e0;\n",
       "  color: #000000;\n",
       "}\n",
       "#T_9b757_row7_col1 {\n",
       "  background-color: #eef5fc;\n",
       "  color: #000000;\n",
       "}\n",
       "#T_9b757_row7_col5 {\n",
       "  background-color: #a1cbe2;\n",
       "  color: #000000;\n",
       "}\n",
       "#T_9b757_row7_col6 {\n",
       "  background-color: #87bddc;\n",
       "  color: #000000;\n",
       "}\n",
       "</style>\n",
       "<table id=\"T_9b757\">\n",
       "  <thead>\n",
       "    <tr>\n",
       "      <th class=\"blank level0\" >&nbsp;</th>\n",
       "      <th id=\"T_9b757_level0_col0\" class=\"col_heading level0 col0\" >q1</th>\n",
       "      <th id=\"T_9b757_level0_col1\" class=\"col_heading level0 col1\" >q2</th>\n",
       "      <th id=\"T_9b757_level0_col2\" class=\"col_heading level0 col2\" >q3</th>\n",
       "      <th id=\"T_9b757_level0_col3\" class=\"col_heading level0 col3\" >q4</th>\n",
       "      <th id=\"T_9b757_level0_col4\" class=\"col_heading level0 col4\" >q5</th>\n",
       "      <th id=\"T_9b757_level0_col5\" class=\"col_heading level0 col5\" >q6</th>\n",
       "      <th id=\"T_9b757_level0_col6\" class=\"col_heading level0 col6\" >q7</th>\n",
       "      <th id=\"T_9b757_level0_col7\" class=\"col_heading level0 col7\" >q8</th>\n",
       "    </tr>\n",
       "  </thead>\n",
       "  <tbody>\n",
       "    <tr>\n",
       "      <th id=\"T_9b757_level0_row0\" class=\"row_heading level0 row0\" >q1</th>\n",
       "      <td id=\"T_9b757_row0_col0\" class=\"data row0 col0\" >1.000000</td>\n",
       "      <td id=\"T_9b757_row0_col1\" class=\"data row0 col1\" >0.503568</td>\n",
       "      <td id=\"T_9b757_row0_col2\" class=\"data row0 col2\" >0.434025</td>\n",
       "      <td id=\"T_9b757_row0_col3\" class=\"data row0 col3\" >0.209179</td>\n",
       "      <td id=\"T_9b757_row0_col4\" class=\"data row0 col4\" >0.155458</td>\n",
       "      <td id=\"T_9b757_row0_col5\" class=\"data row0 col5\" >0.147776</td>\n",
       "      <td id=\"T_9b757_row0_col6\" class=\"data row0 col6\" >0.126557</td>\n",
       "      <td id=\"T_9b757_row0_col7\" class=\"data row0 col7\" >0.067692</td>\n",
       "    </tr>\n",
       "    <tr>\n",
       "      <th id=\"T_9b757_level0_row1\" class=\"row_heading level0 row1\" >q2</th>\n",
       "      <td id=\"T_9b757_row1_col0\" class=\"data row1 col0\" >0.503568</td>\n",
       "      <td id=\"T_9b757_row1_col1\" class=\"data row1 col1\" >1.000000</td>\n",
       "      <td id=\"T_9b757_row1_col2\" class=\"data row1 col2\" >0.484081</td>\n",
       "      <td id=\"T_9b757_row1_col3\" class=\"data row1 col3\" >0.411058</td>\n",
       "      <td id=\"T_9b757_row1_col4\" class=\"data row1 col4\" >0.377022</td>\n",
       "      <td id=\"T_9b757_row1_col5\" class=\"data row1 col5\" >0.255870</td>\n",
       "      <td id=\"T_9b757_row1_col6\" class=\"data row1 col6\" >0.173565</td>\n",
       "      <td id=\"T_9b757_row1_col7\" class=\"data row1 col7\" >0.214375</td>\n",
       "    </tr>\n",
       "    <tr>\n",
       "      <th id=\"T_9b757_level0_row2\" class=\"row_heading level0 row2\" >q3</th>\n",
       "      <td id=\"T_9b757_row2_col0\" class=\"data row2 col0\" >0.434025</td>\n",
       "      <td id=\"T_9b757_row2_col1\" class=\"data row2 col1\" >0.484081</td>\n",
       "      <td id=\"T_9b757_row2_col2\" class=\"data row2 col2\" >1.000000</td>\n",
       "      <td id=\"T_9b757_row2_col3\" class=\"data row2 col3\" >0.338021</td>\n",
       "      <td id=\"T_9b757_row2_col4\" class=\"data row2 col4\" >0.257888</td>\n",
       "      <td id=\"T_9b757_row2_col5\" class=\"data row2 col5\" >0.304170</td>\n",
       "      <td id=\"T_9b757_row2_col6\" class=\"data row2 col6\" >0.283716</td>\n",
       "      <td id=\"T_9b757_row2_col7\" class=\"data row2 col7\" >0.297416</td>\n",
       "    </tr>\n",
       "    <tr>\n",
       "      <th id=\"T_9b757_level0_row3\" class=\"row_heading level0 row3\" >q4</th>\n",
       "      <td id=\"T_9b757_row3_col0\" class=\"data row3 col0\" >0.209179</td>\n",
       "      <td id=\"T_9b757_row3_col1\" class=\"data row3 col1\" >0.411058</td>\n",
       "      <td id=\"T_9b757_row3_col2\" class=\"data row3 col2\" >0.338021</td>\n",
       "      <td id=\"T_9b757_row3_col3\" class=\"data row3 col3\" >1.000000</td>\n",
       "      <td id=\"T_9b757_row3_col4\" class=\"data row3 col4\" >0.526983</td>\n",
       "      <td id=\"T_9b757_row3_col5\" class=\"data row3 col5\" >0.295219</td>\n",
       "      <td id=\"T_9b757_row3_col6\" class=\"data row3 col6\" >0.224520</td>\n",
       "      <td id=\"T_9b757_row3_col7\" class=\"data row3 col7\" >0.338423</td>\n",
       "    </tr>\n",
       "    <tr>\n",
       "      <th id=\"T_9b757_level0_row4\" class=\"row_heading level0 row4\" >q5</th>\n",
       "      <td id=\"T_9b757_row4_col0\" class=\"data row4 col0\" >0.155458</td>\n",
       "      <td id=\"T_9b757_row4_col1\" class=\"data row4 col1\" >0.377022</td>\n",
       "      <td id=\"T_9b757_row4_col2\" class=\"data row4 col2\" >0.257888</td>\n",
       "      <td id=\"T_9b757_row4_col3\" class=\"data row4 col3\" >0.526983</td>\n",
       "      <td id=\"T_9b757_row4_col4\" class=\"data row4 col4\" >1.000000</td>\n",
       "      <td id=\"T_9b757_row4_col5\" class=\"data row4 col5\" >0.175729</td>\n",
       "      <td id=\"T_9b757_row4_col6\" class=\"data row4 col6\" >0.158038</td>\n",
       "      <td id=\"T_9b757_row4_col7\" class=\"data row4 col7\" >0.145497</td>\n",
       "    </tr>\n",
       "    <tr>\n",
       "      <th id=\"T_9b757_level0_row5\" class=\"row_heading level0 row5\" >q6</th>\n",
       "      <td id=\"T_9b757_row5_col0\" class=\"data row5 col0\" >0.147776</td>\n",
       "      <td id=\"T_9b757_row5_col1\" class=\"data row5 col1\" >0.255870</td>\n",
       "      <td id=\"T_9b757_row5_col2\" class=\"data row5 col2\" >0.304170</td>\n",
       "      <td id=\"T_9b757_row5_col3\" class=\"data row5 col3\" >0.295219</td>\n",
       "      <td id=\"T_9b757_row5_col4\" class=\"data row5 col4\" >0.175729</td>\n",
       "      <td id=\"T_9b757_row5_col5\" class=\"data row5 col5\" >1.000000</td>\n",
       "      <td id=\"T_9b757_row5_col6\" class=\"data row5 col6\" >0.474304</td>\n",
       "      <td id=\"T_9b757_row5_col7\" class=\"data row5 col7\" >0.457530</td>\n",
       "    </tr>\n",
       "    <tr>\n",
       "      <th id=\"T_9b757_level0_row6\" class=\"row_heading level0 row6\" >q7</th>\n",
       "      <td id=\"T_9b757_row6_col0\" class=\"data row6 col0\" >0.126557</td>\n",
       "      <td id=\"T_9b757_row6_col1\" class=\"data row6 col1\" >0.173565</td>\n",
       "      <td id=\"T_9b757_row6_col2\" class=\"data row6 col2\" >0.283716</td>\n",
       "      <td id=\"T_9b757_row6_col3\" class=\"data row6 col3\" >0.224520</td>\n",
       "      <td id=\"T_9b757_row6_col4\" class=\"data row6 col4\" >0.158038</td>\n",
       "      <td id=\"T_9b757_row6_col5\" class=\"data row6 col5\" >0.474304</td>\n",
       "      <td id=\"T_9b757_row6_col6\" class=\"data row6 col6\" >1.000000</td>\n",
       "      <td id=\"T_9b757_row6_col7\" class=\"data row6 col7\" >0.503823</td>\n",
       "    </tr>\n",
       "    <tr>\n",
       "      <th id=\"T_9b757_level0_row7\" class=\"row_heading level0 row7\" >q8</th>\n",
       "      <td id=\"T_9b757_row7_col0\" class=\"data row7 col0\" >0.067692</td>\n",
       "      <td id=\"T_9b757_row7_col1\" class=\"data row7 col1\" >0.214375</td>\n",
       "      <td id=\"T_9b757_row7_col2\" class=\"data row7 col2\" >0.297416</td>\n",
       "      <td id=\"T_9b757_row7_col3\" class=\"data row7 col3\" >0.338423</td>\n",
       "      <td id=\"T_9b757_row7_col4\" class=\"data row7 col4\" >0.145497</td>\n",
       "      <td id=\"T_9b757_row7_col5\" class=\"data row7 col5\" >0.457530</td>\n",
       "      <td id=\"T_9b757_row7_col6\" class=\"data row7 col6\" >0.503823</td>\n",
       "      <td id=\"T_9b757_row7_col7\" class=\"data row7 col7\" >1.000000</td>\n",
       "    </tr>\n",
       "  </tbody>\n",
       "</table>\n"
      ],
      "text/plain": [
       "<pandas.io.formats.style.Styler at 0x7ff93814bf10>"
      ]
     },
     "execution_count": 10,
     "metadata": {},
     "output_type": "execute_result"
    }
   ],
   "source": [
    "df_transformed.corr().style.background_gradient(cmap=\"Blues\")"
   ]
  },
  {
   "cell_type": "code",
   "execution_count": 11,
   "metadata": {},
   "outputs": [
    {
     "data": {
      "text/plain": [
       "0.7660312853938587"
      ]
     },
     "execution_count": 11,
     "metadata": {},
     "output_type": "execute_result"
    }
   ],
   "source": [
    "from factor_analyzer import calculate_kmo\n",
    "kmo_all,kmo_model=calculate_kmo(df_transformed)\n",
    "kmo_model"
   ]
  },
  {
   "cell_type": "markdown",
   "metadata": {},
   "source": [
    "The KMO value is between 0.70 and 0.79. Its a middling value so the data is suitable for factor analysis. "
   ]
  },
  {
   "cell_type": "markdown",
   "metadata": {},
   "source": [
    "#### 6. Conduct Exploratory Factor Analysis\n"
   ]
  },
  {
   "cell_type": "code",
   "execution_count": 12,
   "metadata": {},
   "outputs": [
    {
     "data": {
      "text/plain": [
       "8"
      ]
     },
     "execution_count": 12,
     "metadata": {},
     "output_type": "execute_result"
    }
   ],
   "source": [
    "#How many items are there in the survey ?\n",
    "no_of_items = df_transformed.shape[1] # we have 8 questions = number of columns = the second parameter of df.shape\n",
    "no_of_items"
   ]
  },
  {
   "cell_type": "code",
   "execution_count": 14,
   "metadata": {},
   "outputs": [
    {
     "name": "stderr",
     "output_type": "stream",
     "text": [
      "/Users/bill/opt/anaconda3/lib/python3.9/site-packages/sklearn/utils/extmath.py:368: FutureWarning: If 'random_state' is not supplied, the current default is to use 0 as a fixed seed. This will change to  None in version 1.2 leading to non-deterministic results that better reflect nature of the randomized_svd solver. If you want to silence this warning, set 'random_state' to an integer seed or to None explicitly depending if you want your code to be deterministic or not.\n",
      "  warnings.warn(\n"
     ]
    },
    {
     "data": {
      "text/plain": [
       "FactorAnalyzer(method='principal', n_factors=8, rotation_kwargs={})"
      ]
     },
     "execution_count": 14,
     "metadata": {},
     "output_type": "execute_result"
    }
   ],
   "source": [
    "from factor_analyzer import FactorAnalyzer\n",
    "fa = FactorAnalyzer(n_factors=no_of_items, method='principal') # set number of factors to the number of items and method ='principal'\n",
    "fa.fit(df_transformed)"
   ]
  },
  {
   "cell_type": "markdown",
   "metadata": {},
   "source": [
    "Initially, the number of factors are set to the number of survey items in the dataset. So, in our case that will be `no_of_items = 8`. However, all the factors do not provide useful information about the common variance shared by the different survey items. Therefore, we will use the criteria disscussed in the lecutre to choose the optimal number of factors. \n",
    "\n",
    "- 1. Retain all the factors that are above the eigen value of 1\n",
    "- 2. Use the scree plot to determine the point of inflexion and the optimal number of factors. "
   ]
  },
  {
   "cell_type": "markdown",
   "metadata": {},
   "source": [
    "#### 7. Print the EigenValues for all the Factors. \n",
    "\n",
    "Go to the following documentation of the factor_analyzer package: https://factor-analyzer.readthedocs.io/en/latest/genindex.html . Find the function `get_eigenvalues()` and study its documentation. Apply the `get_eigenvalues()` function to print the eigen values of all the factors. "
   ]
  },
  {
   "cell_type": "code",
   "execution_count": 15,
   "metadata": {},
   "outputs": [
    {
     "data": {
      "text/plain": [
       "array([3.11314471, 1.40193139, 1.03747296, 0.56655641, 0.53834305,\n",
       "       0.51209197, 0.44468797, 0.38577155])"
      ]
     },
     "execution_count": 15,
     "metadata": {},
     "output_type": "execute_result"
    }
   ],
   "source": [
    "ev, v = fa.get_eigenvalues()\n",
    "ev"
   ]
  },
  {
   "cell_type": "markdown",
   "metadata": {},
   "source": [
    "#### 8. Make a scree plot using matplotlib\n",
    "The x-axis should plot the number of factors. The y-axis should contain the corresponding eigen values. There should be a line connecting the points as illustrated in the lecture slides."
   ]
  },
  {
   "cell_type": "code",
   "execution_count": 16,
   "metadata": {},
   "outputs": [],
   "source": [
    "import matplotlib.pyplot as plt\n",
    "\n",
    "# x-axis should print the number of factors (= no. of items so from 1 to 8)\n",
    "#Use the range function to get numbers from 1 to 8. Check documentation of range() here: https://www.w3schools.com/python/ref_func_range.asp\n",
    "x_axis = range(1,no_of_items+1,1)  #range(start, stop, step) # start =1 , stop = 9 (because we have 8 items)\n",
    "\n",
    "# y-axis should contain the eigen values\n",
    "y_axis = ev"
   ]
  },
  {
   "cell_type": "code",
   "execution_count": 17,
   "metadata": {},
   "outputs": [
    {
     "data": {
      "image/png": "[encoded data removed]",
      "text/plain": [
       "<Figure size 640x480 with 1 Axes>"
      ]
     },
     "metadata": {},
     "output_type": "display_data"
    }
   ],
   "source": [
    "#Documentation: https://matplotlib.org/3.5.1/plot_types/index.html\n",
    "        \n",
    "#First make a scatter plot (just plot the points without the line)\n",
    "plt.scatter(x_axis,y_axis)\n",
    "\n",
    "#Then make a line plot connecting these points\n",
    "plt.plot(x_axis,y_axis)\n",
    "\n",
    "#Add a plot title\n",
    "plt.title('Scree Plot')\n",
    "\n",
    "# Add the lable for x-axis\n",
    "plt.xlabel('Factors')\n",
    "\n",
    "# Add the lable for y-axis\n",
    "plt.ylabel('Eigenvalue')\n",
    "\n",
    "#Add the grid lines (optional)\n",
    "plt.grid()\n",
    "\n",
    "#Show the plot\n",
    "plt.show()"
   ]
  },
  {
   "cell_type": "markdown",
   "metadata": {},
   "source": [
    "#### 9. How many factors will you choose depending on the eigen values and your interpretation of the scree plot?"
   ]
  },
  {
   "cell_type": "markdown",
   "metadata": {},
   "source": [
    "Solution: The factors corresponding to the first 3 eigen values : 3.11314471, 1.40193139, 1.03747296 will be retained. So we will choose 3 factors. "
   ]
  },
  {
   "cell_type": "markdown",
   "metadata": {},
   "source": [
    "#### 10. Fit the Factor Analysis on the retained factors\n",
    "\n",
    "Now lets fit the factor analysis model again on the number of retained factors to compute the factor loadings for each of the 8 survey items\n",
    "\n",
    "Use the `FactorAnalyzer()` module and `fit()` function again to apply the new factor analysis model with the number of retained factors"
   ]
  },
  {
   "cell_type": "code",
   "execution_count": 18,
   "metadata": {},
   "outputs": [
    {
     "name": "stderr",
     "output_type": "stream",
     "text": [
      "/Users/bill/opt/anaconda3/lib/python3.9/site-packages/sklearn/utils/extmath.py:368: FutureWarning: If 'random_state' is not supplied, the current default is to use 0 as a fixed seed. This will change to  None in version 1.2 leading to non-deterministic results that better reflect nature of the randomized_svd solver. If you want to silence this warning, set 'random_state' to an integer seed or to None explicitly depending if you want your code to be deterministic or not.\n",
      "  warnings.warn(\n"
     ]
    },
    {
     "data": {
      "text/plain": [
       "FactorAnalyzer(method='principal', rotation='varimax', rotation_kwargs={})"
      ]
     },
     "execution_count": 18,
     "metadata": {},
     "output_type": "execute_result"
    }
   ],
   "source": [
    "# Put the n_factors equal to the number of factors retained\n",
    "# set rotation = 'varimax' which is a type of orthogonal rotation\n",
    "# set method = 'principal' for principal factor extraction method of exploratory factor analysis\n",
    "no_of_retained_factors = 3\n",
    "fa = FactorAnalyzer(n_factors = no_of_retained_factors , method='principal', rotation ='varimax') #default rotation is set to promax (oblique rotation)\n",
    "fa.fit(df_transformed) "
   ]
  },
  {
   "cell_type": "markdown",
   "metadata": {},
   "source": [
    "#### 11. Print the factor loadings matrix. \n",
    "Use `fa.loadings_` to print the factor loadings matrix"
   ]
  },
  {
   "cell_type": "code",
   "execution_count": 19,
   "metadata": {},
   "outputs": [
    {
     "data": {
      "text/plain": [
       "array([[-0.00267823,  0.87722797, -0.00215512],\n",
       "       [ 0.10867475,  0.72819156,  0.38797627],\n",
       "       [ 0.31329976,  0.69996971,  0.17232898],\n",
       "       [ 0.25423557,  0.19196361,  0.79433433],\n",
       "       [ 0.03995455,  0.12465197,  0.87866445],\n",
       "       [ 0.7532901 ,  0.16398369,  0.12234666],\n",
       "       [ 0.81150932,  0.10234835,  0.03969787],\n",
       "       [ 0.80139042,  0.04877754,  0.16263394]])"
      ]
     },
     "execution_count": 19,
     "metadata": {},
     "output_type": "execute_result"
    }
   ],
   "source": [
    "fa.loadings_"
   ]
  },
  {
   "cell_type": "markdown",
   "metadata": {},
   "source": [
    "#### 12. Create a pandas DataFrame named, `df_loadings` from the Factor loading matrix. \n",
    "If you have retained m factors then the names of the columns of the DataFrame should be: Factor 0, Factor 1, ........ Factor m-1. So if m=3 then your column names are: Factor 0, Factor 1 and Factor 2"
   ]
  },
  {
   "cell_type": "code",
   "execution_count": 20,
   "metadata": {},
   "outputs": [
    {
     "data": {
      "text/html": [
       "<div>\n",
       "<style scoped>\n",
       "    .dataframe tbody tr th:only-of-type {\n",
       "        vertical-align: middle;\n",
       "    }\n",
       "\n",
       "    .dataframe tbody tr th {\n",
       "        vertical-align: top;\n",
       "    }\n",
       "\n",
       "    .dataframe thead th {\n",
       "        text-align: right;\n",
       "    }\n",
       "</style>\n",
       "<table border=\"1\" class=\"dataframe\">\n",
       "  <thead>\n",
       "    <tr style=\"text-align: right;\">\n",
       "      <th></th>\n",
       "      <th>Factor 0</th>\n",
       "      <th>Factor 1</th>\n",
       "      <th>Factor 2</th>\n",
       "    </tr>\n",
       "  </thead>\n",
       "  <tbody>\n",
       "    <tr>\n",
       "      <th>q1</th>\n",
       "      <td>-0.002678</td>\n",
       "      <td>0.877228</td>\n",
       "      <td>-0.002155</td>\n",
       "    </tr>\n",
       "    <tr>\n",
       "      <th>q2</th>\n",
       "      <td>0.108675</td>\n",
       "      <td>0.728192</td>\n",
       "      <td>0.387976</td>\n",
       "    </tr>\n",
       "    <tr>\n",
       "      <th>q3</th>\n",
       "      <td>0.313300</td>\n",
       "      <td>0.699970</td>\n",
       "      <td>0.172329</td>\n",
       "    </tr>\n",
       "    <tr>\n",
       "      <th>q4</th>\n",
       "      <td>0.254236</td>\n",
       "      <td>0.191964</td>\n",
       "      <td>0.794334</td>\n",
       "    </tr>\n",
       "    <tr>\n",
       "      <th>q5</th>\n",
       "      <td>0.039955</td>\n",
       "      <td>0.124652</td>\n",
       "      <td>0.878664</td>\n",
       "    </tr>\n",
       "    <tr>\n",
       "      <th>q6</th>\n",
       "      <td>0.753290</td>\n",
       "      <td>0.163984</td>\n",
       "      <td>0.122347</td>\n",
       "    </tr>\n",
       "    <tr>\n",
       "      <th>q7</th>\n",
       "      <td>0.811509</td>\n",
       "      <td>0.102348</td>\n",
       "      <td>0.039698</td>\n",
       "    </tr>\n",
       "    <tr>\n",
       "      <th>q8</th>\n",
       "      <td>0.801390</td>\n",
       "      <td>0.048778</td>\n",
       "      <td>0.162634</td>\n",
       "    </tr>\n",
       "  </tbody>\n",
       "</table>\n",
       "</div>"
      ],
      "text/plain": [
       "    Factor 0  Factor 1  Factor 2\n",
       "q1 -0.002678  0.877228 -0.002155\n",
       "q2  0.108675  0.728192  0.387976\n",
       "q3  0.313300  0.699970  0.172329\n",
       "q4  0.254236  0.191964  0.794334\n",
       "q5  0.039955  0.124652  0.878664\n",
       "q6  0.753290  0.163984  0.122347\n",
       "q7  0.811509  0.102348  0.039698\n",
       "q8  0.801390  0.048778  0.162634"
      ]
     },
     "execution_count": 20,
     "metadata": {},
     "output_type": "execute_result"
    }
   ],
   "source": [
    "#Use the following syntax to create a DataFrame from an array. Put the correct values for the array_name, index and columns\n",
    "# df_loadings = pd.DataFrame(array_name, index = put correct value here , columns = put correct value here ) \n",
    "\n",
    "df_loadings = pd.DataFrame(fa.loadings_,index=df_transformed.columns, columns =['Factor 0','Factor 1','Factor 2'])\n",
    "df_loadings"
   ]
  },
  {
   "cell_type": "markdown",
   "metadata": {},
   "source": [
    "#### 13.Interpret the factor loadings \n",
    "1. Mention the most representative Factors (out of the retained Factors) for each survey item/question. Consider a threshold of above + 0.60 and below -0.60 for choosing the factor loadings.\n",
    "\n",
    "2. Mention the most representative survey items which load onto each of the retained Factors. \n"
   ]
  },
  {
   "cell_type": "markdown",
   "metadata": {},
   "source": [
    "Factor 0 has highest loadings for Q6, Q7, Q8\n",
    "\n",
    "Factor 1 has highest loadings for Q1, Q2, Q3\n",
    "\n",
    "Factor 2 has the highest loadings for Q4 and Q5"
   ]
  },
  {
   "cell_type": "markdown",
   "metadata": {},
   "source": [
    "#### 14. Communalities\n",
    "Print the communalities for each of the survey items/questions.\n",
    "\n",
    "Go to the following documentation of the factor_analyzer package: https://factor-analyzer.readthedocs.io/en/latest/genindex.html . Find the function `get_communalities()` and study its documentation. Apply the `get_communalities()` function to print the communalities."
   ]
  },
  {
   "cell_type": "code",
   "execution_count": 19,
   "metadata": {},
   "outputs": [
    {
     "data": {
      "text/plain": [
       "array([0.76954073, 0.69259874, 0.61781162, 0.73245279, 0.7891857 ,\n",
       "       0.60930534, 0.67059848, 0.67105566])"
      ]
     },
     "execution_count": 19,
     "metadata": {},
     "output_type": "execute_result"
    }
   ],
   "source": [
    "fa.get_communalities()"
   ]
  },
  {
   "cell_type": "markdown",
   "metadata": {},
   "source": [
    "#### 15. Create a dataframe with one column and number of rows equal to the number of survey items to store the communalities for each survey item. "
   ]
  },
  {
   "cell_type": "code",
   "execution_count": 20,
   "metadata": {},
   "outputs": [
    {
     "data": {
      "text/html": [
       "<div>\n",
       "<style scoped>\n",
       "    .dataframe tbody tr th:only-of-type {\n",
       "        vertical-align: middle;\n",
       "    }\n",
       "\n",
       "    .dataframe tbody tr th {\n",
       "        vertical-align: top;\n",
       "    }\n",
       "\n",
       "    .dataframe thead th {\n",
       "        text-align: right;\n",
       "    }\n",
       "</style>\n",
       "<table border=\"1\" class=\"dataframe\">\n",
       "  <thead>\n",
       "    <tr style=\"text-align: right;\">\n",
       "      <th></th>\n",
       "      <th>Communalities</th>\n",
       "    </tr>\n",
       "  </thead>\n",
       "  <tbody>\n",
       "    <tr>\n",
       "      <th>q1</th>\n",
       "      <td>0.769541</td>\n",
       "    </tr>\n",
       "    <tr>\n",
       "      <th>q2</th>\n",
       "      <td>0.692599</td>\n",
       "    </tr>\n",
       "    <tr>\n",
       "      <th>q3</th>\n",
       "      <td>0.617812</td>\n",
       "    </tr>\n",
       "    <tr>\n",
       "      <th>q4</th>\n",
       "      <td>0.732453</td>\n",
       "    </tr>\n",
       "    <tr>\n",
       "      <th>q5</th>\n",
       "      <td>0.789186</td>\n",
       "    </tr>\n",
       "    <tr>\n",
       "      <th>q6</th>\n",
       "      <td>0.609305</td>\n",
       "    </tr>\n",
       "    <tr>\n",
       "      <th>q7</th>\n",
       "      <td>0.670598</td>\n",
       "    </tr>\n",
       "    <tr>\n",
       "      <th>q8</th>\n",
       "      <td>0.671056</td>\n",
       "    </tr>\n",
       "  </tbody>\n",
       "</table>\n",
       "</div>"
      ],
      "text/plain": [
       "    Communalities\n",
       "q1       0.769541\n",
       "q2       0.692599\n",
       "q3       0.617812\n",
       "q4       0.732453\n",
       "q5       0.789186\n",
       "q6       0.609305\n",
       "q7       0.670598\n",
       "q8       0.671056"
      ]
     },
     "execution_count": 20,
     "metadata": {},
     "output_type": "execute_result"
    }
   ],
   "source": [
    "df_communalitites = pd.DataFrame(fa.get_communalities(),index=df_transformed.columns, columns =['Communalities'])\n",
    "df_communalitites"
   ]
  },
  {
   "cell_type": "markdown",
   "metadata": {},
   "source": [
    "#### 16. Verifying if the communalities are the sum of squared factor loadings for the variables?\n",
    "\n",
    "As mentioned in the lecture, communality can be defined as the sum of squared factor loadings for the variables. Use the `**` or `pow()` function to compute the sum of squared loadings for each survey item in the `df_loadings` dataframe. Store the values of the computed communalities in a column named `computed_communalities`. Verify that the values in the computed communalities column are similar to the ones in `df_communalities` column or not ?\n",
    "\n",
    "Learn how to use the `pow()` and `**` operator here: https://kodify.net/python/math/exponents/"
   ]
  },
  {
   "cell_type": "code",
   "execution_count": 21,
   "metadata": {},
   "outputs": [
    {
     "data": {
      "text/html": [
       "<div>\n",
       "<style scoped>\n",
       "    .dataframe tbody tr th:only-of-type {\n",
       "        vertical-align: middle;\n",
       "    }\n",
       "\n",
       "    .dataframe tbody tr th {\n",
       "        vertical-align: top;\n",
       "    }\n",
       "\n",
       "    .dataframe thead th {\n",
       "        text-align: right;\n",
       "    }\n",
       "</style>\n",
       "<table border=\"1\" class=\"dataframe\">\n",
       "  <thead>\n",
       "    <tr style=\"text-align: right;\">\n",
       "      <th></th>\n",
       "      <th>Factor 0</th>\n",
       "      <th>Factor 1</th>\n",
       "      <th>Factor 2</th>\n",
       "      <th>communalities</th>\n",
       "    </tr>\n",
       "  </thead>\n",
       "  <tbody>\n",
       "    <tr>\n",
       "      <th>q1</th>\n",
       "      <td>-0.002678</td>\n",
       "      <td>0.877228</td>\n",
       "      <td>-0.002155</td>\n",
       "      <td>0.769541</td>\n",
       "    </tr>\n",
       "    <tr>\n",
       "      <th>q2</th>\n",
       "      <td>0.108675</td>\n",
       "      <td>0.728192</td>\n",
       "      <td>0.387976</td>\n",
       "      <td>0.692599</td>\n",
       "    </tr>\n",
       "    <tr>\n",
       "      <th>q3</th>\n",
       "      <td>0.313300</td>\n",
       "      <td>0.699970</td>\n",
       "      <td>0.172329</td>\n",
       "      <td>0.617812</td>\n",
       "    </tr>\n",
       "    <tr>\n",
       "      <th>q4</th>\n",
       "      <td>0.254236</td>\n",
       "      <td>0.191964</td>\n",
       "      <td>0.794334</td>\n",
       "      <td>0.732453</td>\n",
       "    </tr>\n",
       "    <tr>\n",
       "      <th>q5</th>\n",
       "      <td>0.039955</td>\n",
       "      <td>0.124652</td>\n",
       "      <td>0.878664</td>\n",
       "      <td>0.789186</td>\n",
       "    </tr>\n",
       "    <tr>\n",
       "      <th>q6</th>\n",
       "      <td>0.753290</td>\n",
       "      <td>0.163984</td>\n",
       "      <td>0.122347</td>\n",
       "      <td>0.609305</td>\n",
       "    </tr>\n",
       "    <tr>\n",
       "      <th>q7</th>\n",
       "      <td>0.811509</td>\n",
       "      <td>0.102348</td>\n",
       "      <td>0.039698</td>\n",
       "      <td>0.670598</td>\n",
       "    </tr>\n",
       "    <tr>\n",
       "      <th>q8</th>\n",
       "      <td>0.801390</td>\n",
       "      <td>0.048778</td>\n",
       "      <td>0.162634</td>\n",
       "      <td>0.671056</td>\n",
       "    </tr>\n",
       "  </tbody>\n",
       "</table>\n",
       "</div>"
      ],
      "text/plain": [
       "    Factor 0  Factor 1  Factor 2  communalities\n",
       "q1 -0.002678  0.877228 -0.002155       0.769541\n",
       "q2  0.108675  0.728192  0.387976       0.692599\n",
       "q3  0.313300  0.699970  0.172329       0.617812\n",
       "q4  0.254236  0.191964  0.794334       0.732453\n",
       "q5  0.039955  0.124652  0.878664       0.789186\n",
       "q6  0.753290  0.163984  0.122347       0.609305\n",
       "q7  0.811509  0.102348  0.039698       0.670598\n",
       "q8  0.801390  0.048778  0.162634       0.671056"
      ]
     },
     "execution_count": 21,
     "metadata": {},
     "output_type": "execute_result"
    }
   ],
   "source": [
    "#Solution 1\n",
    "df_loadings['communalities'] = df_loadings['Factor 0']**2 + df_loadings['Factor 1']**2 + df_loadings['Factor 2']**2\n",
    "df_loadings"
   ]
  },
  {
   "cell_type": "code",
   "execution_count": 22,
   "metadata": {},
   "outputs": [
    {
     "data": {
      "text/html": [
       "<div>\n",
       "<style scoped>\n",
       "    .dataframe tbody tr th:only-of-type {\n",
       "        vertical-align: middle;\n",
       "    }\n",
       "\n",
       "    .dataframe tbody tr th {\n",
       "        vertical-align: top;\n",
       "    }\n",
       "\n",
       "    .dataframe thead th {\n",
       "        text-align: right;\n",
       "    }\n",
       "</style>\n",
       "<table border=\"1\" class=\"dataframe\">\n",
       "  <thead>\n",
       "    <tr style=\"text-align: right;\">\n",
       "      <th></th>\n",
       "      <th>Factor 0</th>\n",
       "      <th>Factor 1</th>\n",
       "      <th>Factor 2</th>\n",
       "      <th>communalities</th>\n",
       "      <th>communalities_2</th>\n",
       "    </tr>\n",
       "  </thead>\n",
       "  <tbody>\n",
       "    <tr>\n",
       "      <th>q1</th>\n",
       "      <td>-0.002678</td>\n",
       "      <td>0.877228</td>\n",
       "      <td>-0.002155</td>\n",
       "      <td>0.769541</td>\n",
       "      <td>0.769541</td>\n",
       "    </tr>\n",
       "    <tr>\n",
       "      <th>q2</th>\n",
       "      <td>0.108675</td>\n",
       "      <td>0.728192</td>\n",
       "      <td>0.387976</td>\n",
       "      <td>0.692599</td>\n",
       "      <td>0.692599</td>\n",
       "    </tr>\n",
       "    <tr>\n",
       "      <th>q3</th>\n",
       "      <td>0.313300</td>\n",
       "      <td>0.699970</td>\n",
       "      <td>0.172329</td>\n",
       "      <td>0.617812</td>\n",
       "      <td>0.617812</td>\n",
       "    </tr>\n",
       "    <tr>\n",
       "      <th>q4</th>\n",
       "      <td>0.254236</td>\n",
       "      <td>0.191964</td>\n",
       "      <td>0.794334</td>\n",
       "      <td>0.732453</td>\n",
       "      <td>0.732453</td>\n",
       "    </tr>\n",
       "    <tr>\n",
       "      <th>q5</th>\n",
       "      <td>0.039955</td>\n",
       "      <td>0.124652</td>\n",
       "      <td>0.878664</td>\n",
       "      <td>0.789186</td>\n",
       "      <td>0.789186</td>\n",
       "    </tr>\n",
       "    <tr>\n",
       "      <th>q6</th>\n",
       "      <td>0.753290</td>\n",
       "      <td>0.163984</td>\n",
       "      <td>0.122347</td>\n",
       "      <td>0.609305</td>\n",
       "      <td>0.609305</td>\n",
       "    </tr>\n",
       "    <tr>\n",
       "      <th>q7</th>\n",
       "      <td>0.811509</td>\n",
       "      <td>0.102348</td>\n",
       "      <td>0.039698</td>\n",
       "      <td>0.670598</td>\n",
       "      <td>0.670598</td>\n",
       "    </tr>\n",
       "    <tr>\n",
       "      <th>q8</th>\n",
       "      <td>0.801390</td>\n",
       "      <td>0.048778</td>\n",
       "      <td>0.162634</td>\n",
       "      <td>0.671056</td>\n",
       "      <td>0.671056</td>\n",
       "    </tr>\n",
       "  </tbody>\n",
       "</table>\n",
       "</div>"
      ],
      "text/plain": [
       "    Factor 0  Factor 1  Factor 2  communalities  communalities_2\n",
       "q1 -0.002678  0.877228 -0.002155       0.769541         0.769541\n",
       "q2  0.108675  0.728192  0.387976       0.692599         0.692599\n",
       "q3  0.313300  0.699970  0.172329       0.617812         0.617812\n",
       "q4  0.254236  0.191964  0.794334       0.732453         0.732453\n",
       "q5  0.039955  0.124652  0.878664       0.789186         0.789186\n",
       "q6  0.753290  0.163984  0.122347       0.609305         0.609305\n",
       "q7  0.811509  0.102348  0.039698       0.670598         0.670598\n",
       "q8  0.801390  0.048778  0.162634       0.671056         0.671056"
      ]
     },
     "execution_count": 22,
     "metadata": {},
     "output_type": "execute_result"
    }
   ],
   "source": [
    "#Solution 2\n",
    "df_loadings['communalities_2'] = df_loadings['Factor 0'].pow(2) + df_loadings['Factor 1'].pow(2) + df_loadings['Factor 2'].pow(2)\n",
    "df_loadings"
   ]
  },
  {
   "cell_type": "code",
   "execution_count": 23,
   "metadata": {},
   "outputs": [],
   "source": [
    "#Both solutions above are correct. Students can do any one. You can also demonstrate either solution to the students if they struggle."
   ]
  },
  {
   "cell_type": "markdown",
   "metadata": {},
   "source": [
    "#### 17. Variance in Factors\n",
    "Use the `get_factor_variance()` function to calculate the factor variance information, including variance, proportional variance and cumulative variance for each factor. Refer to the documentation here: https://factor-analyzer.readthedocs.io/en/latest/genindex.html and find out how to use the `get_factor_variance()`\n"
   ]
  },
  {
   "cell_type": "code",
   "execution_count": 24,
   "metadata": {},
   "outputs": [
    {
     "data": {
      "text/plain": [
       "(array([2.04442617, 1.88188269, 1.62624019]),\n",
       " array([0.25555327, 0.23523534, 0.20328002]),\n",
       " array([0.25555327, 0.49078861, 0.69406863]))"
      ]
     },
     "execution_count": 24,
     "metadata": {},
     "output_type": "execute_result"
    }
   ],
   "source": [
    "fa.get_factor_variance()"
   ]
  },
  {
   "cell_type": "markdown",
   "metadata": {},
   "source": [
    "Convert the above numpy array to a DataFrame, `df_variance` for a better representation of factor variances. Pay attention to the index names and column names."
   ]
  },
  {
   "cell_type": "code",
   "execution_count": 25,
   "metadata": {},
   "outputs": [
    {
     "data": {
      "text/html": [
       "<div>\n",
       "<style scoped>\n",
       "    .dataframe tbody tr th:only-of-type {\n",
       "        vertical-align: middle;\n",
       "    }\n",
       "\n",
       "    .dataframe tbody tr th {\n",
       "        vertical-align: top;\n",
       "    }\n",
       "\n",
       "    .dataframe thead th {\n",
       "        text-align: right;\n",
       "    }\n",
       "</style>\n",
       "<table border=\"1\" class=\"dataframe\">\n",
       "  <thead>\n",
       "    <tr style=\"text-align: right;\">\n",
       "      <th></th>\n",
       "      <th>Factor 0</th>\n",
       "      <th>Factor 1</th>\n",
       "      <th>Factor 2</th>\n",
       "    </tr>\n",
       "  </thead>\n",
       "  <tbody>\n",
       "    <tr>\n",
       "      <th>Variance</th>\n",
       "      <td>2.044426</td>\n",
       "      <td>1.881883</td>\n",
       "      <td>1.626240</td>\n",
       "    </tr>\n",
       "    <tr>\n",
       "      <th>Proportional Variance</th>\n",
       "      <td>0.255553</td>\n",
       "      <td>0.235235</td>\n",
       "      <td>0.203280</td>\n",
       "    </tr>\n",
       "    <tr>\n",
       "      <th>Cumulative Variance</th>\n",
       "      <td>0.255553</td>\n",
       "      <td>0.490789</td>\n",
       "      <td>0.694069</td>\n",
       "    </tr>\n",
       "  </tbody>\n",
       "</table>\n",
       "</div>"
      ],
      "text/plain": [
       "                       Factor 0  Factor 1  Factor 2\n",
       "Variance               2.044426  1.881883  1.626240\n",
       "Proportional Variance  0.255553  0.235235  0.203280\n",
       "Cumulative Variance    0.255553  0.490789  0.694069"
      ]
     },
     "execution_count": 25,
     "metadata": {},
     "output_type": "execute_result"
    }
   ],
   "source": [
    "#Use the following syntax to create a DataFrame from an array. Put the correct values for the array_name, index and columns\n",
    "#df_variance = pd.DataFrame(array_name, index = put correct value here , columns = put correct value here )\n",
    "df_variance = pd.DataFrame(fa.get_factor_variance(),index=['Variance','Proportional Variance','Cumulative Variance'], columns = ['Factor 0','Factor 1','Factor 2'])\n",
    "df_variance"
   ]
  },
  {
   "cell_type": "code",
   "execution_count": 26,
   "metadata": {},
   "outputs": [
    {
     "data": {
      "text/html": [
       "<div>\n",
       "<style scoped>\n",
       "    .dataframe tbody tr th:only-of-type {\n",
       "        vertical-align: middle;\n",
       "    }\n",
       "\n",
       "    .dataframe tbody tr th {\n",
       "        vertical-align: top;\n",
       "    }\n",
       "\n",
       "    .dataframe thead th {\n",
       "        text-align: right;\n",
       "    }\n",
       "</style>\n",
       "<table border=\"1\" class=\"dataframe\">\n",
       "  <thead>\n",
       "    <tr style=\"text-align: right;\">\n",
       "      <th></th>\n",
       "      <th>Factor 0</th>\n",
       "      <th>Factor 1</th>\n",
       "      <th>Factor 2</th>\n",
       "      <th>communalities</th>\n",
       "      <th>communalities_2</th>\n",
       "    </tr>\n",
       "  </thead>\n",
       "  <tbody>\n",
       "    <tr>\n",
       "      <th>q1</th>\n",
       "      <td>-0.002678</td>\n",
       "      <td>0.877228</td>\n",
       "      <td>-0.002155</td>\n",
       "      <td>0.769541</td>\n",
       "      <td>0.769541</td>\n",
       "    </tr>\n",
       "    <tr>\n",
       "      <th>q2</th>\n",
       "      <td>0.108675</td>\n",
       "      <td>0.728192</td>\n",
       "      <td>0.387976</td>\n",
       "      <td>0.692599</td>\n",
       "      <td>0.692599</td>\n",
       "    </tr>\n",
       "    <tr>\n",
       "      <th>q3</th>\n",
       "      <td>0.313300</td>\n",
       "      <td>0.699970</td>\n",
       "      <td>0.172329</td>\n",
       "      <td>0.617812</td>\n",
       "      <td>0.617812</td>\n",
       "    </tr>\n",
       "    <tr>\n",
       "      <th>q4</th>\n",
       "      <td>0.254236</td>\n",
       "      <td>0.191964</td>\n",
       "      <td>0.794334</td>\n",
       "      <td>0.732453</td>\n",
       "      <td>0.732453</td>\n",
       "    </tr>\n",
       "    <tr>\n",
       "      <th>q5</th>\n",
       "      <td>0.039955</td>\n",
       "      <td>0.124652</td>\n",
       "      <td>0.878664</td>\n",
       "      <td>0.789186</td>\n",
       "      <td>0.789186</td>\n",
       "    </tr>\n",
       "    <tr>\n",
       "      <th>q6</th>\n",
       "      <td>0.753290</td>\n",
       "      <td>0.163984</td>\n",
       "      <td>0.122347</td>\n",
       "      <td>0.609305</td>\n",
       "      <td>0.609305</td>\n",
       "    </tr>\n",
       "    <tr>\n",
       "      <th>q7</th>\n",
       "      <td>0.811509</td>\n",
       "      <td>0.102348</td>\n",
       "      <td>0.039698</td>\n",
       "      <td>0.670598</td>\n",
       "      <td>0.670598</td>\n",
       "    </tr>\n",
       "    <tr>\n",
       "      <th>q8</th>\n",
       "      <td>0.801390</td>\n",
       "      <td>0.048778</td>\n",
       "      <td>0.162634</td>\n",
       "      <td>0.671056</td>\n",
       "      <td>0.671056</td>\n",
       "    </tr>\n",
       "  </tbody>\n",
       "</table>\n",
       "</div>"
      ],
      "text/plain": [
       "    Factor 0  Factor 1  Factor 2  communalities  communalities_2\n",
       "q1 -0.002678  0.877228 -0.002155       0.769541         0.769541\n",
       "q2  0.108675  0.728192  0.387976       0.692599         0.692599\n",
       "q3  0.313300  0.699970  0.172329       0.617812         0.617812\n",
       "q4  0.254236  0.191964  0.794334       0.732453         0.732453\n",
       "q5  0.039955  0.124652  0.878664       0.789186         0.789186\n",
       "q6  0.753290  0.163984  0.122347       0.609305         0.609305\n",
       "q7  0.811509  0.102348  0.039698       0.670598         0.670598\n",
       "q8  0.801390  0.048778  0.162634       0.671056         0.671056"
      ]
     },
     "execution_count": 26,
     "metadata": {},
     "output_type": "execute_result"
    }
   ],
   "source": [
    "df_loadings"
   ]
  },
  {
   "cell_type": "code",
   "execution_count": null,
   "metadata": {},
   "outputs": [],
   "source": []
  },
  {
   "cell_type": "markdown",
   "metadata": {},
   "source": [
    "#### 18. Representation of survey data in terms of Factors\n",
    "Create a new dataframe, `df_Factors` by applying the computed factors to the original `df_transformed` dataframe containing 150 observations. By doing so you reduce the `df_transformed` dataframe from 8 items to the number of factors. Use the `fit_transform()` function from the documentation: https://factor-analyzer.readthedocs.io/en/latest/genindex.html"
   ]
  },
  {
   "cell_type": "code",
   "execution_count": 27,
   "metadata": {},
   "outputs": [
    {
     "data": {
      "text/plain": [
       "array([[-1.56993540e+00,  4.53756922e-01, -8.72086684e-01],\n",
       "       [-4.73276616e-02,  1.83656869e-01, -5.82627263e-02],\n",
       "       [ 1.68762766e-01,  3.33000360e-01, -6.88305237e-02],\n",
       "       [-6.79135545e-01,  1.45746018e-01,  1.10469969e-01],\n",
       "       [ 3.37458265e-01,  1.10053159e+00, -1.97081973e+00],\n",
       "       [ 7.85855488e-01,  8.84674903e-01,  4.07081356e-01],\n",
       "       [ 8.42964684e-02,  5.45103512e-01,  6.90079769e-01],\n",
       "       [-9.66949859e-01, -8.42286842e-01, -2.62862166e+00],\n",
       "       [ 4.04048359e-02, -2.15556950e-01, -5.70318697e-01],\n",
       "       [ 8.76386634e-01,  4.07368782e-01,  5.79526339e-01],\n",
       "       [-1.39559710e-01, -6.74939588e-01,  6.29386884e-01],\n",
       "       [ 4.35337038e-01,  1.19212110e-01,  7.50576807e-01],\n",
       "       [-7.80019338e-02, -1.05298604e+00,  6.74851053e-01],\n",
       "       [-2.87001990e-01,  5.58607380e-01,  7.46864519e-01],\n",
       "       [ 1.32247555e+00,  2.96318811e-01, -1.04567301e+00],\n",
       "       [ 7.31209081e-01,  7.79934383e-01, -7.74507666e-01],\n",
       "       [-3.77533136e-01,  1.03591350e+00,  5.74419536e-01],\n",
       "       [ 8.76386634e-01,  4.07368782e-01,  5.79526339e-01],\n",
       "       [ 4.91726053e-01,  5.54325458e-01,  5.66616997e-02],\n",
       "       [-3.77658700e+00,  1.12244745e+00,  6.23711015e-01],\n",
       "       [ 7.14887519e-01,  1.04957013e+00, -1.89019921e+00],\n",
       "       [ 9.84307606e-02, -7.87844564e-02,  6.70603236e-01],\n",
       "       [-1.26247570e+00, -2.02903171e+00,  1.15212834e+00],\n",
       "       [ 4.32585705e-02,  9.11682639e-01,  5.20650857e-01],\n",
       "       [ 3.79006773e-01,  9.85577233e-01,  4.15331382e-01],\n",
       "       [-3.69868863e-01,  9.95172103e-01,  7.13991566e-01],\n",
       "       [ 1.20531407e+00, -2.57118247e-01, -9.09527271e-01],\n",
       "       [ 7.70831400e-03,  9.99081101e-01,  4.72116132e-01],\n",
       "       [ 8.74691059e-01,  1.40984884e+00, -1.88747436e+00],\n",
       "       [-2.78419425e-02,  1.08647956e+00,  4.23581408e-01],\n",
       "       [ 1.03636378e+00, -1.67452773e+00,  1.23435542e+00],\n",
       "       [ 7.85855488e-01,  8.84674903e-01,  4.07081356e-01],\n",
       "       [-2.80676594e-01, -3.46608598e+00,  1.24609416e+00],\n",
       "       [ 2.17620059e-01, -1.09318280e+00,  1.52884991e-01],\n",
       "       [-8.61781010e-01, -6.18123063e-01, -4.94141535e-01],\n",
       "       [-1.68012034e+00, -8.45553589e-01, -5.18033418e-02],\n",
       "       [ 4.04673627e-01, -2.09501732e+00,  2.83271982e-01],\n",
       "       [ 1.11428649e+00, -1.08550362e+00, -5.11364564e-01],\n",
       "       [ 1.14798007e+00, -1.02454958e+00,  1.09686129e+00],\n",
       "       [ 9.04374744e-01,  1.00676029e+00, -1.92133422e-01],\n",
       "       [-2.72867698e-01, -6.52805881e-02,  7.27387987e-01],\n",
       "       [-2.75840452e-02,  2.48273057e-01, -9.56637583e-01],\n",
       "       [ 3.42012862e-01, -6.35740951e-01,  4.58983367e-01],\n",
       "       [-6.30948295e-01, -1.43953415e-01,  2.50688951e-01],\n",
       "       [ 4.00614038e-01,  9.21507303e-01,  5.09384760e-01],\n",
       "       [-1.99726372e+00,  1.39878142e+00,  7.46991670e-01],\n",
       "       [-3.93324174e-01,  1.59300838e-01, -8.11683721e-01],\n",
       "       [-1.70297852e+00,  2.44875794e-01,  3.97814791e-01],\n",
       "       [-6.45016640e-01,  7.07679923e-01, -5.23784521e-01],\n",
       "       [ 3.79006773e-01,  9.85577233e-01,  4.15331382e-01],\n",
       "       [-1.87865529e+00,  2.74258803e-01,  8.54441468e-01],\n",
       "       [ 1.01627151e+00, -1.90429011e-01,  4.03079147e-01],\n",
       "       [ 9.06773128e-02,  1.20856495e+00, -1.75633371e-01],\n",
       "       [-3.29359918e-01, -9.99255134e-01, -9.49285114e-02],\n",
       "       [ 7.85855488e-01,  8.84674903e-01,  4.07081356e-01],\n",
       "       [ 7.07157298e-01,  8.62566155e-01, -1.23582124e+00],\n",
       "       [ 1.31660200e+00, -3.90376561e-02, -1.95098617e+00],\n",
       "       [ 4.71137344e-01,  7.32732683e-01, -2.04006880e-01],\n",
       "       [ 1.35780738e+00, -1.92124627e+00,  8.32190500e-01],\n",
       "       [ 9.95924986e-02,  1.41464096e-01, -5.79732850e-01],\n",
       "       [-1.07185471e+00, -3.26198829e-01, -6.61981467e-01],\n",
       "       [ 6.72714773e-01, -1.82306093e-01, -7.44306585e-01],\n",
       "       [ 5.14815337e-01,  1.00467785e+00, -1.76546165e-01],\n",
       "       [ 1.02289400e+00,  1.12884567e+00, -7.91348201e-01],\n",
       "       [ 4.28691322e-01,  2.74290803e-01,  4.44389574e-01],\n",
       "       [ 7.28768249e-01, -1.10114654e+00, -1.11162295e-01],\n",
       "       [-2.69890142e+00, -2.15459139e+00,  8.94318282e-01],\n",
       "       [-1.36044365e+00,  1.98895783e-01, -2.27593277e+00],\n",
       "       [ 6.03353204e-01,  2.26717079e-01, -1.28125103e+00],\n",
       "       [ 1.08571751e+00, -1.79501940e+00,  8.85463241e-01],\n",
       "       [ 4.14557029e-01,  8.98178771e-01,  4.63866107e-01],\n",
       "       [-1.01076368e+00,  9.58439064e-02,  2.10714157e-01],\n",
       "       [ 5.54437163e-01,  3.51421769e-01, -4.73806015e-01],\n",
       "       [ 1.17674509e+00, -9.66634028e-01,  4.87300534e-01],\n",
       "       [ 7.30047343e-01,  5.59685831e-01,  4.75828420e-01],\n",
       "       [ 4.91145184e-01,  4.44201182e-01,  6.81829743e-01],\n",
       "       [ 4.00614038e-01,  9.21507303e-01,  5.09384760e-01],\n",
       "       [ 7.85855488e-01,  8.84674903e-01,  4.07081356e-01],\n",
       "       [-1.44359309e+00, -3.87615149e-01, -2.85464399e+00],\n",
       "       [-1.52014175e+00,  4.08185439e-01,  1.02846842e+00],\n",
       "       [ 5.39480356e-01,  2.09372216e-01,  4.99552769e-01],\n",
       "       [ 9.80723710e-01, -1.12572286e+00, -1.71469980e-01],\n",
       "       [-1.30091661e+00,  2.21406829e-01,  3.14580838e-01],\n",
       "       [ 7.85855488e-01,  8.84674903e-01,  4.07081356e-01],\n",
       "       [ 3.93471885e-01, -2.29105495e-01,  7.73805217e-01],\n",
       "       [-2.94841312e-01, -2.94111537e-01, -4.70254415e-01],\n",
       "       [ 3.00909017e-01, -4.96907192e-01,  1.08350446e+00],\n",
       "       [ 9.82394599e-02,  5.21774980e-01,  6.44561116e-01],\n",
       "       [ 2.38365980e-01,  5.79790434e-01,  1.39399714e-01],\n",
       "       [-9.09734792e-01, -2.15908483e-01,  1.72087853e-01],\n",
       "       [-7.76717578e-01,  1.09607443e+00,  7.22241592e-01],\n",
       "       [ 5.05279476e-01, -1.79686787e-01,  6.62353210e-01],\n",
       "       [-2.19271180e+00, -1.05927294e+00,  9.99253967e-01],\n",
       "       [ 7.85855488e-01,  8.84674903e-01,  4.07081356e-01],\n",
       "       [ 7.48861577e-01, -7.36643281e-01,  4.50733341e-01],\n",
       "       [ 1.04281963e+00, -1.20360757e+00, -1.71202304e+00],\n",
       "       [-2.31300884e+00, -2.22280000e+00, -2.67504341e+00],\n",
       "       [ 4.05824504e-01, -8.97182247e-01,  2.33354500e-01],\n",
       "       [ 1.13340112e+00, -4.24541011e-01, -1.89433438e+00],\n",
       "       [ 2.58687570e-02, -6.54784034e-01, -6.85980262e-01],\n",
       "       [-6.72243441e-01,  5.95439781e-01,  8.49167922e-01],\n",
       "       [-4.13258442e-01,  2.29851648e-01, -5.51662092e-01],\n",
       "       [ 8.60427523e-01, -1.34303782e+00,  6.67995543e-01],\n",
       "       [-2.87964009e+00, -7.17040804e-01,  6.92168157e-01],\n",
       "       [ 7.56732754e-01, -2.40657143e+00,  1.77153817e-01],\n",
       "       [-1.40471399e-01, -1.94269105e-01,  8.76604559e-01],\n",
       "       [ 9.95835552e-01, -1.88663865e+00,  9.28314504e-01],\n",
       "       [-8.42110503e-02,  1.14562925e+00, -4.62505117e+00],\n",
       "       [ 2.84883231e-02,  2.20114440e-01,  7.58826833e-01],\n",
       "       [-1.17728758e+00,  1.21438963e+00,  5.45400935e-01],\n",
       "       [ 6.40385796e-02,  1.32715978e-01,  8.07361557e-01],\n",
       "       [ 1.06570967e+00, -1.50648790e+00, -3.73381687e-04],\n",
       "       [ 5.00955880e-02,  1.56044510e-01,  8.52880210e-01],\n",
       "       [ 1.05744893e+00, -5.47243461e-01,  9.24416306e-01],\n",
       "       [ 4.00614038e-01,  9.21507303e-01,  5.09384760e-01],\n",
       "       [-1.61294712e+00, -1.46164162e+00, -2.84688103e+00],\n",
       "       [ 5.88057174e-01,  6.30356496e-01, -1.14384133e-02],\n",
       "       [-1.96307126e+00, -1.56746149e+00, -2.39337081e+00],\n",
       "       [ 6.09664439e-01,  5.66286565e-01,  8.26149642e-02],\n",
       "       [ 3.79006773e-01,  9.85577233e-01,  4.15331382e-01],\n",
       "       [ 4.14557029e-01,  8.98178771e-01,  4.63866107e-01],\n",
       "       [ 7.56541453e-01, -1.80601199e+00,  1.51111697e-01],\n",
       "       [ 7.85855488e-01,  8.84674903e-01,  4.07081356e-01],\n",
       "       [ 7.85855488e-01,  8.84674903e-01,  4.07081356e-01],\n",
       "       [ 2.67971351e-01,  4.45723365e-01, -7.23425335e-02],\n",
       "       [ 1.00932066e+00, -1.94160125e+00,  6.93541725e-01],\n",
       "       [ 4.91145184e-01,  4.44201182e-01,  6.81829743e-01],\n",
       "       [ 5.89075731e-01,  7.44693790e-01, -1.78053615e-01],\n",
       "       [-1.19137519e+00, -2.20382863e+00,  1.24919779e+00],\n",
       "       [-1.47702726e-01, -9.82738975e-02,  4.34360440e-01],\n",
       "       [-1.67901866e-01,  7.90817040e-01, -4.77518303e-01],\n",
       "       [ 9.20266890e-02,  7.32107483e-01,  3.57017950e-02],\n",
       "       [ 1.30332905e+00, -1.15219285e+00, -1.82397098e+00],\n",
       "       [ 2.50975848e-01, -4.61100386e-01, -1.16895889e+00],\n",
       "       [-2.78419425e-02,  1.08647956e+00,  4.23581408e-01],\n",
       "       [-1.58989289e+00,  1.06524898e-01,  1.14273413e+00],\n",
       "       [-3.05400158e+00,  1.28782464e+00,  1.05993402e+00],\n",
       "       [ 4.48949210e-01,  6.86678337e-01,  3.27107786e-01],\n",
       "       [ 3.79006773e-01,  9.85577233e-01,  4.15331382e-01],\n",
       "       [-2.31906894e+00,  1.30155830e+00,  8.06792492e-01],\n",
       "       [-5.35404958e-01, -1.85905603e+00, -2.43105781e+00],\n",
       "       [ 1.20427594e-01,  5.67829326e-01,  1.13446450e-01],\n",
       "       [ 4.48620848e-01,  2.54780784e-01, -5.76856984e-01],\n",
       "       [-1.63093079e+00,  4.73104026e-01,  9.73305220e-01],\n",
       "       [-6.51338736e-01,  1.34569696e+00, -6.87231913e-01],\n",
       "       [ 3.77423599e-01, -7.32904090e-01,  1.55609845e-01],\n",
       "       [ 7.85855488e-01,  8.84674903e-01,  4.07081356e-01],\n",
       "       [ 2.52500272e-01, -4.40975348e-02,  1.19923182e-01],\n",
       "       [ 3.36296527e-01,  8.80283042e-01, -7.20483644e-01],\n",
       "       [ 1.03636378e+00, -1.67452773e+00,  1.23435542e+00]])"
      ]
     },
     "execution_count": 27,
     "metadata": {},
     "output_type": "execute_result"
    }
   ],
   "source": [
    "df_Factors = fa.fit_transform(df_transformed)\n",
    "df_Factors"
   ]
  },
  {
   "cell_type": "code",
   "execution_count": 28,
   "metadata": {},
   "outputs": [
    {
     "data": {
      "text/html": [
       "<div>\n",
       "<style scoped>\n",
       "    .dataframe tbody tr th:only-of-type {\n",
       "        vertical-align: middle;\n",
       "    }\n",
       "\n",
       "    .dataframe tbody tr th {\n",
       "        vertical-align: top;\n",
       "    }\n",
       "\n",
       "    .dataframe thead th {\n",
       "        text-align: right;\n",
       "    }\n",
       "</style>\n",
       "<table border=\"1\" class=\"dataframe\">\n",
       "  <thead>\n",
       "    <tr style=\"text-align: right;\">\n",
       "      <th></th>\n",
       "      <th>F0</th>\n",
       "      <th>F1</th>\n",
       "      <th>F2</th>\n",
       "    </tr>\n",
       "  </thead>\n",
       "  <tbody>\n",
       "    <tr>\n",
       "      <th>0</th>\n",
       "      <td>-1.569935</td>\n",
       "      <td>0.453757</td>\n",
       "      <td>-0.872087</td>\n",
       "    </tr>\n",
       "    <tr>\n",
       "      <th>1</th>\n",
       "      <td>-0.047328</td>\n",
       "      <td>0.183657</td>\n",
       "      <td>-0.058263</td>\n",
       "    </tr>\n",
       "    <tr>\n",
       "      <th>2</th>\n",
       "      <td>0.168763</td>\n",
       "      <td>0.333000</td>\n",
       "      <td>-0.068831</td>\n",
       "    </tr>\n",
       "    <tr>\n",
       "      <th>3</th>\n",
       "      <td>-0.679136</td>\n",
       "      <td>0.145746</td>\n",
       "      <td>0.110470</td>\n",
       "    </tr>\n",
       "    <tr>\n",
       "      <th>4</th>\n",
       "      <td>0.337458</td>\n",
       "      <td>1.100532</td>\n",
       "      <td>-1.970820</td>\n",
       "    </tr>\n",
       "    <tr>\n",
       "      <th>...</th>\n",
       "      <td>...</td>\n",
       "      <td>...</td>\n",
       "      <td>...</td>\n",
       "    </tr>\n",
       "    <tr>\n",
       "      <th>145</th>\n",
       "      <td>0.377424</td>\n",
       "      <td>-0.732904</td>\n",
       "      <td>0.155610</td>\n",
       "    </tr>\n",
       "    <tr>\n",
       "      <th>146</th>\n",
       "      <td>0.785855</td>\n",
       "      <td>0.884675</td>\n",
       "      <td>0.407081</td>\n",
       "    </tr>\n",
       "    <tr>\n",
       "      <th>147</th>\n",
       "      <td>0.252500</td>\n",
       "      <td>-0.044098</td>\n",
       "      <td>0.119923</td>\n",
       "    </tr>\n",
       "    <tr>\n",
       "      <th>148</th>\n",
       "      <td>0.336297</td>\n",
       "      <td>0.880283</td>\n",
       "      <td>-0.720484</td>\n",
       "    </tr>\n",
       "    <tr>\n",
       "      <th>149</th>\n",
       "      <td>1.036364</td>\n",
       "      <td>-1.674528</td>\n",
       "      <td>1.234355</td>\n",
       "    </tr>\n",
       "  </tbody>\n",
       "</table>\n",
       "<p>150 rows × 3 columns</p>\n",
       "</div>"
      ],
      "text/plain": [
       "           F0        F1        F2\n",
       "0   -1.569935  0.453757 -0.872087\n",
       "1   -0.047328  0.183657 -0.058263\n",
       "2    0.168763  0.333000 -0.068831\n",
       "3   -0.679136  0.145746  0.110470\n",
       "4    0.337458  1.100532 -1.970820\n",
       "..        ...       ...       ...\n",
       "145  0.377424 -0.732904  0.155610\n",
       "146  0.785855  0.884675  0.407081\n",
       "147  0.252500 -0.044098  0.119923\n",
       "148  0.336297  0.880283 -0.720484\n",
       "149  1.036364 -1.674528  1.234355\n",
       "\n",
       "[150 rows x 3 columns]"
      ]
     },
     "execution_count": 28,
     "metadata": {},
     "output_type": "execute_result"
    }
   ],
   "source": [
    "df_Factors = pd.DataFrame(df_Factors, columns =['F0','F1','F2'])\n",
    "df_Factors"
   ]
  },
  {
   "cell_type": "markdown",
   "metadata": {},
   "source": [
    "#### 19.Print the number of observations and number of columns in the new dataframe. \n"
   ]
  },
  {
   "cell_type": "code",
   "execution_count": 29,
   "metadata": {},
   "outputs": [
    {
     "data": {
      "text/plain": [
       "(150, 3)"
      ]
     },
     "execution_count": 29,
     "metadata": {},
     "output_type": "execute_result"
    }
   ],
   "source": [
    "df_Factors.shape"
   ]
  }
 ],
 "metadata": {
  "kernelspec": {
   "display_name": "Python 3 (ipykernel)",
   "language": "python",
   "name": "python3"
  },
  "language_info": {
   "codemirror_mode": {
    "name": "ipython",
    "version": 3
   },
   "file_extension": ".py",
   "mimetype": "text/x-python",
   "name": "python",
   "nbconvert_exporter": "python",
   "pygments_lexer": "ipython3",
   "version": "3.9.13"
  }
 },
 "nbformat": 4,
 "nbformat_minor": 4
}
