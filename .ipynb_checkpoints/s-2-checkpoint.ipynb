{
 "cells": [
  {
   "cell_type": "markdown",
   "metadata": {},
   "source": [
    "# Tutorial 6: Factor Analysis to Measure Tolerance\n",
    "**Date**: March 2023\n",
    "\n",
    "**Background**\n",
    "In the previous tutorial, you assessed the reliability and validity of questionnaries. In this tutorial, you will peform an exploratory factor analysis (EFA) to measure tolerance on the following case-study.\n",
    "\n",
    "**Case-Study on Tolerance**\n",
    "The goal of this case-study is to examine the attitude of 150 students towards tolerance where tolerance refers to the degree of diversity. The researchers involved in this case-study developed eight questions to model various expressions of tolerance. The questions are provided below:\n",
    "\n",
    "\n",
    "**Table 1**. Description of variables in the dataset\n",
    "\n",
    "|id|variable   |description                                                                                                                                                     |\n",
    "|------|-----------|----------------------------------------------------------------------------------------------------------------------------------------------------------------|\n",
    "|1     |id         |annoymized unique identifier per individual                                                                                                                                                       |\n",
    "|2     |age        |Age of student                                                                                                                                                                                                          |\n",
    "|3     |height     |Height (scale in cm, e.g. 183)                                                                                                                                  |\n",
    "|4     |country    |Where are you come from? (Country)                                                                                                                              |\n",
    "|5     |language   |How many language you speak at home to your family?                                                                                                             |\n",
    "|6     |freq_travel|How many different countries have you travelled to?                                                                                                                                                                   |\n",
    "|7     |q1         |five-point Likert Scale from 'strongly disagree' to 'strongly agree': [People should have the right to live how they wish]|\n",
    "|8    |q2         |five-point Likert Scale from 'strongly disagree' to 'strongly agree': [It is important that people have the freedom to live their life as they choose]     |\n",
    "|9   |q3         |five-point Likert Scale from 'strongly disagree' to 'strongly agree': [ It is okay for people to live as they wish as long as they do not harm other people]                                    |\n",
    "|10    |q4         |five-point Likert Scale from 'strongly disagree' to 'strongly agree': [I respect other people’s beliefs and opinions]        |\n",
    "|11    |q5         |five-point Likert Scale from 'strongly disagree' to 'strongly agree': [I respect other people’s opinions even when I do not agree]   |\n",
    "|12    |q6         |five-point Likert Scale from 'strongly disagree' to 'strongly agree': [I like to spend time with people who are different from me]                                         |\n",
    "|13    |q7         |five-point Likert Scale from 'strongly disagree' to 'strongly agree': [I like people who challenge me to think about the world in a different way]                            |\n",
    "|14   |q8         |five-point Likert Scale from 'strongly disagree' to 'strongly agree': [Society benefits from a diversity of traditions and lifestyles]                            |\n",
    "                 |\n",
    "\n",
    "\n",
    "\n",
    "The responses to the survey questions were recorded in the \"tolerance survey dataset\". \n",
    "\n",
    "The dataset is available here: https://raw.githubusercontent.com/MaastrichtU-IDS/global-studies/main/semester4/tutorial4/inputs/tolerance_survey_data.csv \n",
    "\n",
    "\n",
    "**Today's Objectives**\n",
    "\n",
    "In today's tutorial, you will conduct an exploratory factor analysis (EFA) on the given dataset. The goal of the factor analyis is as follows:\n",
    "\n",
    "- Conduct a Kaiser-Meyer-Olkin (KMO) test to assess the suitability of survey data (only items q1-q8) for factor analysis\n",
    "- Find the appropriate number of Factors for the given survey items (only q1-q8)\n",
    "- Interpret the factor loadings and find out which survey items/variables are related to which factors\n",
    "- Compute the different types of variance to model the interrelationships among variables\n",
    "\n",
    "**Intended Learning Outcomes**\n",
    "- M5. Understand the fundamentals of factor analysis and identify opportunities to combine variables;\n",
    "\n",
    "- M6. Conduct your own factor analysis in Python;\n"
   ]
  },
  {
   "cell_type": "markdown",
   "metadata": {},
   "source": [
    "### Install the factor_analyzer package\n",
    "\n",
    "#### For MacOS:\n",
    "Type Command + Space Bar on your Mac Keyboard. Type in “Terminal”. Open the terminal.\n",
    "Type `pip install factor_analyzer==0.3.2` and hit enter.\n",
    "Restart the Kernel of your Jupyter Notebook. Now try to import: `from factor_analyzer import FactorAnalyzer` in a cell in Jupyter notebook.\n",
    "\n",
    "#### For Windows:\n",
    "Type “Anaconda prompt” in your window search option. Open the Anaconda Prompt.\n",
    "Type `pip install factor_analyzer==0.3.2` and hit enter.\n",
    "Restart the Kernel of your Jupyter Notebook. Now try to import: `from factor_analyzer import FactorAnalyzer` in a cell in Jupyter notebook.\n",
    "\n",
    "#### For Colab\n",
    "Run `!pip install factor_analyzer==0.3.2` in a Code cell. Now try to import: `from factor_analyzer import FactorAnalyzer` in a cell in the Colab notebook.\n"
   ]
  },
  {
   "cell_type": "markdown",
   "metadata": {},
   "source": [
    "#### Import the necessary libraries you will need to perform factor analysis on the survey data."
   ]
  },
  {
   "cell_type": "code",
   "execution_count": null,
   "metadata": {},
   "outputs": [],
   "source": [
    "import pandas as pd\n",
    "from factor_analyzer import FactorAnalyzer #package for Exploratory Factor Analysis (EFA)"
   ]
  },
  {
   "cell_type": "markdown",
   "metadata": {},
   "source": [
    "#### 0. Import the dataset\n",
    "Read the csv file and store it in a dataframe named, `df`."
   ]
  },
  {
   "cell_type": "code",
   "execution_count": null,
   "metadata": {},
   "outputs": [],
   "source": [
    "url = 'https://raw.githubusercontent.com/MaastrichtU-IDS/global-studies/main/semester4/tutorial4/inputs/tolerance_survey_data.csv'\n",
    "df = pd.read_csv(url)"
   ]
  },
  {
   "cell_type": "markdown",
   "metadata": {},
   "source": [
    "#### 1. Drop the columns: 'id' , 'age', 'height', 'country', 'language' and 'freq_travel' of `df`\n",
    "For conducting factor analysis we are only interested in questions q1-q8 as they are related to tolerance. We are not interested in studying the attributes of respondents."
   ]
  },
  {
   "cell_type": "code",
   "execution_count": null,
   "metadata": {},
   "outputs": [],
   "source": [
    "df = df.drop(['id','age','height','country','language','freq_travel'], axis=1)"
   ]
  },
  {
   "cell_type": "markdown",
   "metadata": {},
   "source": [
    "#### 2. Transform the variables from the likert scale to the numbers by using the following mapping:\n",
    "\n",
    "Strongly Agree ---> 5\n",
    "\n",
    "Agree ---> 4\n",
    "\n",
    "Neutral ---> 3\n",
    "\n",
    "Disagree ---> 2\n",
    "\n",
    "Strongly Disagree ---> 1"
   ]
  },
  {
   "cell_type": "code",
   "execution_count": null,
   "metadata": {},
   "outputs": [],
   "source": [
    "df_transformed = df.replace(['Strongly Agree',\n",
    "                   'Agree', \n",
    "                   'Neutral', \n",
    "                   'Disagree', \n",
    "                   'Strongly Disagree'], [5,4,3,2,1])"
   ]
  },
  {
   "cell_type": "markdown",
   "metadata": {},
   "source": [
    "#### 3. Print the first 10 rows of the transformed dataframe."
   ]
  },
  {
   "cell_type": "code",
   "execution_count": null,
   "metadata": {},
   "outputs": [],
   "source": [
    "df_transformed.head(10)"
   ]
  },
  {
   "cell_type": "markdown",
   "metadata": {},
   "source": [
    "#### 4. Handle missing values\n",
    "\n",
    "Compute the mean of all the columns (questions). Replace the missing values by the mean of that particular column. Check the dataframe to see if the missing values have been replaced by the mean or not ( to do this you can print the values of different columns, for instance for q1: `df_transformed.q1.values`"
   ]
  },
  {
   "cell_type": "code",
   "execution_count": null,
   "metadata": {},
   "outputs": [],
   "source": [
    "#Mean of all the columns\n",
    "column_means = df_transformed.mean()\n",
    "column_means"
   ]
  },
  {
   "cell_type": "code",
   "execution_count": null,
   "metadata": {},
   "outputs": [],
   "source": [
    "#Replace missing values in each column by using the mean of that particular column\n",
    "df_transformed = df_transformed.fillna(column_means)"
   ]
  },
  {
   "cell_type": "code",
   "execution_count": null,
   "metadata": {},
   "outputs": [],
   "source": [
    "#Print the values of column q1\n",
    "df_transformed.q1.values"
   ]
  },
  {
   "cell_type": "markdown",
   "metadata": {},
   "source": [
    "##### Plot the correlation matrix \n",
    "\n",
    "What patterns do you observe ? Which survey items can be grouped together ?"
   ]
  },
  {
   "cell_type": "code",
   "execution_count": null,
   "metadata": {},
   "outputs": [],
   "source": [
    "df_transformed.corr().style.background_gradient(cmap=\"Blues\")"
   ]
  },
  {
   "cell_type": "markdown",
   "metadata": {},
   "source": [
    "#### 5. Check the suitability of the data for Factor Analysis using Kaiser-Meyer-Olkin (KMO) test\n",
    "\n",
    "Conduct a Kaiser-Meyer-Olkin (KMO) test to evaluate if the data is suitable for Factor Analysis or not. Interpret the results of the test.  \n",
    "\n",
    "Check the documentation of the `calculate_kmo()` function here: https://factor-analyzer.readthedocs.io/en/latest/factor_analyzer.html?highlight=kmo#factor_analyzer.factor_analyzer.calculate_kmo  and use it to check the suitability of the transformed dataframe (without missing values) for factor analysis. \n",
    "\n",
    "Interpret the KMO value as per the table provided in the lecture and decide if the dataset is suitable to perform factor analysis or not ?"
   ]
  },
  {
   "cell_type": "code",
   "execution_count": null,
   "metadata": {},
   "outputs": [],
   "source": [
    "from factor_analyzer import calculate_kmo\n",
    "#Write the code to check the suitability of the data for Factor Analysis"
   ]
  },
  {
   "cell_type": "markdown",
   "metadata": {},
   "source": [
    "#### 6. Conduct Exploratory Factor Analysis\n"
   ]
  },
  {
   "cell_type": "code",
   "execution_count": null,
   "metadata": {},
   "outputs": [],
   "source": [
    "#How many items are there in the survey ?\n",
    "no_of_items = df_transformed.shape[1] # we have 8 questions = number of columns = the second parameter of df.shape\n",
    "no_of_items"
   ]
  },
  {
   "cell_type": "code",
   "execution_count": null,
   "metadata": {},
   "outputs": [],
   "source": [
    "from factor_analyzer import FactorAnalyzer\n",
    "fa = FactorAnalyzer(n_factors=no_of_items, method='principal') # set number of factors to the number of items and method ='principal'\n",
    "fa.fit(df_transformed)"
   ]
  },
  {
   "cell_type": "markdown",
   "metadata": {},
   "source": [
    "Initially, the number of factors are set to the number of survey items in the dataset. So, in our case that will be `no_of_items = 8`. However, all the factors do not provide useful information about the common variance shared by the different survey items. Therefore, we will use the criteria disscussed in the lecutre to choose the optimal number of factors. \n",
    "\n",
    "- 1. Retain all the factors that are above the eigen value of 1\n",
    "- 2. Use the scree plot to determine the point of inflexion and the optimal number of factors. "
   ]
  },
  {
   "cell_type": "markdown",
   "metadata": {},
   "source": [
    "#### 7. Print the EigenValues for all the Factors. \n",
    "\n",
    "Go to the following documentation of the factor_analyzer package: https://factor-analyzer.readthedocs.io/en/latest/genindex.html . Find the function `get_eigenvalues()` and study its documentation. Apply the `get_eigenvalues()` function to print the eigen values of all the factors. "
   ]
  },
  {
   "cell_type": "code",
   "execution_count": null,
   "metadata": {},
   "outputs": [],
   "source": [
    "#Print the eigen values"
   ]
  },
  {
   "cell_type": "markdown",
   "metadata": {},
   "source": [
    "#### 8. Make a scree plot using matplotlib\n",
    "The x-axis should plot the number of factors. The y-axis should contain the corresponding eigen values. There should be a line connecting the points as illustrated in the lecture slides."
   ]
  },
  {
   "cell_type": "code",
   "execution_count": null,
   "metadata": {},
   "outputs": [],
   "source": [
    "import matplotlib.pyplot as plt\n",
    "\n",
    "# x-axis should print the number of factors (= no. of items so from 1 to 8)\n",
    "#Use the range function to get numbers from 1 to 8. Check documentation of range() here: https://www.w3schools.com/python/ref_func_range.asp\n",
    "x_axis = range() # fill the correct parameters for the range function\n",
    "\n",
    "# y-axis should contain the eigen values\n",
    "y_axis = "
   ]
  },
  {
   "cell_type": "code",
   "execution_count": null,
   "metadata": {},
   "outputs": [],
   "source": [
    "#Documentation: https://matplotlib.org/3.5.1/plot_types/index.html\n",
    "\n",
    "#First make a scatter plot (just plot the points without the line)\n",
    "\n",
    "\n",
    "#Then make a line plot connecting these points\n",
    "\n",
    "\n",
    "#Add a plot title\n",
    "plt.title('Scree Plot')\n",
    "\n",
    "# Add the lable for x-axis\n",
    "plt.xlabel('Put the appropriate label')\n",
    "\n",
    "# Add the lable for y-axis\n",
    "plt.ylabel('Put the appropriate label')\n",
    "\n",
    "#Add the grid lines (optional)\n",
    "plt.grid()\n",
    "\n",
    "#Show the plot\n",
    "plt.show()"
   ]
  },
  {
   "cell_type": "markdown",
   "metadata": {},
   "source": [
    "#### 9. How many factors will you choose depending on the eigen values and your interpretation of the scree plot?"
   ]
  },
  {
   "cell_type": "markdown",
   "metadata": {},
   "source": [
    "#### 10. Fit the Factor Analysis on the retained factors\n",
    "\n",
    "Now lets fit the factor analysis model again on the number of retained factors to compute the factor loadings for each of the 8 survey items\n",
    "\n",
    "Use the `FactorAnalyzer()` module and `fit()` function again to apply the new factor analysis model with the number of retained factors"
   ]
  },
  {
   "cell_type": "code",
   "execution_count": null,
   "metadata": {},
   "outputs": [],
   "source": [
    "# Put the n_factors equal to the number of factors retained\n",
    "# set rotation = 'varimax' which is a type of orthogonal rotation\n",
    "# set method = 'principal' for principal factor extraction method of exploratory factor analysis\n",
    "no_of_retained_factors = \n",
    "fa = FactorAnalyzer(n_factors = no_of_retained_factors , method='principal', rotation ='varimax') #default rotation is set to promax (oblique rotation)\n",
    "fa.fit(df_transformed) "
   ]
  },
  {
   "cell_type": "markdown",
   "metadata": {},
   "source": [
    "#### 11. Print the factor loadings matrix. \n",
    "Use `fa.loadings_` to print the factor loadings matrix"
   ]
  },
  {
   "cell_type": "code",
   "execution_count": null,
   "metadata": {},
   "outputs": [],
   "source": [
    "fa.loadings_"
   ]
  },
  {
   "cell_type": "markdown",
   "metadata": {},
   "source": [
    "#### 12. Create a pandas DataFrame named, `df_loadings` from the Factor loading array, `fa.loadings_`. \n",
    "If you have retained m factors then the names of the columns of the DataFrame should be: Factor 0, Factor 1, ........ Factor m-1. So if m=3 then your column names are: Factor 0, Factor 1 and Factor 2"
   ]
  },
  {
   "cell_type": "code",
   "execution_count": null,
   "metadata": {},
   "outputs": [],
   "source": [
    "#Use the following syntax to create a DataFrame from an array. Put the correct values for the array_name, index and columns\n",
    "# df_loadings = pd.DataFrame(array_name, index = put correct value here , columns = put correct value here )\n",
    "\n",
    "# After creating the df_loadings, try this-> df_loadings.style.background_gradient(cmap = \"Reds\")"
   ]
  },
  {
   "cell_type": "markdown",
   "metadata": {},
   "source": [
    "#### 13.Interpret the factor loadings \n",
    "1. Mention the most representative Factors (out of the retained Factors) for each survey item/question. Consider a threshold of above + 0.60 and below -0.60 for choosing the factor loadings.\n",
    "\n",
    "2. Mention the most representative survey items which load onto each of the retained Factors. \n",
    "\n",
    "Write your answer in the Markdown cell below.\n"
   ]
  },
  {
   "cell_type": "markdown",
   "metadata": {},
   "source": [
    "#### 14. Communalities\n",
    "Print the communalities for each of the survey items/questions.\n",
    "\n",
    "Go to the following documentation of the factor_analyzer package: https://factor-analyzer.readthedocs.io/en/latest/genindex.html . Find the function `get_communalities()` and study its documentation. Apply the `get_communalities()` function to print the communalities."
   ]
  },
  {
   "cell_type": "code",
   "execution_count": null,
   "metadata": {},
   "outputs": [],
   "source": [
    "#Print the communalities for each of the survey items/questions."
   ]
  },
  {
   "cell_type": "markdown",
   "metadata": {},
   "source": [
    "#### 15. Create a dataframe with one column and number of rows equal to the number of survey items to store the communalities for each survey item. "
   ]
  },
  {
   "cell_type": "code",
   "execution_count": null,
   "metadata": {},
   "outputs": [],
   "source": [
    "df_communalitites = pd.DataFrame(fa.get_communalities(),index=df_transformed.columns, columns =['Communalities'])\n",
    "df_communalitites"
   ]
  },
  {
   "cell_type": "markdown",
   "metadata": {},
   "source": [
    "#### 16. Variance in Factors\n",
    "Use the `get_factor_variance()` function to calculate the factor variance information, including variance, proportional variance and cumulative variance for each factor. Refer to the documentation here: https://factor-analyzer.readthedocs.io/en/latest/genindex.html and find out how to use the `get_factor_variance()`\n"
   ]
  },
  {
   "cell_type": "code",
   "execution_count": null,
   "metadata": {},
   "outputs": [],
   "source": [
    "#Print the variance for all retained factors"
   ]
  },
  {
   "cell_type": "markdown",
   "metadata": {},
   "source": [
    "Convert the above numpy array to a DataFrame, `df_variance` for a better representation of factor variances. Pay attention to the index names and column names."
   ]
  },
  {
   "cell_type": "code",
   "execution_count": null,
   "metadata": {},
   "outputs": [],
   "source": [
    "#Use the following syntax to create a DataFrame from an array. Put the correct values for the array_name, index and columns\n",
    "#df_variance = pd.DataFrame(array_name, index = put correct value here , columns = put correct value here )"
   ]
  },
  {
   "cell_type": "markdown",
   "metadata": {},
   "source": [
    "#### 17. Representation of survey data in terms of Factors\n",
    "Create a new dataframe, `df_Factors` by applying the computed factors to the original `df_transformed` dataframe containing 150 observations. By doing so you reduce the `df_transformed` dataframe from 8 items to the number of factors. Use the `fit_transform()` function from the documentation: https://factor-analyzer.readthedocs.io/en/latest/genindex.html"
   ]
  },
  {
   "cell_type": "code",
   "execution_count": null,
   "metadata": {},
   "outputs": [],
   "source": [
    "#Write the code here to represent the survey data in terms of Factors"
   ]
  },
  {
   "cell_type": "code",
   "execution_count": null,
   "metadata": {},
   "outputs": [],
   "source": [
    "#Convert the transformed array into a dataframe"
   ]
  }
 ],
 "metadata": {
  "kernelspec": {
   "display_name": "Python 3 (ipykernel)",
   "language": "python",
   "name": "python3"
  },
  "language_info": {
   "codemirror_mode": {
    "name": "ipython",
    "version": 3
   },
   "file_extension": ".py",
   "mimetype": "text/x-python",
   "name": "python",
   "nbconvert_exporter": "python",
   "pygments_lexer": "ipython3",
   "version": "3.9.13"
  }
 },
 "nbformat": 4,
 "nbformat_minor": 4
}
